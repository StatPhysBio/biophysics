{
 "cells": [
  {
   "cell_type": "markdown",
   "id": "e35db2aa",
   "metadata": {},
   "source": [
    "# Diffusion and the random walk"
   ]
  },
  {
   "cell_type": "markdown",
   "id": "c2fa182d",
   "metadata": {},
   "source": [
    "# Import modules\n",
    "___"
   ]
  },
  {
   "cell_type": "code",
   "execution_count": null,
   "id": "dd50b57c",
   "metadata": {},
   "outputs": [],
   "source": [
    "import numpy as np\n",
    "import matplotlib.pyplot as plt\n",
    "\n",
    "plt.style.use('custom.mplstyle')\n",
    "%config InlineBackend.figure_format = 'retina'"
   ]
  },
  {
   "cell_type": "markdown",
   "id": "1111480b",
   "metadata": {},
   "source": [
    "# Set up a random number generator \n",
    "___"
   ]
  },
  {
   "cell_type": "code",
   "execution_count": null,
   "id": "e86d639b",
   "metadata": {},
   "outputs": [],
   "source": [
    "rng = np.random.default_rng(seed=0)"
   ]
  },
  {
   "cell_type": "markdown",
   "id": "76e8f6cb",
   "metadata": {},
   "source": [
    "# A simple diffusion simulation\n",
    "___"
   ]
  },
  {
   "cell_type": "markdown",
   "id": "67ea74b3",
   "metadata": {},
   "source": [
    "We can simulate diffusion using coin flips and by taking discrete steps in space. Imagine we are moving on a line (one-dimensional motion). If we flip a coin and see a heads, we walk to the right. If we flip a coin and see a tails, we walk to the left. We can continue doing this for as long as we like. This is essentially what is known as a [random walk](https://en.wikipedia.org/wiki/Random_walk).\n",
    "\n",
    "Let's plot out how exactly we will simulate this. Say we want to walk for 5 steps. Imagine we also want to know the entirety of our random walk before we start, so we do all our coin flips in advance. We start with 5 random numbers.\n",
    "\n",
    "|  trial number    | Bernoulli trial 1 | Bernoulli trial 2 | Bernoulli trial 3 | Bernoulli trial 4 | Bernoulli trial 5 | \n",
    "| -----------      | -----------       |    ----------     | -----------       | -----------       | ------            |\n",
    "| Random movements 1    | 0.682             | 0.054             | 0.220             | 0.184             | 0.889             |\n",
    "\n",
    "Using a fair coin ($p = 0.5$), we can distinguish when we observed heads or tails by associating values $\\leq p$ with heads and otherwise with tails.\n",
    "\n",
    "|  trial number    | Bernoulli trial 1 | Bernoulli trial 2 | Bernoulli trial 3 | Bernoulli trial 4 | Bernoulli trial 5 | \n",
    "| -----------      | -----------       |    ----------     | -----------       | -----------       | ------            |\n",
    "| Random movements 1    | T                 | H                 | H                 | H                 | T                 |\n",
    "\n",
    "Computers don't distinguish binary outcomes using heads or tails. They use bools. Let's reframe the outcomes of our coin flips as answers to \"Is this a heads?\" instead of \"Heads or tails?\" Then an outcome of heads is associated with a value of True (T) and tails with a value of False (F).\n",
    "\n",
    "|  trial number    | Bernoulli trial 1 | Bernoulli trial 2 | Bernoulli trial 3 | Bernoulli trial 4 | Bernoulli trial 5 | \n",
    "| -----------      | -----------       |    ----------     | -----------       | -----------       | ------            |\n",
    "| Random movements 1    | F                 | T                 | T                 | T                 | F                 |\n",
    "\n",
    "We move to the left (-1) if our Bernoulli trial gave a value of False and to the right (+1) if our Bernoulli trial gave a value of True.\n",
    "\n",
    "|  trial number    | Bernoulli trial 1 | Bernoulli trial 2 | Bernoulli trial 3 | Bernoulli trial 4 | Bernoulli trial 5 | \n",
    "| -----------      | -----------       |    ----------     |  ----------       | -----------       | ------            |\n",
    "| Random movements 1    | -1                | 1                 | 1                 | 1                 | -1                |\n",
    "\n",
    "Then we can sum our movements cumulatively to get our path/walk. Summing a sequence of numbers cumulatively means calculating the partial sums of the sequence. E.g., if my sequence were $\\{1, 4, 5, 0, -8, 1 \\}$, then the cumulative sum is \n",
    "\n",
    "$$\n",
    "\\begin{align*}\n",
    "\\{&1, \\\\\n",
    "&1 + 4, \\\\\n",
    "&1 + 4 + 5, \\\\\n",
    "&1 + 4 + 5 + 0, \\\\\n",
    "&1 + 4 + 5 + 0 - 8, \\\\\n",
    "&1 + 4 + 5 + 0 - 8 + 1\\} \\\\\n",
    "&= \\{1, 5, 10, 10, 2, 3 \\}\n",
    "\\end{align*}\n",
    "$$\n",
    "\n",
    "Assuming our initial position is at the origin (0), summing our movements cumulatively gives\n",
    "\n",
    "\n",
    "|   trial number   | Position 0 | Position 1 | Position 2 | Position 3 | Position 4 | Position 5 |\n",
    "| -----------      | -----------|----------  |  --------- | ---------- | ------     | ------     |\n",
    "| Random walk 1    | 0          | -1         | 0          | 1          | 2          | 1          |\n",
    "\n",
    "Note that if our initial position is an even number, all positions at even times will be even, and all positions at odd times will be odd.\n",
    "\n",
    "In Numpy, it's straightfoward to simulate $N$ random walks with $L$ steps at the same time by using a matrix of random numbers.\n",
    "\n",
    "|  experiments     | Bernoulli trial 1 | Bernoulli trial 2 | Bernoulli trial 3 | ... | Bernoulli trial $L$ | \n",
    "| -----------      | -----------       |    ----------     | -----------       | -----------       | ------            |\n",
    "| Random movements 1    | 0.682             | 0.054             | 0.220             | ...            | 0.889             |\n",
    "| ...              | ...               | ...               | ...               |...             | ...               |\n",
    "| Random movements $N$  | 0.512             | 0.824             | 0.722             | ...            | 0.231             |\n",
    "\n",
    "We can go through the same process, perform cumluative sums, and get our paths. For simplicity, we assume all walks start at the origin in this example.\n",
    "\n",
    "| experiments      | Position 0 | Position 1 | Position 2 | Position 3 | ... | Position $L$ |\n",
    "| -----------      | -----------|----------  |  --------- | ---------- | ------     | ------     |\n",
    "| Random walk 1    | 0          | -1         | 0          | 1          | ...          | 15          |\n",
    "| ...              | ...        | ...        | ...        |...          | ...               |\n",
    "| Random walk $N$  | 0          | -1         | -2          | -3          | ...         | -27          |"
   ]
  },
  {
   "cell_type": "markdown",
   "id": "eab277fa",
   "metadata": {},
   "source": [
    "### Write a function to simulate random walks\n",
    "\n",
    "It should have as its parameters:\n",
    "- `rng`, a random number generator\n",
    "- `p`, the probability of seeing a heads\n",
    "- `num_steps`, the total number of steps to take during the walk (how many coin flips)\n",
    "- `num_walks`, the number of walks to generate (how many experiments)\n",
    "- `initial_positions`, a one-dimensional numpy array giving where each walk should start\n",
    "    - E.g., if all walks start at the origin, you would use `np.zeros(shape=num_walks)` as input for this parameter\n",
    "\n",
    "It should return:\n",
    "- `walks`, a two-dimensional numpy array containing the cumulative sums of the initial positions and random movements"
   ]
  },
  {
   "cell_type": "code",
   "execution_count": null,
   "id": "40fa5856",
   "metadata": {},
   "outputs": [],
   "source": [
    "def generate_random_walks(rng, p, num_steps, num_walks, initial_positions):\n",
    "    # Generate a matrix of random numbers with dimensions of num_walks by num_steps.\n",
    "    rands = rng.random(size=(num_walks, num_steps))\n",
    "    \n",
    "    # Create a numpy array called movements that stores what movements\n",
    "    # our coin flips have resulted in.\n",
    "    movements = np.ones(shape=(num_walks, num_steps))\n",
    "    \n",
    "    \"\"\"\n",
    "    By creating a numpy array of ones to store our movements,\n",
    "    we only need to set when the coin flips result in steps to the left,\n",
    "    i.e., when the movements are -1. Use rands to set where movements\n",
    "    should have values of -1. Recall we can access parts\n",
    "    of numpy arrays using booleans (boolean arrays).\n",
    "    E.g., if x = np.array([1, 2, 3, 4, 5]) and y = np.zeros(5),\n",
    "    then y[x >= 3] = 10 results in y = np.array([0, 0, 10, 10, 10]).\n",
    "    \"\"\"\n",
    "    # YOUR CODE HERE.\n",
    "    \n",
    "    # Create a numpy matrix to store the random walks.\n",
    "    # Notably, it has num_steps + 1 columns to include\n",
    "    # the initial position at the zeroth columns.\n",
    "    walks = np.zeros(shape=(num_walks, num_steps + 1))\n",
    "    walks[:, 0] = initial_positions\n",
    "    \n",
    "    \"\"\"\n",
    "    Set the remaining entries in the walks array to be what's in the movements array.\n",
    "    Recall we can access parts of numpy arrays by slicing.\n",
    "    E.g., if x = np.array([1, 2, 3, 4, 5]),\n",
    "    then x[0:2] = 10 results in x = np.array([10, 10, 3, 4, 5]).\n",
    "    In two dimensions, the following is a relevant example to what\n",
    "    you are expected to do. If x = np.array([[1, 2, 3], [4, 5, 6]]),\n",
    "    how do we set the third column to be equal to np.array([10, 11])?\n",
    "    x[:, 2] = np.array([10, 11]) results in np.array([[1, 2, 10], [4, 5, 11]]).\n",
    "    \"\"\"\n",
    "    # YOUR CODE HERE.\n",
    "    \n",
    "    \"\"\"\n",
    "    Cumulatively sum the values over the columns for each row in the walks array.\n",
    "    Use np.cumsum and axis = 1, docs: https://numpy.org/doc/stable/reference/generated/numpy.cumsum.html\n",
    "    \"\"\"\n",
    "    # YOUR CODE HERE\n",
    "    \n",
    "    return walks"
   ]
  },
  {
   "cell_type": "markdown",
   "id": "e534eb22",
   "metadata": {},
   "source": [
    "Check your function using a fair coin, `num_steps = 10`, `num_walks = 5`, and `initial_positions = np.zeros(shape=num_walks)`. Does the output seem sensible?"
   ]
  },
  {
   "cell_type": "code",
   "execution_count": null,
   "id": "56ddc459",
   "metadata": {},
   "outputs": [],
   "source": [
    "p = 0.5\n",
    "num_steps = 10\n",
    "num_walks = 5\n",
    "initial_positions = np.zeros(shape=num_walks)\n",
    "walks = generate_random_walks(rng, p, num_steps, num_walks, initial_positions)\n",
    "print(walks)"
   ]
  },
  {
   "cell_type": "markdown",
   "id": "409d2cb8",
   "metadata": {},
   "source": [
    "### Plot $x(t)$ vs. $t$ for all walks as lineplots."
   ]
  },
  {
   "cell_type": "code",
   "execution_count": null,
   "id": "97515d8b",
   "metadata": {},
   "outputs": [],
   "source": [
    "# Use this as your x-variable when plotting.\n",
    "times = np.arange(num_steps + 1)\n",
    "\n",
    "fig, ax = plt.subplots()\n",
    "\"\"\"\n",
    "Use a for loop and plot each random walk using ax.plot\n",
    "\"\"\"\n",
    "# YOUR CODE HERE.\n",
    "\n",
    "ax.set_xlabel('$t$')\n",
    "ax.set_ylabel('$x(t)$')\n",
    "fig.tight_layout()\n",
    "plt.show()"
   ]
  },
  {
   "cell_type": "markdown",
   "id": "aab69be6",
   "metadata": {},
   "source": [
    "### Run your function using a fair coin, `num_steps=1000`, `num_walks=20`, and all initial positions at the origin. Plot $x(t)$ vs. $t$ for these all walks on the same figure."
   ]
  },
  {
   "cell_type": "code",
   "execution_count": null,
   "id": "efc5c78c",
   "metadata": {},
   "outputs": [],
   "source": [
    "\"\"\"\n",
    "Run the simulation with those parameters.\n",
    "\"\"\"\n",
    "# YOUR CODE HERE.\n",
    "\n",
    "# Use this as your x-variable when plotting.\n",
    "times = np.arange(num_steps + 1)\n",
    "\n",
    "fig, ax = plt.subplots()\n",
    "\"\"\"\n",
    "Use a for loop and plot each random walk using ax.plot\n",
    "\"\"\"\n",
    "# YOUR CODE HERE.\n",
    "    \n",
    "ax.set_xlabel('$t$')\n",
    "ax.set_ylabel('$x(t)$')\n",
    "fig.tight_layout()\n",
    "plt.show()"
   ]
  },
  {
   "cell_type": "markdown",
   "id": "19774c46",
   "metadata": {},
   "source": [
    "## Statistics of the random walk"
   ]
  },
  {
   "cell_type": "markdown",
   "id": "f75b0cee",
   "metadata": {},
   "source": [
    "### Run your function using a fair coin, `num_steps=1000`, `num_walks=5000`, and all initial positions at the origin. Plot $\\langle x(t) \\rangle$ vs. $t$, $\\langle x(t)^2 \\rangle$ vs. $t$, and $\\mathrm{var}(x(t))$ vs. $t$ on three separate axes.\n",
    "\n",
    "- Use `np.mean` with keyword `axis=0` to find the mean for each column (computes the mean over all walks at each timestep by summing over all the rows for each column and dividing by the number of rows)\n",
    "- Use `np.var` with keyword `axis=0` to find the variance for each column (computes the variance over all walks at each timestep)"
   ]
  },
  {
   "cell_type": "code",
   "execution_count": null,
   "id": "80f2385d",
   "metadata": {},
   "outputs": [],
   "source": [
    "\"\"\"\n",
    "Run the simulation with those parameters.\n",
    "\"\"\"\n",
    "# YOUR CODE HERE.\n",
    "\n",
    "times = np.arange(num_steps + 1)\n",
    "\n",
    "fig, axes = plt.subplots(ncols=3, nrows=1, figsize=(12, 4))\n",
    "\n",
    "\"\"\"\n",
    "Plot the mean using axes[0].plot\n",
    "\"\"\"\n",
    "# YOUR CODE HERE.\n",
    "\n",
    "axes[0].set_xlabel('$t$')\n",
    "axes[0].set_ylabel('$\\langle x(t) \\\\rangle$')\n",
    "\n",
    "\"\"\"\n",
    "Plot the mean of the square using axes[1].plot\n",
    "\"\"\"\n",
    "# YOUR CODE HERE.\n",
    "\n",
    "axes[1].set_xlabel('$t$')\n",
    "axes[1].set_ylabel('$\\langle x(t)^2 \\\\rangle$')\n",
    "\n",
    "\"\"\"\n",
    "Plot the variance using axes[2].plot\n",
    "\"\"\"\n",
    "# YOUR CODE HERE.\n",
    "\n",
    "axes[2].set_xlabel('$t$')\n",
    "axes[2].set_ylabel('$\\mathrm{var}(x(t))$')\n",
    "\n",
    "fig.tight_layout()\n",
    "plt.show()"
   ]
  },
  {
   "cell_type": "markdown",
   "id": "450eb38c",
   "metadata": {},
   "source": [
    "### What is the relationship between $\\langle x(t) \\rangle$ and $t$ when using a fair coin?"
   ]
  },
  {
   "cell_type": "markdown",
   "id": "bdfd35a1",
   "metadata": {},
   "source": [
    "**your answer:** "
   ]
  },
  {
   "cell_type": "markdown",
   "id": "f53ea9c1",
   "metadata": {},
   "source": [
    "### What is the relationship between $\\langle x(t)^2 \\rangle$  and $t$?"
   ]
  },
  {
   "cell_type": "markdown",
   "id": "e8d8bf48",
   "metadata": {},
   "source": [
    "**your answer:** "
   ]
  },
  {
   "cell_type": "markdown",
   "id": "889bb856-8cdb-4a1c-b43f-bb3bfaa4e375",
   "metadata": {},
   "source": [
    "### What is the relationship between $\\mathrm{var}(x(t))$  and $t$? How does it compare to the relationship between $\\langle x(t)^2 \\rangle$?"
   ]
  },
  {
   "cell_type": "markdown",
   "id": "e313fef9-0a53-4bed-8de5-3aabb4bef39e",
   "metadata": {},
   "source": [
    "**your answer:** "
   ]
  },
  {
   "cell_type": "markdown",
   "id": "5243cd91-a4a1-45e2-881c-3a14eab237bc",
   "metadata": {},
   "source": [
    "### What happens to the relationship between $\\langle x(t)^2 \\rangle$ and $t$ as you increase the bias of the coin? What about $\\mathrm{var}(x(t))$ and $t$?\n",
    "\n",
    "Try $p \\in \\{0.505, 0.51, 0.52, 0.55, 0.6, 0.7, 0.8, 0.9, 1\\}$."
   ]
  },
  {
   "cell_type": "markdown",
   "id": "b4a449e6-5919-401e-a031-872dbf9b4f89",
   "metadata": {},
   "source": [
    "**your answer:** "
   ]
  },
  {
   "cell_type": "markdown",
   "id": "cec8e902-9609-4709-beb5-13dd5d669f34",
   "metadata": {},
   "source": [
    "### How does having different initial positions impact these statistics? What could you do to \"correct\" these statistics to what you observed previously?\n",
    "\n",
    "Try `initial_positions = np.zeros(shape=num_walks) + 10` and `initial_positions = np.arange(num_walks)`."
   ]
  },
  {
   "cell_type": "markdown",
   "id": "e9cbbba4-fc4d-4f71-a60c-98e96fad02ce",
   "metadata": {},
   "source": [
    "**your answer:** "
   ]
  },
  {
   "cell_type": "markdown",
   "id": "863b9e28-da63-4ce5-a6f4-bfa7fe0306a4",
   "metadata": {},
   "source": [
    "## Future directions"
   ]
  },
  {
   "cell_type": "markdown",
   "id": "167dd196-abf2-42cd-9d07-e49e65b8f130",
   "metadata": {},
   "source": [
    "### Discuss--no need to implement--what and how you would alter in your simulation to implement the following:\n",
    "\n",
    "1. The possibility of not moving at all. I.e., walkers can move to the left (-1), to the right (+1), or remain where they are (0). What if these three movements had unequal probabilities of occurring?\n",
    "2. Different magnitudes for movements. E.g., what if walkers could only move one step to the left (-1) and two steps to the right (+2).\n",
    "3. Previous movements impact the probabilities of your next movements. (The random walk has memory.) E.g., moving to the left in the previous step increases the probability of moving to the right in the next step.\n",
    "4. Walkers are constrained to wander within some boundary of space. E.g., walkers only walk in $[-10, 10]$ and turn around when they try to walk beyond $x=-10$ or $x=10$.\n",
    "5. Walkers can wander in two dimensions. What about three dimensions?"
   ]
  },
  {
   "cell_type": "markdown",
   "id": "b32911a8-8c77-4acd-83c9-b87812fea45e",
   "metadata": {},
   "source": [
    "**your answer:** "
   ]
  }
 ],
 "metadata": {
  "kernelspec": {
   "display_name": "biophys2022",
   "language": "python",
   "name": "biophys2022"
  },
  "language_info": {
   "codemirror_mode": {
    "name": "ipython",
    "version": 3
   },
   "file_extension": ".py",
   "mimetype": "text/x-python",
   "name": "python",
   "nbconvert_exporter": "python",
   "pygments_lexer": "ipython3",
   "version": "3.8.10"
  }
 },
 "nbformat": 4,
 "nbformat_minor": 5
}
