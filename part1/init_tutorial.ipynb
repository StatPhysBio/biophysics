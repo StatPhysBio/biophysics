{
 "cells": [
  {
   "cell_type": "markdown",
   "id": "928e0acc-575f-4c3c-9a15-53bca19d73df",
   "metadata": {},
   "source": [
    "# Barebones Python, Numpy, Matplotlib\n",
    "___\n",
    "\n",
    "This notebook is intended to give the user an understanding of the bare minimum of Python, Numpy, and Matplotlib.\n",
    "\n",
    "\n",
    "If you have no prior experience with Python, please set aside some time to go through lessons 3 through 10 in [Introduction to Programming in the Biological Sciences Bootcamp](https://justinbois.github.io/bootcamp/2021/index.html) by Justin Bois. Even if you have prior experience with Python, going through lessons 3 through 10 would serve you well.\n",
    "\n",
    "If you have no prior experience with Numpy, please set aside some time to go through this [notebook](https://github.com/tirthajyoti/Machine-Learning-with-Python/blob/master/Pandas%20and%20Numpy/Numpy_operations.ipynb) by Tirthajyoti Sarkar. Even if you have prior experience with Numpy, going through this notebook would serve you well as a refresher at the very least.\n",
    "\n",
    "If you have no prior experience with Matplotlib, please set aside some time to go through this [tutorials](https://matplotlib.org/stable/tutorials/index) by Matplotlib. Things start to get interesting in the intermediate tutorials. Even if you have prior experience with Matplotlib, going through this notebook would serve you well as a refresher at the very least and show you some best practices by the Matplotlib community. If these Matplotlib tutorials are overwhelming--they are quite thorough--you can come up with different mathematical functions that you're aware of and try plotting them in different ways. E.g., try the following:\n",
    "\n",
    "- Plot spherical harmonics on a sphere\n",
    "- Plot the first 4 wave functions on the same figure for a) the infinite square well, b) quantum simple harmonic oscillator, c) hydrogen atom. Have (a), (b), and (c) be on different figures. For each figure, have a legend showing which line corresponds to which wave function.\n",
    "- Plot different electric potentials.\n",
    "- Plot the Carnot cycle.\n",
    "\n",
    "Try to come up with your interesting things to plot too! The possibilities are endless!"
   ]
  },
  {
   "cell_type": "markdown",
   "id": "0968c8bf-dfd6-42f7-9f49-ff893be252b8",
   "metadata": {},
   "source": [
    "# Python\n",
    "___\n"
   ]
  },
  {
   "cell_type": "markdown",
   "id": "72bb179c-bb78-4f85-b7fc-708ead0b57c9",
   "metadata": {},
   "source": [
    "## Hello, World!\n",
    "\n",
    "\n",
    "When first learning a language, it's typical to write a [\"Hello, World!\" program](https://en.wikipedia.org/wiki/%22Hello,_World!%22_program) so you can become acquainted with what will become your best friend: the print function."
   ]
  },
  {
   "cell_type": "code",
   "execution_count": 1,
   "id": "d9ffbccd-49c6-4f13-8f27-5b6cca21f470",
   "metadata": {},
   "outputs": [
    {
     "name": "stdout",
     "output_type": "stream",
     "text": [
      "Hello, World!\n"
     ]
    }
   ],
   "source": [
    "print('Hello, World!')"
   ]
  },
  {
   "cell_type": "markdown",
   "id": "9b22d541-cd1b-47cb-b130-5962b463a1cc",
   "metadata": {},
   "source": [
    "## Comments\n",
    "\n",
    "Code can be commented out by prefacing it with `#`. Anything after the `#` in the line will be ignored."
   ]
  },
  {
   "cell_type": "code",
   "execution_count": 2,
   "id": "fcca6a82-50d4-4310-a5f8-715be6ac8f35",
   "metadata": {},
   "outputs": [],
   "source": [
    "# print('Hello, World!')"
   ]
  },
  {
   "cell_type": "markdown",
   "id": "451d8907-5611-4c9c-971d-d29b41429b65",
   "metadata": {},
   "source": [
    "## Variables"
   ]
  },
  {
   "cell_type": "markdown",
   "id": "3cc5d8af-0561-4eec-af32-350463cb43de",
   "metadata": {},
   "source": [
    "A variable in Python is an object with a type and a value. Some basic types in Python are strings, integers, and floats (numbers with a decimal)."
   ]
  },
  {
   "cell_type": "code",
   "execution_count": 3,
   "id": "f531c108-59ec-4f3d-950f-a3f1ffad8a12",
   "metadata": {},
   "outputs": [
    {
     "data": {
      "text/plain": [
       "int"
      ]
     },
     "execution_count": 3,
     "metadata": {},
     "output_type": "execute_result"
    }
   ],
   "source": [
    "type(2)"
   ]
  },
  {
   "cell_type": "code",
   "execution_count": 4,
   "id": "b74de475-4449-49e0-bd1c-901a45811521",
   "metadata": {},
   "outputs": [
    {
     "data": {
      "text/plain": [
       "float"
      ]
     },
     "execution_count": 4,
     "metadata": {},
     "output_type": "execute_result"
    }
   ],
   "source": [
    "type(2.0)"
   ]
  },
  {
   "cell_type": "code",
   "execution_count": 5,
   "id": "984dacad-6846-4453-8017-cd1f34611bf3",
   "metadata": {},
   "outputs": [
    {
     "data": {
      "text/plain": [
       "float"
      ]
     },
     "execution_count": 5,
     "metadata": {},
     "output_type": "execute_result"
    }
   ],
   "source": [
    "type(2e-2)"
   ]
  },
  {
   "cell_type": "code",
   "execution_count": 6,
   "id": "647b469d-7df3-45fe-b773-87deb502307a",
   "metadata": {},
   "outputs": [
    {
     "data": {
      "text/plain": [
       "int"
      ]
     },
     "execution_count": 6,
     "metadata": {},
     "output_type": "execute_result"
    }
   ],
   "source": [
    "type(6_789_103)"
   ]
  },
  {
   "cell_type": "code",
   "execution_count": 7,
   "id": "22db60c6-bfa6-41b5-9492-f5088978bbd8",
   "metadata": {},
   "outputs": [
    {
     "data": {
      "text/plain": [
       "str"
      ]
     },
     "execution_count": 7,
     "metadata": {},
     "output_type": "execute_result"
    }
   ],
   "source": [
    "type('2')"
   ]
  },
  {
   "cell_type": "markdown",
   "id": "2465dce1-f961-43a6-b0c9-26a301efcb3c",
   "metadata": {},
   "source": [
    "## Operations\n",
    "\n",
    "We can perform a variety of operations on variables. We first learn about the arithmetic operations.\n",
    "\n",
    "| Operation     | Operator |\n",
    "| ----------- | ----------- |\n",
    "| addition     | `+`      |\n",
    "| subtraction  | `- `      |\n",
    "| multiplication | `*` | \n",
    "| division | `/` |\n",
    "| floor division | `//` | \n",
    "| raise to power | `**` |\n",
    "| modulo (remainder after division) | `%` |\n",
    "\n",
    "We test out each of these operations on integers on floats. Some can also be applied to strings. Try these operations on strings on your own! Which work?"
   ]
  },
  {
   "cell_type": "markdown",
   "id": "c94395f2-a630-4304-aeaa-986532e664f3",
   "metadata": {},
   "source": [
    "### Operations on integers"
   ]
  },
  {
   "cell_type": "code",
   "execution_count": 8,
   "id": "3e8a3fbd-f3b5-4af9-800e-0bc5142c302e",
   "metadata": {},
   "outputs": [
    {
     "data": {
      "text/plain": [
       "3"
      ]
     },
     "execution_count": 8,
     "metadata": {},
     "output_type": "execute_result"
    }
   ],
   "source": [
    "1 + 2"
   ]
  },
  {
   "cell_type": "code",
   "execution_count": 9,
   "id": "d76fddec-c17f-49e0-8390-8b38f03e70d9",
   "metadata": {},
   "outputs": [
    {
     "data": {
      "text/plain": [
       "20"
      ]
     },
     "execution_count": 9,
     "metadata": {},
     "output_type": "execute_result"
    }
   ],
   "source": [
    "33 - 13"
   ]
  },
  {
   "cell_type": "code",
   "execution_count": 10,
   "id": "712183b9-1a59-46e6-999d-eb8e46514c32",
   "metadata": {},
   "outputs": [
    {
     "data": {
      "text/plain": [
       "344"
      ]
     },
     "execution_count": 10,
     "metadata": {},
     "output_type": "execute_result"
    }
   ],
   "source": [
    "43 * 8"
   ]
  },
  {
   "cell_type": "code",
   "execution_count": 11,
   "id": "d66aed98-f98b-41e2-a389-a560504fd0b8",
   "metadata": {},
   "outputs": [
    {
     "data": {
      "text/plain": [
       "0.8333333333333334"
      ]
     },
     "execution_count": 11,
     "metadata": {},
     "output_type": "execute_result"
    }
   ],
   "source": [
    "5 / 6"
   ]
  },
  {
   "cell_type": "code",
   "execution_count": 12,
   "id": "83a34782-392f-471e-8fb6-0e72d6587525",
   "metadata": {},
   "outputs": [
    {
     "data": {
      "text/plain": [
       "0"
      ]
     },
     "execution_count": 12,
     "metadata": {},
     "output_type": "execute_result"
    }
   ],
   "source": [
    "5 // 6"
   ]
  },
  {
   "cell_type": "code",
   "execution_count": 13,
   "id": "4105d501-dd60-4ff7-8635-aa9d87dfe776",
   "metadata": {},
   "outputs": [
    {
     "data": {
      "text/plain": [
       "64"
      ]
     },
     "execution_count": 13,
     "metadata": {},
     "output_type": "execute_result"
    }
   ],
   "source": [
    "2**6"
   ]
  },
  {
   "cell_type": "code",
   "execution_count": 14,
   "id": "dc3cef17-fcbe-4c4e-9c14-862729d051ec",
   "metadata": {},
   "outputs": [
    {
     "data": {
      "text/plain": [
       "4"
      ]
     },
     "execution_count": 14,
     "metadata": {},
     "output_type": "execute_result"
    }
   ],
   "source": [
    "14 % 5"
   ]
  },
  {
   "cell_type": "markdown",
   "id": "52138edf-6cf5-4862-9215-45f7f9763358",
   "metadata": {},
   "source": [
    "### Operations on floats\n",
    "\n",
    "Floating point arithmetic on computers is different from how we've done floating point arithmetic on paper since elementary school. See the pages by [Python](https://docs.python.org/3/tutorial/floatingpoint.html), [Wikipedia](https://en.wikipedia.org/wiki/Floating-point_arithmetic), and [What Every Computer Scientist Should Know About Floating-Point Arithmetic](https://docs.oracle.com/cd/E19957-01/806-3568/ncg_goldberg.html) by David Goldberg."
   ]
  },
  {
   "cell_type": "code",
   "execution_count": 15,
   "id": "7f386eec-fbdd-48d2-80ec-d4f5f3e2e73a",
   "metadata": {},
   "outputs": [
    {
     "data": {
      "text/plain": [
       "2.1"
      ]
     },
     "execution_count": 15,
     "metadata": {},
     "output_type": "execute_result"
    }
   ],
   "source": [
    "0.1 + 2"
   ]
  },
  {
   "cell_type": "code",
   "execution_count": 16,
   "id": "716ebbfb-f1d2-494d-b2d5-9809f49c9de6",
   "metadata": {},
   "outputs": [
    {
     "data": {
      "text/plain": [
       "0.30000000000000004"
      ]
     },
     "execution_count": 16,
     "metadata": {},
     "output_type": "execute_result"
    }
   ],
   "source": [
    "0.1 + 0.2"
   ]
  },
  {
   "cell_type": "code",
   "execution_count": 17,
   "id": "edcd773a-9866-45fc-aa4d-7ccc31e900c6",
   "metadata": {},
   "outputs": [
    {
     "data": {
      "text/plain": [
       "0.33999999999999997"
      ]
     },
     "execution_count": 17,
     "metadata": {},
     "output_type": "execute_result"
    }
   ],
   "source": [
    "0.5 - 0.16"
   ]
  },
  {
   "cell_type": "code",
   "execution_count": 18,
   "id": "b24647e8-c80a-4128-a7ff-18f34e2619ac",
   "metadata": {},
   "outputs": [
    {
     "data": {
      "text/plain": [
       "7.359999999999999"
      ]
     },
     "execution_count": 18,
     "metadata": {},
     "output_type": "execute_result"
    }
   ],
   "source": [
    "0.8 * 9.2"
   ]
  },
  {
   "cell_type": "code",
   "execution_count": 19,
   "id": "f9cc8a65-f6ee-44ed-83c4-3dd463945057",
   "metadata": {},
   "outputs": [
    {
     "data": {
      "text/plain": [
       "2.8571428571428572e-08"
      ]
     },
     "execution_count": 19,
     "metadata": {},
     "output_type": "execute_result"
    }
   ],
   "source": [
    "1 / 3.5e7"
   ]
  },
  {
   "cell_type": "code",
   "execution_count": 20,
   "id": "a76d4af7-3866-458e-b115-cbdf1da6cb7e",
   "metadata": {},
   "outputs": [
    {
     "data": {
      "text/plain": [
       "22.0"
      ]
     },
     "execution_count": 20,
     "metadata": {},
     "output_type": "execute_result"
    }
   ],
   "source": [
    "33.1 // 1.5"
   ]
  },
  {
   "cell_type": "code",
   "execution_count": 21,
   "id": "fb232ba4-0158-4c8c-a4d2-c287f56dd797",
   "metadata": {},
   "outputs": [
    {
     "data": {
      "text/plain": [
       "0.09999999999999909"
      ]
     },
     "execution_count": 21,
     "metadata": {},
     "output_type": "execute_result"
    }
   ],
   "source": [
    "16.5 % 0.4"
   ]
  },
  {
   "cell_type": "markdown",
   "id": "70932e8e-409a-47f3-80de-6d32a6af9d8f",
   "metadata": {},
   "source": [
    "## Assigning variables\n",
    "\n",
    "We can assign variables so that it stays in memory. It's good practice to give your variables meaningful names."
   ]
  },
  {
   "cell_type": "code",
   "execution_count": 22,
   "id": "7483ec84-15ba-4b49-bdf5-703ddff61d7d",
   "metadata": {},
   "outputs": [
    {
     "name": "stdout",
     "output_type": "stream",
     "text": [
      "5\n",
      "15\n"
     ]
    }
   ],
   "source": [
    "my_integer = 5\n",
    "print(my_integer)\n",
    "my_integer = my_integer + 10\n",
    "print(my_integer)"
   ]
  },
  {
   "cell_type": "markdown",
   "id": "08f340b9-318c-4b26-8a62-a1c41ba04f3a",
   "metadata": {},
   "source": [
    "Variables defined in cells of the Jupyter notebook are global variables, meaning the notebook recognizes that variable as having the value and type it is assigned regardless of which cell it is in the notebook (unless the same name is used as an argument in a function, but more on that later). Many errors can happen in notebooks when variables are assigned using the same name, overwriting previous assignments. Local variables can be made, meaning they are accessible within a particular part of the notebook (or program). We'll get to that later."
   ]
  },
  {
   "cell_type": "code",
   "execution_count": 23,
   "id": "d630f615-e5c0-4b7a-80ca-1021cf95093c",
   "metadata": {},
   "outputs": [
    {
     "data": {
      "text/plain": [
       "15"
      ]
     },
     "execution_count": 23,
     "metadata": {},
     "output_type": "execute_result"
    }
   ],
   "source": [
    "my_integer"
   ]
  },
  {
   "cell_type": "markdown",
   "id": "b4da0c5f-2452-41dc-a20d-0a11cd026aa0",
   "metadata": {},
   "source": [
    "## Conditionals\n",
    "\n",
    "Python also has relational operators and logical operators that can be used to see if conditions are true or false.\n",
    "\n",
    "The relational operators are:\n",
    "\n",
    "| Relation    | Operator |\n",
    "| ----------- | ----------- |\n",
    "| is equal to     | `==`     |\n",
    "| is not equal to  | `!= `      |\n",
    "| is greater than | `>` | \n",
    "| is less than | `<` |\n",
    "| is greater than or equal to | `>=` | \n",
    "| is less than or equal to | `<=` |\n",
    "\n",
    "The logical operators:\n",
    "\n",
    "| Logic    | Operator |\n",
    "| ----------- | ----------- |\n",
    "| AND    | `and`     |\n",
    "| OR  | `or`      |\n",
    "| NOT | `not` | "
   ]
  },
  {
   "cell_type": "code",
   "execution_count": 24,
   "id": "b0080dc4-f537-482b-80f6-d8575dff6097",
   "metadata": {},
   "outputs": [
    {
     "data": {
      "text/plain": [
       "True"
      ]
     },
     "execution_count": 24,
     "metadata": {},
     "output_type": "execute_result"
    }
   ],
   "source": [
    "5 == 5"
   ]
  },
  {
   "cell_type": "code",
   "execution_count": 25,
   "id": "93569127-cc42-47b7-bb6a-1f83a036d22f",
   "metadata": {},
   "outputs": [
    {
     "data": {
      "text/plain": [
       "True"
      ]
     },
     "execution_count": 25,
     "metadata": {},
     "output_type": "execute_result"
    }
   ],
   "source": [
    "0.5 != 0.6"
   ]
  },
  {
   "cell_type": "code",
   "execution_count": 26,
   "id": "4096ae9e-f5a5-41c9-8ae9-6c79eb9c0a9d",
   "metadata": {},
   "outputs": [
    {
     "data": {
      "text/plain": [
       "False"
      ]
     },
     "execution_count": 26,
     "metadata": {},
     "output_type": "execute_result"
    }
   ],
   "source": [
    "7 > 5 and 5 > 5"
   ]
  },
  {
   "cell_type": "code",
   "execution_count": 27,
   "id": "affaa3c0-ba84-4d4e-a557-d4a7a2558dc4",
   "metadata": {},
   "outputs": [
    {
     "data": {
      "text/plain": [
       "False"
      ]
     },
     "execution_count": 27,
     "metadata": {},
     "output_type": "execute_result"
    }
   ],
   "source": [
    "not 1 < 2"
   ]
  },
  {
   "cell_type": "markdown",
   "id": "15e16440-ec46-49f7-a156-4bcb52351779",
   "metadata": {},
   "source": [
    "`==` and floats does not play nicely with floats because of floating-point arithmetic."
   ]
  },
  {
   "cell_type": "code",
   "execution_count": 28,
   "id": "4b4a5781-6b9f-4e7d-a29e-e127ff5b9164",
   "metadata": {},
   "outputs": [
    {
     "data": {
      "text/plain": [
       "False"
      ]
     },
     "execution_count": 28,
     "metadata": {},
     "output_type": "execute_result"
    }
   ],
   "source": [
    "2.1 + 2.2 == 2.3"
   ]
  },
  {
   "cell_type": "markdown",
   "id": "264bf787-1843-43d1-a6e4-96fedb22529e",
   "metadata": {},
   "source": [
    "A variable which has as its value `True` or `False` is a bool. The following are bools:"
   ]
  },
  {
   "cell_type": "code",
   "execution_count": 29,
   "id": "9d749baa-f1a2-4c0f-9e91-66e79762889d",
   "metadata": {},
   "outputs": [
    {
     "name": "stdout",
     "output_type": "stream",
     "text": [
      "<class 'bool'>\n",
      "<class 'bool'>\n",
      "<class 'bool'>\n"
     ]
    }
   ],
   "source": [
    "bool1 = 3 + 4 > 8\n",
    "bool2 = 7 <= 18.9 and 9 % 2 == 3\n",
    "bool3 = bool(1) or bool(0)\n",
    "print(type(bool1))\n",
    "print(type(bool2))\n",
    "print(type(bool3))"
   ]
  },
  {
   "cell_type": "markdown",
   "id": "ce1a9300-4a99-4d33-9876-8214169ab12a",
   "metadata": {},
   "source": [
    "## Containers\n",
    "\n",
    "A container is a data structure which is a collection of other objects. One of the simplest data structures in Python is a `list`. Any type of object can go in a `list`."
   ]
  },
  {
   "cell_type": "code",
   "execution_count": 30,
   "id": "0275ffae-2e3c-4779-b1a8-6488806c44d0",
   "metadata": {},
   "outputs": [],
   "source": [
    "mylist = ['biophysics', 2022, 55.55, 'ATGCAATGT', print]"
   ]
  },
  {
   "cell_type": "markdown",
   "id": "63647ee9-f363-4734-b1ca-1d277601943d",
   "metadata": {},
   "source": [
    "Here, we have a `list` with strings, integers, floats, and even functions. We can access the `list` a few different ways. Observe that indexing elements starts at 0, not 1!"
   ]
  },
  {
   "cell_type": "code",
   "execution_count": 31,
   "id": "b015f9e4-5f9c-4240-90b9-8aa8199bd256",
   "metadata": {},
   "outputs": [
    {
     "data": {
      "text/plain": [
       "2022"
      ]
     },
     "execution_count": 31,
     "metadata": {},
     "output_type": "execute_result"
    }
   ],
   "source": [
    "mylist[1]"
   ]
  },
  {
   "cell_type": "code",
   "execution_count": 32,
   "id": "652eafd6-ddc6-4d7c-bfa8-5fa804065da2",
   "metadata": {},
   "outputs": [
    {
     "data": {
      "text/plain": [
       "'biophysics'"
      ]
     },
     "execution_count": 32,
     "metadata": {},
     "output_type": "execute_result"
    }
   ],
   "source": [
    "mylist[0]"
   ]
  },
  {
   "cell_type": "code",
   "execution_count": 33,
   "id": "ea09fb08-5e30-47f4-84cf-ce96f3dba8bc",
   "metadata": {},
   "outputs": [
    {
     "data": {
      "text/plain": [
       "['biophysics', 2022]"
      ]
     },
     "execution_count": 33,
     "metadata": {},
     "output_type": "execute_result"
    }
   ],
   "source": [
    "mylist[0:2]"
   ]
  },
  {
   "cell_type": "code",
   "execution_count": 34,
   "id": "8e283026-ff2e-42d5-9836-147db4143f15",
   "metadata": {},
   "outputs": [
    {
     "data": {
      "text/plain": [
       "<function print>"
      ]
     },
     "execution_count": 34,
     "metadata": {},
     "output_type": "execute_result"
    }
   ],
   "source": [
    "mylist[-1]"
   ]
  },
  {
   "cell_type": "code",
   "execution_count": 35,
   "id": "44faf80f-bb8d-4b2c-901f-118045db5749",
   "metadata": {},
   "outputs": [
    {
     "data": {
      "text/plain": [
       "55.55"
      ]
     },
     "execution_count": 35,
     "metadata": {},
     "output_type": "execute_result"
    }
   ],
   "source": [
    "mylist[-3]"
   ]
  },
  {
   "cell_type": "code",
   "execution_count": 36,
   "id": "2b9360af-25f6-4179-9072-df364a5173fb",
   "metadata": {},
   "outputs": [
    {
     "data": {
      "text/plain": [
       "['biophysics', 2022, 55.55, 'ATGCAATGT', <function print>]"
      ]
     },
     "execution_count": 36,
     "metadata": {},
     "output_type": "execute_result"
    }
   ],
   "source": [
    "mylist[:]"
   ]
  },
  {
   "cell_type": "code",
   "execution_count": 37,
   "id": "0a5cfc29-2ed4-44f5-9603-e034442cb3b4",
   "metadata": {},
   "outputs": [
    {
     "data": {
      "text/plain": [
       "['biophysics', 55.55, <function print>]"
      ]
     },
     "execution_count": 37,
     "metadata": {},
     "output_type": "execute_result"
    }
   ],
   "source": [
    "mylist[::2]"
   ]
  },
  {
   "cell_type": "markdown",
   "id": "fdde43f9-ae97-4487-8ee8-0f14ed961508",
   "metadata": {},
   "source": [
    "We can also add things to an existing list by using the `append` function."
   ]
  },
  {
   "cell_type": "code",
   "execution_count": 38,
   "id": "dfcbb861-50d9-4cff-a7e2-e029ca47852f",
   "metadata": {},
   "outputs": [
    {
     "name": "stdout",
     "output_type": "stream",
     "text": [
      "['biophysics', 2022, 55.55, 'ATGCAATGT', <built-in function print>, 'cup']\n"
     ]
    }
   ],
   "source": [
    "mylist.append('cup')\n",
    "print(mylist)"
   ]
  },
  {
   "cell_type": "markdown",
   "id": "f32d5d34-3b42-47f1-91cc-d47d6fa83173",
   "metadata": {},
   "source": [
    "Only `+` can be used between two lists. None of the other arithmetic operations are defined for use on two lists."
   ]
  },
  {
   "cell_type": "code",
   "execution_count": 39,
   "id": "5f088386-9315-4e5c-adfe-7c69a52f14bd",
   "metadata": {},
   "outputs": [],
   "source": [
    "myotherlist = ['i', 'like', 2, 'code']"
   ]
  },
  {
   "cell_type": "code",
   "execution_count": 40,
   "id": "59fe44c4-e2e4-4777-9524-0e7175171735",
   "metadata": {},
   "outputs": [
    {
     "data": {
      "text/plain": [
       "['biophysics',\n",
       " 2022,\n",
       " 55.55,\n",
       " 'ATGCAATGT',\n",
       " <function print>,\n",
       " 'cup',\n",
       " 'i',\n",
       " 'like',\n",
       " 2,\n",
       " 'code']"
      ]
     },
     "execution_count": 40,
     "metadata": {},
     "output_type": "execute_result"
    }
   ],
   "source": [
    "mylist + myotherlist"
   ]
  },
  {
   "cell_type": "markdown",
   "id": "c1092ea7-5ec9-4341-adc2-ad33e4519cd8",
   "metadata": {},
   "source": [
    "There are many other operations that can be done with lists. Please consult the tutorial at the top of this notebook or Google to learn more."
   ]
  },
  {
   "cell_type": "markdown",
   "id": "2248b69b-382a-4d5f-9630-cfa706ca8168",
   "metadata": {},
   "source": [
    "## Iteration\n",
    "\n",
    "Iteration is a process where code is repeated for a given number of times or until a condition is met. There are two types of iteration: `for` loops, which specify the number of times something is repeated, and `while` loops which specify something to be repeated until a condition is false.\n",
    "\n",
    "One way of specifying how long a `for` loop should run is by using Python's `range` function which specifies the *start* and *stop* ([not *end*!](https://stackoverflow.com/a/35039558)) points."
   ]
  },
  {
   "cell_type": "code",
   "execution_count": 41,
   "id": "e5558a5a-b7f5-42f6-b432-2d7176b1d63c",
   "metadata": {},
   "outputs": [
    {
     "data": {
      "text/plain": [
       "range(0, 10)"
      ]
     },
     "execution_count": 41,
     "metadata": {},
     "output_type": "execute_result"
    }
   ],
   "source": [
    "range(10)"
   ]
  },
  {
   "cell_type": "markdown",
   "id": "a88d232f-d69c-4087-bcdb-edeacc264dc8",
   "metadata": {},
   "source": [
    "Write a `for` loop to calculate $\\ln (1 + x)$ for $x = 0.5$ using up to 10 terms in its Taylors series. `print` the final results. The Taylor series is given [here](https://en.wikipedia.org/wiki/Taylor_series#Natural_logarithm). Note the series starts at the first term instead of the zeroth."
   ]
  },
  {
   "cell_type": "code",
   "execution_count": 42,
   "id": "5eb0d5f7-2df7-4e9d-8317-f1743d1edabb",
   "metadata": {},
   "outputs": [
    {
     "name": "stdout",
     "output_type": "stream",
     "text": [
      "0.4055323040674603\n"
     ]
    }
   ],
   "source": [
    "x = 0.5\n",
    "ln_1px = 0\n",
    "maxiters = 10\n",
    "for i in range(1, maxiters):\n",
    "    ln_1px += (-1)**(i + 1) * (x**i) / i\n",
    "print(ln_1px)"
   ]
  },
  {
   "cell_type": "markdown",
   "id": "630ad4a6-d381-4cbc-87b2-da0f0a9bad72",
   "metadata": {},
   "source": [
    "Variables which are collections of things can be described as iterable. A `list` can be iterated over. Iterate over `mylist` and print each element."
   ]
  },
  {
   "cell_type": "code",
   "execution_count": 43,
   "id": "5de66e13-92f5-4bc8-83d6-c291f742d96a",
   "metadata": {},
   "outputs": [],
   "source": [
    "mylist = ['biophysics', 2022, 55.55, 'ATGCAATGT', print]"
   ]
  },
  {
   "cell_type": "code",
   "execution_count": 44,
   "id": "ba53ffe6-d96b-463c-9a0c-0d1e8f22ab52",
   "metadata": {},
   "outputs": [
    {
     "name": "stdout",
     "output_type": "stream",
     "text": [
      "biophysics\n",
      "2022\n",
      "55.55\n",
      "ATGCAATGT\n",
      "<built-in function print>\n"
     ]
    }
   ],
   "source": [
    "for element in mylist:\n",
    "    print(element)"
   ]
  },
  {
   "cell_type": "markdown",
   "id": "d3eefaff-e235-42e4-86d8-7b2e82363837",
   "metadata": {},
   "source": [
    "`enumerate` can be used to return both the count of the iteration and the value of the iterable."
   ]
  },
  {
   "cell_type": "code",
   "execution_count": 45,
   "id": "363146ad-ad17-496c-8c64-e96a7da702fc",
   "metadata": {},
   "outputs": [
    {
     "name": "stdout",
     "output_type": "stream",
     "text": [
      "0 biophysics\n",
      "1 2022\n",
      "2 55.55\n",
      "3 ATGCAATGT\n",
      "4 <built-in function print>\n"
     ]
    }
   ],
   "source": [
    "for count, element in enumerate(mylist):\n",
    "    print(count, element)"
   ]
  },
  {
   "cell_type": "markdown",
   "id": "cb07a968-77c2-4457-8dce-30de89ee4d49",
   "metadata": {},
   "source": [
    "Using a `for` loop is a great way for building a list."
   ]
  },
  {
   "cell_type": "code",
   "execution_count": 46,
   "id": "b258c7fc-3443-477d-acfc-f47a795f4087",
   "metadata": {},
   "outputs": [],
   "source": [
    "times3_table = []\n",
    "for i in range(10):\n",
    "    times3_table.append(3 * i)"
   ]
  },
  {
   "cell_type": "code",
   "execution_count": 47,
   "id": "b3fa5469-6c40-4e72-a626-55b03c95f8f2",
   "metadata": {},
   "outputs": [
    {
     "data": {
      "text/plain": [
       "[0, 3, 6, 9, 12, 15, 18, 21, 24, 27]"
      ]
     },
     "execution_count": 47,
     "metadata": {},
     "output_type": "execute_result"
    }
   ],
   "source": [
    "times3_table"
   ]
  },
  {
   "cell_type": "markdown",
   "id": "a5fb4372-64b8-413c-b733-e52ff35a9251",
   "metadata": {},
   "source": [
    "We can use the `zip` function to loop over two things at once. Be careful since the iterables being zipped need not be the same length for the code to work."
   ]
  },
  {
   "cell_type": "code",
   "execution_count": 48,
   "id": "30fa9c3f-d3d7-4586-9905-eb8a63d4c47e",
   "metadata": {},
   "outputs": [
    {
     "name": "stdout",
     "output_type": "stream",
     "text": [
      "0 35 biophysics\n",
      "1 36 2022\n",
      "2 37 55.55\n",
      "3 38 ATGCAATGT\n",
      "4 39 <built-in function print>\n"
     ]
    }
   ],
   "source": [
    "for element1, element2, element3 in zip(range(10), range(35, 57), mylist):\n",
    "    print(element1, element2, element3)"
   ]
  },
  {
   "cell_type": "markdown",
   "id": "17ba3221-1cdc-4e4b-9932-0d374a18405a",
   "metadata": {},
   "source": [
    "`while` loops continue iterating until a condition is false.\n",
    "\n",
    "Let's take a transcendental function, $x = \\cos x$, and devise a `while` loop for finding the solution to know when $x = \\cos x$. Let the `while` loop terminate when the error is smaller than some error tolerance that we deine (just some float). Also keep track of how many iterations are performed.\n",
    "\n",
    "Before we can write this code, Python doesn't know what a `cos` function. We can write one ourselves, or we can import a module which allows us to use a `cos` function other folks have coded up. We're going to do the latter. The `numpy` module is installed in this `biophys2022` environment. It has a `cos` function. We write `import numpy as np` to alias `numpy` as `np`. This allows us to type less whenever we need to use `numpy`, and it is also in line with conventions others have established. E.g., it would be nonsensical to write `import numpy as n` because no one writes it like that (because it conveys no information that the code is using `numpy`) and `n` is typically used as a variable for other things. This means that every time we call something from `numpy` we preface it by `np`.\n",
    "\n",
    "For our `while` loop, we'll also need the absolute value function `np.abs` since there error can be defined as $|(x - y) \\, / \\, x|$, where $x$ is the original value and $y$ is the updated value."
   ]
  },
  {
   "cell_type": "code",
   "execution_count": 49,
   "id": "b0c3c490-179c-44bb-908c-71bd12b9d54d",
   "metadata": {},
   "outputs": [],
   "source": [
    "import numpy as np"
   ]
  },
  {
   "cell_type": "code",
   "execution_count": 50,
   "id": "c03a5c47-7353-4f49-97b1-494765012903",
   "metadata": {},
   "outputs": [
    {
     "name": "stdout",
     "output_type": "stream",
     "text": [
      "0.7390851331949863 6.781900189060636e-11 59\n"
     ]
    }
   ],
   "source": [
    "tol = 1e-10\n",
    "err = 100\n",
    "x = 1\n",
    "counter = 0\n",
    "while err > tol:\n",
    "    cosx = np.cos(x)\n",
    "    err = np.abs((x - cosx) / x)\n",
    "    x = cosx\n",
    "    counter += 1\n",
    "print(x, err, counter)"
   ]
  },
  {
   "cell_type": "markdown",
   "id": "64d3ef39-cf28-4dd8-aa94-cbe105e784fb",
   "metadata": {},
   "source": [
    "## Functions\n",
    "\n",
    "Functions are essential to programming. They enable your code to tell a story and be modular. Perhaps most important of all, they enable you, as the coder, to be lazy (or efficient). Functions take in **arguments** and **return** a result. Function arguments can be input by their location or by using keywords. Additionally, arguments can have default values. The names of the variables passed as arguments to a function do not have to match what the arguments are called.\n",
    "\n",
    "Write a function which solves $x = \\cos x$. It should return $x$ and have as arguments `x`; `tol`, the error tolerance; and `maxiters`, the maximum number of iterations to be performed before the while loop terminates. Have the `while` loop terminate if the error is below `tol` or if the number of iterations exceeds `maxiters`.\n",
    "\n",
    "When writing functions, it's a good habit to write [docstrings](https://pandas.pydata.org/docs/development/contributing_docstring.html) and follow conventions. For now, focus on describing the code briefly and writing the \"Parameters\" and \"Returns\" parts. This makes code user-friendly to yourself (you'll forget what code does when you revisit it weeks or months later) and others. To reiterate, writing a docstring is **NOT** necessary for a function to run. But it makes for good code. (Look up what `\"\"\"` means!)"
   ]
  },
  {
   "cell_type": "code",
   "execution_count": 51,
   "id": "2dce47bf-125c-44f0-b66f-089389c1afe8",
   "metadata": {},
   "outputs": [],
   "source": [
    "def solve_x_eq_cosx(x, tol, maxiters):\n",
    "    \"\"\"\n",
    "    Solve the transcendental equation x = cosx.\n",
    "    \n",
    "    The equation is solved using the method of iterations.\n",
    "    See http://www.simumath.com/library/book.html?code=Alg_Equations_Iterations.\n",
    "    \n",
    "    Parameters\n",
    "    ----------\n",
    "    x : float\n",
    "        Initial value for x\n",
    "    tol : float\n",
    "        Error tolerance.\n",
    "    maxiters : int\n",
    "        Maximum number of iterations to be performed.\n",
    "        \n",
    "    Returns\n",
    "    -------\n",
    "    x : float\n",
    "        The approximation solution to x = cosx.\n",
    "    \"\"\"\n",
    "    err = 100\n",
    "    counter = 0\n",
    "    \n",
    "    while (err > tol) and (counter < maxiters):\n",
    "        cosx = np.cos(x)\n",
    "        err = np.abs((x - cosx) / x)\n",
    "        x = cosx\n",
    "        counter += 1\n",
    "        \n",
    "    return x"
   ]
  },
  {
   "cell_type": "markdown",
   "id": "1973224c-718d-462a-b7fa-7c6d0bafa681",
   "metadata": {},
   "source": [
    "When you write a docstring, you can call `help` on the function, and it returns the docstring! You can also type the name of the function and a question mark and receive information."
   ]
  },
  {
   "cell_type": "code",
   "execution_count": 52,
   "id": "808c1ce1-3876-48f8-885a-b992983d6546",
   "metadata": {},
   "outputs": [
    {
     "name": "stdout",
     "output_type": "stream",
     "text": [
      "Help on function solve_x_eq_cosx in module __main__:\n",
      "\n",
      "solve_x_eq_cosx(x, tol, maxiters)\n",
      "    Solve the transcendental equation x = cosx.\n",
      "    \n",
      "    The equation is solved using the method of iterations.\n",
      "    See http://www.simumath.com/library/book.html?code=Alg_Equations_Iterations.\n",
      "    \n",
      "    Parameters\n",
      "    ----------\n",
      "    x : float\n",
      "        Initial value for x\n",
      "    tol : float\n",
      "        Error tolerance.\n",
      "    maxiters : int\n",
      "        Maximum number of iterations to be performed.\n",
      "        \n",
      "    Returns\n",
      "    -------\n",
      "    x : float\n",
      "        The approximation solution to x = cosx.\n",
      "\n"
     ]
    }
   ],
   "source": [
    "help(solve_x_eq_cosx)"
   ]
  },
  {
   "cell_type": "markdown",
   "id": "d5598bd8-fcce-40b4-a39f-4d535e71ea79",
   "metadata": {},
   "source": [
    "Therefore, another way of learning about functions or other things is by calling help on them. For instance, let's call a few on Python things and `np.cos`."
   ]
  },
  {
   "cell_type": "code",
   "execution_count": 53,
   "id": "9d62b0e7-609d-4743-a330-2ccd2d17fadb",
   "metadata": {},
   "outputs": [
    {
     "data": {
      "text/plain": [
       "\u001b[0;31mSignature:\u001b[0m \u001b[0msolve_x_eq_cosx\u001b[0m\u001b[0;34m(\u001b[0m\u001b[0mx\u001b[0m\u001b[0;34m,\u001b[0m \u001b[0mtol\u001b[0m\u001b[0;34m,\u001b[0m \u001b[0mmaxiters\u001b[0m\u001b[0;34m)\u001b[0m\u001b[0;34m\u001b[0m\u001b[0;34m\u001b[0m\u001b[0m\n",
       "\u001b[0;31mDocstring:\u001b[0m\n",
       "Solve the transcendental equation x = cosx.\n",
       "\n",
       "The equation is solved using the method of iterations.\n",
       "See http://www.simumath.com/library/book.html?code=Alg_Equations_Iterations.\n",
       "\n",
       "Parameters\n",
       "----------\n",
       "x : float\n",
       "    Initial value for x\n",
       "tol : float\n",
       "    Error tolerance.\n",
       "maxiters : int\n",
       "    Maximum number of iterations to be performed.\n",
       "    \n",
       "Returns\n",
       "-------\n",
       "x : float\n",
       "    The approximation solution to x = cosx.\n",
       "\u001b[0;31mFile:\u001b[0m      /var/folders/40/gdc7lk492jg0ydt_fxl1w_3h0000gn/T/ipykernel_25594/3015954666.py\n",
       "\u001b[0;31mType:\u001b[0m      function\n"
      ]
     },
     "metadata": {},
     "output_type": "display_data"
    }
   ],
   "source": [
    "solve_x_eq_cosx?"
   ]
  },
  {
   "cell_type": "code",
   "execution_count": 54,
   "id": "9e20bc88-2efb-46dd-96f3-95d1dd611505",
   "metadata": {},
   "outputs": [
    {
     "name": "stdout",
     "output_type": "stream",
     "text": [
      "Help on built-in function print in module builtins:\n",
      "\n",
      "print(...)\n",
      "    print(value, ..., sep=' ', end='\\n', file=sys.stdout, flush=False)\n",
      "    \n",
      "    Prints the values to a stream, or to sys.stdout by default.\n",
      "    Optional keyword arguments:\n",
      "    file:  a file-like object (stream); defaults to the current sys.stdout.\n",
      "    sep:   string inserted between values, default a space.\n",
      "    end:   string appended after the last value, default a newline.\n",
      "    flush: whether to forcibly flush the stream.\n",
      "\n"
     ]
    }
   ],
   "source": [
    "help(print)"
   ]
  },
  {
   "cell_type": "code",
   "execution_count": 55,
   "id": "4ce27c4d-ff48-478c-b146-17b6716c25d8",
   "metadata": {},
   "outputs": [
    {
     "data": {
      "text/plain": [
       "\u001b[0;31mDocstring:\u001b[0m\n",
       "print(value, ..., sep=' ', end='\\n', file=sys.stdout, flush=False)\n",
       "\n",
       "Prints the values to a stream, or to sys.stdout by default.\n",
       "Optional keyword arguments:\n",
       "file:  a file-like object (stream); defaults to the current sys.stdout.\n",
       "sep:   string inserted between values, default a space.\n",
       "end:   string appended after the last value, default a newline.\n",
       "flush: whether to forcibly flush the stream.\n",
       "\u001b[0;31mType:\u001b[0m      builtin_function_or_method\n"
      ]
     },
     "metadata": {},
     "output_type": "display_data"
    }
   ],
   "source": [
    "print?"
   ]
  },
  {
   "cell_type": "code",
   "execution_count": 56,
   "id": "bbd3f2ff-7600-4b0d-80b9-2b53686ffec9",
   "metadata": {},
   "outputs": [
    {
     "name": "stdout",
     "output_type": "stream",
     "text": [
      "Help on class list in module builtins:\n",
      "\n",
      "class list(object)\n",
      " |  list(iterable=(), /)\n",
      " |  \n",
      " |  Built-in mutable sequence.\n",
      " |  \n",
      " |  If no argument is given, the constructor creates a new empty list.\n",
      " |  The argument must be an iterable if specified.\n",
      " |  \n",
      " |  Methods defined here:\n",
      " |  \n",
      " |  __add__(self, value, /)\n",
      " |      Return self+value.\n",
      " |  \n",
      " |  __contains__(self, key, /)\n",
      " |      Return key in self.\n",
      " |  \n",
      " |  __delitem__(self, key, /)\n",
      " |      Delete self[key].\n",
      " |  \n",
      " |  __eq__(self, value, /)\n",
      " |      Return self==value.\n",
      " |  \n",
      " |  __ge__(self, value, /)\n",
      " |      Return self>=value.\n",
      " |  \n",
      " |  __getattribute__(self, name, /)\n",
      " |      Return getattr(self, name).\n",
      " |  \n",
      " |  __getitem__(...)\n",
      " |      x.__getitem__(y) <==> x[y]\n",
      " |  \n",
      " |  __gt__(self, value, /)\n",
      " |      Return self>value.\n",
      " |  \n",
      " |  __iadd__(self, value, /)\n",
      " |      Implement self+=value.\n",
      " |  \n",
      " |  __imul__(self, value, /)\n",
      " |      Implement self*=value.\n",
      " |  \n",
      " |  __init__(self, /, *args, **kwargs)\n",
      " |      Initialize self.  See help(type(self)) for accurate signature.\n",
      " |  \n",
      " |  __iter__(self, /)\n",
      " |      Implement iter(self).\n",
      " |  \n",
      " |  __le__(self, value, /)\n",
      " |      Return self<=value.\n",
      " |  \n",
      " |  __len__(self, /)\n",
      " |      Return len(self).\n",
      " |  \n",
      " |  __lt__(self, value, /)\n",
      " |      Return self<value.\n",
      " |  \n",
      " |  __mul__(self, value, /)\n",
      " |      Return self*value.\n",
      " |  \n",
      " |  __ne__(self, value, /)\n",
      " |      Return self!=value.\n",
      " |  \n",
      " |  __repr__(self, /)\n",
      " |      Return repr(self).\n",
      " |  \n",
      " |  __reversed__(self, /)\n",
      " |      Return a reverse iterator over the list.\n",
      " |  \n",
      " |  __rmul__(self, value, /)\n",
      " |      Return value*self.\n",
      " |  \n",
      " |  __setitem__(self, key, value, /)\n",
      " |      Set self[key] to value.\n",
      " |  \n",
      " |  __sizeof__(self, /)\n",
      " |      Return the size of the list in memory, in bytes.\n",
      " |  \n",
      " |  append(self, object, /)\n",
      " |      Append object to the end of the list.\n",
      " |  \n",
      " |  clear(self, /)\n",
      " |      Remove all items from list.\n",
      " |  \n",
      " |  copy(self, /)\n",
      " |      Return a shallow copy of the list.\n",
      " |  \n",
      " |  count(self, value, /)\n",
      " |      Return number of occurrences of value.\n",
      " |  \n",
      " |  extend(self, iterable, /)\n",
      " |      Extend list by appending elements from the iterable.\n",
      " |  \n",
      " |  index(self, value, start=0, stop=9223372036854775807, /)\n",
      " |      Return first index of value.\n",
      " |      \n",
      " |      Raises ValueError if the value is not present.\n",
      " |  \n",
      " |  insert(self, index, object, /)\n",
      " |      Insert object before index.\n",
      " |  \n",
      " |  pop(self, index=-1, /)\n",
      " |      Remove and return item at index (default last).\n",
      " |      \n",
      " |      Raises IndexError if list is empty or index is out of range.\n",
      " |  \n",
      " |  remove(self, value, /)\n",
      " |      Remove first occurrence of value.\n",
      " |      \n",
      " |      Raises ValueError if the value is not present.\n",
      " |  \n",
      " |  reverse(self, /)\n",
      " |      Reverse *IN PLACE*.\n",
      " |  \n",
      " |  sort(self, /, *, key=None, reverse=False)\n",
      " |      Sort the list in ascending order and return None.\n",
      " |      \n",
      " |      The sort is in-place (i.e. the list itself is modified) and stable (i.e. the\n",
      " |      order of two equal elements is maintained).\n",
      " |      \n",
      " |      If a key function is given, apply it once to each list item and sort them,\n",
      " |      ascending or descending, according to their function values.\n",
      " |      \n",
      " |      The reverse flag can be set to sort in descending order.\n",
      " |  \n",
      " |  ----------------------------------------------------------------------\n",
      " |  Class methods defined here:\n",
      " |  \n",
      " |  __class_getitem__(...) from builtins.type\n",
      " |      See PEP 585\n",
      " |  \n",
      " |  ----------------------------------------------------------------------\n",
      " |  Static methods defined here:\n",
      " |  \n",
      " |  __new__(*args, **kwargs) from builtins.type\n",
      " |      Create and return a new object.  See help(type) for accurate signature.\n",
      " |  \n",
      " |  ----------------------------------------------------------------------\n",
      " |  Data and other attributes defined here:\n",
      " |  \n",
      " |  __hash__ = None\n",
      "\n"
     ]
    }
   ],
   "source": [
    "help(list)"
   ]
  },
  {
   "cell_type": "code",
   "execution_count": 57,
   "id": "b208bbd3-8983-4770-aef2-7576dd2952f3",
   "metadata": {},
   "outputs": [
    {
     "data": {
      "text/plain": [
       "\u001b[0;31mInit signature:\u001b[0m \u001b[0mlist\u001b[0m\u001b[0;34m(\u001b[0m\u001b[0miterable\u001b[0m\u001b[0;34m=\u001b[0m\u001b[0;34m(\u001b[0m\u001b[0;34m)\u001b[0m\u001b[0;34m,\u001b[0m \u001b[0;34m/\u001b[0m\u001b[0;34m)\u001b[0m\u001b[0;34m\u001b[0m\u001b[0;34m\u001b[0m\u001b[0m\n",
       "\u001b[0;31mDocstring:\u001b[0m     \n",
       "Built-in mutable sequence.\n",
       "\n",
       "If no argument is given, the constructor creates a new empty list.\n",
       "The argument must be an iterable if specified.\n",
       "\u001b[0;31mType:\u001b[0m           type\n",
       "\u001b[0;31mSubclasses:\u001b[0m     _HashedSeq, StackSummary, DeferredConfigList, _ymd, SList, _ImmutableLineList, FormattedText, NodeList, _ExplodedList, Stack, ...\n"
      ]
     },
     "metadata": {},
     "output_type": "display_data"
    }
   ],
   "source": [
    "list?"
   ]
  },
  {
   "cell_type": "code",
   "execution_count": 58,
   "id": "5e9f0829-8c91-4b34-93ae-b76ff51c2bb5",
   "metadata": {},
   "outputs": [
    {
     "name": "stdout",
     "output_type": "stream",
     "text": [
      "Help on class range in module builtins:\n",
      "\n",
      "class range(object)\n",
      " |  range(stop) -> range object\n",
      " |  range(start, stop[, step]) -> range object\n",
      " |  \n",
      " |  Return an object that produces a sequence of integers from start (inclusive)\n",
      " |  to stop (exclusive) by step.  range(i, j) produces i, i+1, i+2, ..., j-1.\n",
      " |  start defaults to 0, and stop is omitted!  range(4) produces 0, 1, 2, 3.\n",
      " |  These are exactly the valid indices for a list of 4 elements.\n",
      " |  When step is given, it specifies the increment (or decrement).\n",
      " |  \n",
      " |  Methods defined here:\n",
      " |  \n",
      " |  __bool__(self, /)\n",
      " |      self != 0\n",
      " |  \n",
      " |  __contains__(self, key, /)\n",
      " |      Return key in self.\n",
      " |  \n",
      " |  __eq__(self, value, /)\n",
      " |      Return self==value.\n",
      " |  \n",
      " |  __ge__(self, value, /)\n",
      " |      Return self>=value.\n",
      " |  \n",
      " |  __getattribute__(self, name, /)\n",
      " |      Return getattr(self, name).\n",
      " |  \n",
      " |  __getitem__(self, key, /)\n",
      " |      Return self[key].\n",
      " |  \n",
      " |  __gt__(self, value, /)\n",
      " |      Return self>value.\n",
      " |  \n",
      " |  __hash__(self, /)\n",
      " |      Return hash(self).\n",
      " |  \n",
      " |  __iter__(self, /)\n",
      " |      Implement iter(self).\n",
      " |  \n",
      " |  __le__(self, value, /)\n",
      " |      Return self<=value.\n",
      " |  \n",
      " |  __len__(self, /)\n",
      " |      Return len(self).\n",
      " |  \n",
      " |  __lt__(self, value, /)\n",
      " |      Return self<value.\n",
      " |  \n",
      " |  __ne__(self, value, /)\n",
      " |      Return self!=value.\n",
      " |  \n",
      " |  __reduce__(...)\n",
      " |      Helper for pickle.\n",
      " |  \n",
      " |  __repr__(self, /)\n",
      " |      Return repr(self).\n",
      " |  \n",
      " |  __reversed__(...)\n",
      " |      Return a reverse iterator.\n",
      " |  \n",
      " |  count(...)\n",
      " |      rangeobject.count(value) -> integer -- return number of occurrences of value\n",
      " |  \n",
      " |  index(...)\n",
      " |      rangeobject.index(value) -> integer -- return index of value.\n",
      " |      Raise ValueError if the value is not present.\n",
      " |  \n",
      " |  ----------------------------------------------------------------------\n",
      " |  Static methods defined here:\n",
      " |  \n",
      " |  __new__(*args, **kwargs) from builtins.type\n",
      " |      Create and return a new object.  See help(type) for accurate signature.\n",
      " |  \n",
      " |  ----------------------------------------------------------------------\n",
      " |  Data descriptors defined here:\n",
      " |  \n",
      " |  start\n",
      " |  \n",
      " |  step\n",
      " |  \n",
      " |  stop\n",
      "\n"
     ]
    }
   ],
   "source": [
    "help(range)"
   ]
  },
  {
   "cell_type": "code",
   "execution_count": 59,
   "id": "1d6c726a-1f38-4583-b1cd-83819959d058",
   "metadata": {},
   "outputs": [
    {
     "data": {
      "text/plain": [
       "\u001b[0;31mInit signature:\u001b[0m \u001b[0mrange\u001b[0m\u001b[0;34m(\u001b[0m\u001b[0mself\u001b[0m\u001b[0;34m,\u001b[0m \u001b[0;34m/\u001b[0m\u001b[0;34m,\u001b[0m \u001b[0;34m*\u001b[0m\u001b[0margs\u001b[0m\u001b[0;34m,\u001b[0m \u001b[0;34m**\u001b[0m\u001b[0mkwargs\u001b[0m\u001b[0;34m)\u001b[0m\u001b[0;34m\u001b[0m\u001b[0;34m\u001b[0m\u001b[0m\n",
       "\u001b[0;31mDocstring:\u001b[0m     \n",
       "range(stop) -> range object\n",
       "range(start, stop[, step]) -> range object\n",
       "\n",
       "Return an object that produces a sequence of integers from start (inclusive)\n",
       "to stop (exclusive) by step.  range(i, j) produces i, i+1, i+2, ..., j-1.\n",
       "start defaults to 0, and stop is omitted!  range(4) produces 0, 1, 2, 3.\n",
       "These are exactly the valid indices for a list of 4 elements.\n",
       "When step is given, it specifies the increment (or decrement).\n",
       "\u001b[0;31mType:\u001b[0m           type\n",
       "\u001b[0;31mSubclasses:\u001b[0m     \n"
      ]
     },
     "metadata": {},
     "output_type": "display_data"
    }
   ],
   "source": [
    "range?"
   ]
  },
  {
   "cell_type": "code",
   "execution_count": 60,
   "id": "a8e2167c-ed3f-4576-bd74-e3893665e0ac",
   "metadata": {},
   "outputs": [
    {
     "name": "stdout",
     "output_type": "stream",
     "text": [
      "Help on ufunc:\n",
      "\n",
      "cos = <ufunc 'cos'>\n",
      "    cos(x, /, out=None, *, where=True, casting='same_kind', order='K', dtype=None, subok=True[, signature, extobj])\n",
      "    \n",
      "    Cosine element-wise.\n",
      "    \n",
      "    Parameters\n",
      "    ----------\n",
      "    x : array_like\n",
      "        Input array in radians.\n",
      "    out : ndarray, None, or tuple of ndarray and None, optional\n",
      "        A location into which the result is stored. If provided, it must have\n",
      "        a shape that the inputs broadcast to. If not provided or None,\n",
      "        a freshly-allocated array is returned. A tuple (possible only as a\n",
      "        keyword argument) must have length equal to the number of outputs.\n",
      "    where : array_like, optional\n",
      "        This condition is broadcast over the input. At locations where the\n",
      "        condition is True, the `out` array will be set to the ufunc result.\n",
      "        Elsewhere, the `out` array will retain its original value.\n",
      "        Note that if an uninitialized `out` array is created via the default\n",
      "        ``out=None``, locations within it where the condition is False will\n",
      "        remain uninitialized.\n",
      "    **kwargs\n",
      "        For other keyword-only arguments, see the\n",
      "        :ref:`ufunc docs <ufuncs.kwargs>`.\n",
      "    \n",
      "    Returns\n",
      "    -------\n",
      "    y : ndarray\n",
      "        The corresponding cosine values.\n",
      "        This is a scalar if `x` is a scalar.\n",
      "    \n",
      "    Notes\n",
      "    -----\n",
      "    If `out` is provided, the function writes the result into it,\n",
      "    and returns a reference to `out`.  (See Examples)\n",
      "    \n",
      "    References\n",
      "    ----------\n",
      "    M. Abramowitz and I. A. Stegun, Handbook of Mathematical Functions.\n",
      "    New York, NY: Dover, 1972.\n",
      "    \n",
      "    Examples\n",
      "    --------\n",
      "    >>> np.cos(np.array([0, np.pi/2, np.pi]))\n",
      "    array([  1.00000000e+00,   6.12303177e-17,  -1.00000000e+00])\n",
      "    >>>\n",
      "    >>> # Example of providing the optional output parameter\n",
      "    >>> out1 = np.array([0], dtype='d')\n",
      "    >>> out2 = np.cos([0.1], out1)\n",
      "    >>> out2 is out1\n",
      "    True\n",
      "    >>>\n",
      "    >>> # Example of ValueError due to provision of shape mis-matched `out`\n",
      "    >>> np.cos(np.zeros((3,3)),np.zeros((2,2)))\n",
      "    Traceback (most recent call last):\n",
      "      File \"<stdin>\", line 1, in <module>\n",
      "    ValueError: operands could not be broadcast together with shapes (3,3) (2,2)\n",
      "\n"
     ]
    }
   ],
   "source": [
    "help(np.cos)"
   ]
  },
  {
   "cell_type": "code",
   "execution_count": 61,
   "id": "d2ad08d2-01b7-4885-8726-b72edc73f07c",
   "metadata": {},
   "outputs": [
    {
     "data": {
      "text/plain": [
       "\u001b[0;31mCall signature:\u001b[0m  \u001b[0mnp\u001b[0m\u001b[0;34m.\u001b[0m\u001b[0mcos\u001b[0m\u001b[0;34m(\u001b[0m\u001b[0;34m*\u001b[0m\u001b[0margs\u001b[0m\u001b[0;34m,\u001b[0m \u001b[0;34m**\u001b[0m\u001b[0mkwargs\u001b[0m\u001b[0;34m)\u001b[0m\u001b[0;34m\u001b[0m\u001b[0;34m\u001b[0m\u001b[0m\n",
       "\u001b[0;31mType:\u001b[0m            ufunc\n",
       "\u001b[0;31mString form:\u001b[0m     <ufunc 'cos'>\n",
       "\u001b[0;31mFile:\u001b[0m            ~/miniconda3/lib/python3.9/site-packages/numpy/__init__.py\n",
       "\u001b[0;31mDocstring:\u001b[0m      \n",
       "cos(x, /, out=None, *, where=True, casting='same_kind', order='K', dtype=None, subok=True[, signature, extobj])\n",
       "\n",
       "Cosine element-wise.\n",
       "\n",
       "Parameters\n",
       "----------\n",
       "x : array_like\n",
       "    Input array in radians.\n",
       "out : ndarray, None, or tuple of ndarray and None, optional\n",
       "    A location into which the result is stored. If provided, it must have\n",
       "    a shape that the inputs broadcast to. If not provided or None,\n",
       "    a freshly-allocated array is returned. A tuple (possible only as a\n",
       "    keyword argument) must have length equal to the number of outputs.\n",
       "where : array_like, optional\n",
       "    This condition is broadcast over the input. At locations where the\n",
       "    condition is True, the `out` array will be set to the ufunc result.\n",
       "    Elsewhere, the `out` array will retain its original value.\n",
       "    Note that if an uninitialized `out` array is created via the default\n",
       "    ``out=None``, locations within it where the condition is False will\n",
       "    remain uninitialized.\n",
       "**kwargs\n",
       "    For other keyword-only arguments, see the\n",
       "    :ref:`ufunc docs <ufuncs.kwargs>`.\n",
       "\n",
       "Returns\n",
       "-------\n",
       "y : ndarray\n",
       "    The corresponding cosine values.\n",
       "    This is a scalar if `x` is a scalar.\n",
       "\n",
       "Notes\n",
       "-----\n",
       "If `out` is provided, the function writes the result into it,\n",
       "and returns a reference to `out`.  (See Examples)\n",
       "\n",
       "References\n",
       "----------\n",
       "M. Abramowitz and I. A. Stegun, Handbook of Mathematical Functions.\n",
       "New York, NY: Dover, 1972.\n",
       "\n",
       "Examples\n",
       "--------\n",
       ">>> np.cos(np.array([0, np.pi/2, np.pi]))\n",
       "array([  1.00000000e+00,   6.12303177e-17,  -1.00000000e+00])\n",
       ">>>\n",
       ">>> # Example of providing the optional output parameter\n",
       ">>> out1 = np.array([0], dtype='d')\n",
       ">>> out2 = np.cos([0.1], out1)\n",
       ">>> out2 is out1\n",
       "True\n",
       ">>>\n",
       ">>> # Example of ValueError due to provision of shape mis-matched `out`\n",
       ">>> np.cos(np.zeros((3,3)),np.zeros((2,2)))\n",
       "Traceback (most recent call last):\n",
       "  File \"<stdin>\", line 1, in <module>\n",
       "ValueError: operands could not be broadcast together with shapes (3,3) (2,2)\n",
       "\u001b[0;31mClass docstring:\u001b[0m\n",
       "Functions that operate element by element on whole arrays.\n",
       "\n",
       "To see the documentation for a specific ufunc, use `info`.  For\n",
       "example, ``np.info(np.sin)``.  Because ufuncs are written in C\n",
       "(for speed) and linked into Python with NumPy's ufunc facility,\n",
       "Python's help() function finds this page whenever help() is called\n",
       "on a ufunc.\n",
       "\n",
       "A detailed explanation of ufuncs can be found in the docs for :ref:`ufuncs`.\n",
       "\n",
       "Calling ufuncs:\n",
       "===============\n",
       "\n",
       "op(*x[, out], where=True, **kwargs)\n",
       "Apply `op` to the arguments `*x` elementwise, broadcasting the arguments.\n",
       "\n",
       "The broadcasting rules are:\n",
       "\n",
       "* Dimensions of length 1 may be prepended to either array.\n",
       "* Arrays may be repeated along dimensions of length 1.\n",
       "\n",
       "Parameters\n",
       "----------\n",
       "*x : array_like\n",
       "    Input arrays.\n",
       "out : ndarray, None, or tuple of ndarray and None, optional\n",
       "    Alternate array object(s) in which to put the result; if provided, it\n",
       "    must have a shape that the inputs broadcast to. A tuple of arrays\n",
       "    (possible only as a keyword argument) must have length equal to the\n",
       "    number of outputs; use None for uninitialized outputs to be\n",
       "    allocated by the ufunc.\n",
       "where : array_like, optional\n",
       "    This condition is broadcast over the input. At locations where the\n",
       "    condition is True, the `out` array will be set to the ufunc result.\n",
       "    Elsewhere, the `out` array will retain its original value.\n",
       "    Note that if an uninitialized `out` array is created via the default\n",
       "    ``out=None``, locations within it where the condition is False will\n",
       "    remain uninitialized.\n",
       "**kwargs\n",
       "    For other keyword-only arguments, see the :ref:`ufunc docs <ufuncs.kwargs>`.\n",
       "\n",
       "Returns\n",
       "-------\n",
       "r : ndarray or tuple of ndarray\n",
       "    `r` will have the shape that the arrays in `x` broadcast to; if `out` is\n",
       "    provided, it will be returned. If not, `r` will be allocated and\n",
       "    may contain uninitialized values. If the function has more than one\n",
       "    output, then the result will be a tuple of arrays.\n"
      ]
     },
     "metadata": {},
     "output_type": "display_data"
    }
   ],
   "source": [
    "np.cos?"
   ]
  },
  {
   "cell_type": "markdown",
   "id": "0c89e40f-959a-4cfe-b45e-cf9b6eeabb2b",
   "metadata": {},
   "source": [
    "What is printed by calling `help` matches the documentation of these functions on their respective websites. Sometimes the docstrings can be verbose and overwhelming, but they won't be after some time and practice with programming."
   ]
  },
  {
   "cell_type": "markdown",
   "id": "ab74d5a2-65a0-43c0-826d-4e89fe38048a",
   "metadata": {},
   "source": [
    "Anyway, running the function using the location of the arguments, we have the following."
   ]
  },
  {
   "cell_type": "code",
   "execution_count": 62,
   "id": "b2c3f908-bd04-4683-b976-e8b17b91fb9f",
   "metadata": {},
   "outputs": [
    {
     "name": "stdout",
     "output_type": "stream",
     "text": [
      "0.7390851332151605\n"
     ]
    }
   ],
   "source": [
    "init_x = 100\n",
    "tol = 1e-16\n",
    "maxiters=100\n",
    "final_x = solve_x_eq_cosx(init_x, tol, maxiters)\n",
    "print(final_x)"
   ]
  },
  {
   "cell_type": "markdown",
   "id": "44feed58-75be-498a-be9d-889878d7788e",
   "metadata": {},
   "source": [
    "Running the function by specifying keywords, we have the following."
   ]
  },
  {
   "cell_type": "code",
   "execution_count": 63,
   "id": "e763bd46-d84b-4daa-a94e-9e23b5d81390",
   "metadata": {},
   "outputs": [
    {
     "name": "stdout",
     "output_type": "stream",
     "text": [
      "0.7390851332151605\n"
     ]
    }
   ],
   "source": [
    "final_x = solve_x_eq_cosx(maxiters=maxiters, x=x, tol=tol)\n",
    "print(final_x)"
   ]
  },
  {
   "cell_type": "markdown",
   "id": "b9bf9de9-b231-4204-89ff-1b5238eecfc0",
   "metadata": {},
   "source": [
    "Now let's rewrite the function with arguments having default values for `tol` and `maxiters`. Notice how we change the docstring (following established conventions)."
   ]
  },
  {
   "cell_type": "code",
   "execution_count": 64,
   "id": "36f410f3-9005-451e-8ba2-b095e14652a4",
   "metadata": {},
   "outputs": [],
   "source": [
    "def solve_x_eq_cosx(x, tol=1e-4, maxiters=100):\n",
    "    \"\"\"\n",
    "    Solve the transcendental equation x = cosx.\n",
    "    \n",
    "    The equation is solved using the method of iterations.\n",
    "    See http://www.simumath.com/library/book.html?code=Alg_Equations_Iterations.\n",
    "    \n",
    "    Parameters\n",
    "    ----------\n",
    "    x : float\n",
    "        Initial value for x\n",
    "    tol : float, default 1e-4\n",
    "        Error tolerance.\n",
    "    maxiters : int, default 100\n",
    "        Maximum number of iterations to be performed.\n",
    "    \n",
    "    Returns\n",
    "    -------\n",
    "    x : float\n",
    "        The approximation solution to x = cosx.\n",
    "    \"\"\"\n",
    "    err = 100\n",
    "    counter = 0\n",
    "    \n",
    "    while (err > tol) and (counter < maxiters):\n",
    "        cosx = np.cos(x)\n",
    "        err = np.abs((x - cosx) / x)\n",
    "        x = cosx\n",
    "        counter += 1\n",
    "        \n",
    "    return x"
   ]
  },
  {
   "cell_type": "markdown",
   "id": "a9196069-186f-44d0-a32d-1076d9a17d1d",
   "metadata": {},
   "source": [
    "Calling `help` on the function will also show us that parameters are set to default values."
   ]
  },
  {
   "cell_type": "code",
   "execution_count": 65,
   "id": "ab3182ae-48b4-4434-94a0-c1c60e45ea9d",
   "metadata": {},
   "outputs": [
    {
     "name": "stdout",
     "output_type": "stream",
     "text": [
      "Help on function solve_x_eq_cosx in module __main__:\n",
      "\n",
      "solve_x_eq_cosx(x, tol=0.0001, maxiters=100)\n",
      "    Solve the transcendental equation x = cosx.\n",
      "    \n",
      "    The equation is solved using the method of iterations.\n",
      "    See http://www.simumath.com/library/book.html?code=Alg_Equations_Iterations.\n",
      "    \n",
      "    Parameters\n",
      "    ----------\n",
      "    x : float\n",
      "        Initial value for x\n",
      "    tol : float, default 1e-4\n",
      "        Error tolerance.\n",
      "    maxiters : int, default 100\n",
      "        Maximum number of iterations to be performed.\n",
      "    \n",
      "    Returns\n",
      "    -------\n",
      "    x : float\n",
      "        The approximation solution to x = cosx.\n",
      "\n"
     ]
    }
   ],
   "source": [
    "help(solve_x_eq_cosx)"
   ]
  },
  {
   "cell_type": "markdown",
   "id": "f3d28ed7-f635-4ea4-9885-92eb2e74a4e8",
   "metadata": {},
   "source": [
    "We can now call the function without having to set `tol` or `maxiters`."
   ]
  },
  {
   "cell_type": "code",
   "execution_count": 66,
   "id": "0b640717-9895-4203-821a-67f22cfb1185",
   "metadata": {},
   "outputs": [
    {
     "name": "stdout",
     "output_type": "stream",
     "text": [
      "0.7391064068713784\n"
     ]
    }
   ],
   "source": [
    "init_x = 100\n",
    "final_x = solve_x_eq_cosx(init_x)\n",
    "print(final_x)"
   ]
  },
  {
   "cell_type": "markdown",
   "id": "ad8327d0-e711-4a1e-8570-d52a5e67e43f",
   "metadata": {},
   "source": [
    "Let's also write a function that returns that result of our Taylor series for $\\ln(1 + x)$. Have its arguments be $x$; `maxiters`, the number of terms we want with a default value set to $10$; and `verbose`, a bool which when set to `True` enables the printing of the approximation with each new term."
   ]
  },
  {
   "cell_type": "code",
   "execution_count": 67,
   "id": "99b4649e-c53a-4908-ae5a-f39a37b20f15",
   "metadata": {},
   "outputs": [],
   "source": [
    "def compute_ln_1px(x, maxiters=10, verbose=False):\n",
    "    \"\"\"\n",
    "    Compute Taylor expansion for ln(1 + x) up to the maxiters-th term.\n",
    "    \n",
    "    Parameters\n",
    "    ----------\n",
    "    x : float\n",
    "        Value of x for ln(1 + x).\n",
    "    maxiters : int, default 10\n",
    "        Maximum expansion term calculated.\n",
    "    verbose : bool, default False\n",
    "        Controls whether each approximation is printed.\n",
    "    \n",
    "    Returns\n",
    "    -------\n",
    "    ln_1px : float\n",
    "        The Taylor series approximation for ln(1 + x).\n",
    "    \"\"\"\n",
    "    ln_1px = 0\n",
    "    for i in range(1, maxiters + 1):\n",
    "        ln_1px += (-1)**(i + 1) * (x**i) / i\n",
    "        if verbose:\n",
    "            print(ln_1px)\n",
    "    return ln_1px"
   ]
  },
  {
   "cell_type": "code",
   "execution_count": 68,
   "id": "ab9f8895-6852-4431-ab57-12d727e0cbee",
   "metadata": {},
   "outputs": [
    {
     "name": "stdout",
     "output_type": "stream",
     "text": [
      "0.5\n",
      "0.375\n",
      "0.4166666666666667\n",
      "0.4010416666666667\n",
      "0.40729166666666666\n",
      "0.4046875\n",
      "0.40580357142857143\n",
      "0.40531529017857143\n",
      "0.4055323040674603\n",
      "0.4054346478174603\n"
     ]
    },
    {
     "data": {
      "text/plain": [
       "0.4054346478174603"
      ]
     },
     "execution_count": 68,
     "metadata": {},
     "output_type": "execute_result"
    }
   ],
   "source": [
    "compute_ln_1px(0.5, verbose=True)"
   ]
  },
  {
   "cell_type": "markdown",
   "id": "f60762a9-c4cb-4ad6-b8d0-310766fdd492",
   "metadata": {},
   "source": [
    "# Numpy\n",
    "___\n",
    "\n",
    "Numpy provides a [plethora](https://numpy.org/doc/stable/reference/routines.math.html) of mathematical functions. For instance, we can calculate $\\ln$ using [`np.log`](https://numpy.org/doc/stable/reference/generated/numpy.log.html). "
   ]
  },
  {
   "cell_type": "code",
   "execution_count": 69,
   "id": "cc35bc39-3261-4e74-b26f-35ce640f020d",
   "metadata": {},
   "outputs": [
    {
     "data": {
      "text/plain": [
       "0.4054651081081644"
      ]
     },
     "execution_count": 69,
     "metadata": {},
     "output_type": "execute_result"
    }
   ],
   "source": [
    "np.log(1.5)"
   ]
  },
  {
   "cell_type": "markdown",
   "id": "77cde1f7-fd10-4839-9bd9-c2c66b2f7f9a",
   "metadata": {},
   "source": [
    "Compare this to your value obtained using `compute_ln_1px`.\n",
    "\n",
    "As a reminder, if you don't preface `log` with `np.`, the code will not work. `np.log` says that `log` comes from the `np` module."
   ]
  },
  {
   "cell_type": "code",
   "execution_count": 70,
   "id": "40387ae8-8955-41fe-ab5c-133702703105",
   "metadata": {},
   "outputs": [
    {
     "ename": "NameError",
     "evalue": "name 'log' is not defined",
     "output_type": "error",
     "traceback": [
      "\u001b[0;31m---------------------------------------------------------------------------\u001b[0m",
      "\u001b[0;31mNameError\u001b[0m                                 Traceback (most recent call last)",
      "\u001b[0;32m/var/folders/40/gdc7lk492jg0ydt_fxl1w_3h0000gn/T/ipykernel_25594/4090437103.py\u001b[0m in \u001b[0;36m<module>\u001b[0;34m\u001b[0m\n\u001b[0;32m----> 1\u001b[0;31m \u001b[0mlog\u001b[0m\u001b[0;34m(\u001b[0m\u001b[0;36m1.5\u001b[0m\u001b[0;34m)\u001b[0m\u001b[0;34m\u001b[0m\u001b[0;34m\u001b[0m\u001b[0m\n\u001b[0m",
      "\u001b[0;31mNameError\u001b[0m: name 'log' is not defined"
     ]
    }
   ],
   "source": [
    "log(1.5)"
   ]
  },
  {
   "cell_type": "markdown",
   "id": "dadcac01-577c-4e76-bb93-09865154607e",
   "metadata": {},
   "source": [
    "Try out other Numpy mathematical functions! See what you get."
   ]
  },
  {
   "cell_type": "markdown",
   "id": "6ed090ba-f539-46c0-9ed8-dcaafbcc4e73",
   "metadata": {},
   "source": [
    "## Numpy arrays"
   ]
  },
  {
   "cell_type": "markdown",
   "id": "fd60ae8c-7f29-46cb-86c0-f5456ba31aa5",
   "metadata": {},
   "source": [
    "The basic container of Numpy is a Numpy array. Numpy arrays are initialized with a certain shape and value. Typically Numpy arrays are initialized with zeros or ones."
   ]
  },
  {
   "cell_type": "code",
   "execution_count": 71,
   "id": "a125fca8-5761-4452-9f7e-106ab41ad8f5",
   "metadata": {},
   "outputs": [
    {
     "name": "stdout",
     "output_type": "stream",
     "text": [
      "[0. 0. 0. 0. 0. 0. 0. 0. 0. 0.]\n",
      "[1. 1. 1. 1. 1. 1. 1. 1. 1. 1.]\n"
     ]
    }
   ],
   "source": [
    "array_of_zeros = np.zeros(shape=10)\n",
    "print(array_of_zeros)\n",
    "array_of_ones = np.ones(shape=10)\n",
    "print(array_of_ones)"
   ]
  },
  {
   "cell_type": "markdown",
   "id": "547a2caf-6a1d-4c53-9d2e-24356ace42fe",
   "metadata": {},
   "source": [
    "You could similarly not specify `shape` as a keyword argument and get the same result since `shape` is the first argument of these functions."
   ]
  },
  {
   "cell_type": "code",
   "execution_count": 72,
   "id": "8329a38d-ab51-45a8-87bd-aea9d17de157",
   "metadata": {},
   "outputs": [
    {
     "name": "stdout",
     "output_type": "stream",
     "text": [
      "[0. 0. 0. 0. 0. 0. 0. 0. 0. 0.]\n",
      "[1. 1. 1. 1. 1. 1. 1. 1. 1. 1.]\n"
     ]
    }
   ],
   "source": [
    "array_of_zeros = np.zeros(10)\n",
    "print(array_of_zeros)\n",
    "array_of_ones = np.ones(10)\n",
    "print(array_of_ones)"
   ]
  },
  {
   "cell_type": "markdown",
   "id": "0c53c139-90f4-4dcc-bdd4-22dc7e8621fb",
   "metadata": {},
   "source": [
    "Arithmetic operators using scalars are performed naturally. Let's perform some operations and assign these to arrays to variables to be used later."
   ]
  },
  {
   "cell_type": "code",
   "execution_count": 73,
   "id": "8a2d8f89-1798-4f63-b800-924467696c67",
   "metadata": {},
   "outputs": [
    {
     "name": "stdout",
     "output_type": "stream",
     "text": [
      "[72. 72. 72. 72. 72. 72. 72. 72. 72. 72.]\n"
     ]
    }
   ],
   "source": [
    "array_of_72s = array_of_zeros + 72\n",
    "print(array_of_72s)"
   ]
  },
  {
   "cell_type": "code",
   "execution_count": 74,
   "id": "9b3cc466-23ac-46f8-8058-f17ceb8183b8",
   "metadata": {},
   "outputs": [
    {
     "name": "stdout",
     "output_type": "stream",
     "text": [
      "[-35. -35. -35. -35. -35. -35. -35. -35. -35. -35.]\n"
     ]
    }
   ],
   "source": [
    "array_of_neg35 = array_of_zeros - 35\n",
    "print(array_of_neg35)"
   ]
  },
  {
   "cell_type": "code",
   "execution_count": 75,
   "id": "23d1ff11-26c1-4897-90da-eb5f912bd798",
   "metadata": {},
   "outputs": [
    {
     "name": "stdout",
     "output_type": "stream",
     "text": [
      "[8. 8. 8. 8. 8. 8. 8. 8. 8. 8.]\n"
     ]
    }
   ],
   "source": [
    "array_of_8s = array_of_ones * 8\n",
    "print(array_of_8s)"
   ]
  },
  {
   "cell_type": "markdown",
   "id": "f66ac449-09ad-4b97-b40d-36889bbbc8bd",
   "metadata": {},
   "source": [
    "Numpy has its own range function [`np.arange`](https://numpy.org/doc/stable/reference/generated/numpy.arange.html)."
   ]
  },
  {
   "cell_type": "code",
   "execution_count": 76,
   "id": "a49e0168-0b88-454f-b42a-132ee1d137cb",
   "metadata": {},
   "outputs": [
    {
     "name": "stdout",
     "output_type": "stream",
     "text": [
      "[0 1 2 3 4 5 6 7 8 9]\n"
     ]
    }
   ],
   "source": [
    "my_range = np.arange(10)\n",
    "print(my_range)"
   ]
  },
  {
   "cell_type": "markdown",
   "id": "d13aa8d6-5842-40af-90b7-1f9156c53fd5",
   "metadata": {},
   "source": [
    "Unlike Python's native `range`, `np.arange` can have non-integer step sizes."
   ]
  },
  {
   "cell_type": "code",
   "execution_count": 77,
   "id": "df282014-fe7e-4a2a-8919-62e8dd36d547",
   "metadata": {},
   "outputs": [
    {
     "ename": "TypeError",
     "evalue": "'float' object cannot be interpreted as an integer",
     "output_type": "error",
     "traceback": [
      "\u001b[0;31m---------------------------------------------------------------------------\u001b[0m",
      "\u001b[0;31mTypeError\u001b[0m                                 Traceback (most recent call last)",
      "\u001b[0;32m/var/folders/40/gdc7lk492jg0ydt_fxl1w_3h0000gn/T/ipykernel_25594/2390780193.py\u001b[0m in \u001b[0;36m<module>\u001b[0;34m\u001b[0m\n\u001b[0;32m----> 1\u001b[0;31m \u001b[0mrange\u001b[0m\u001b[0;34m(\u001b[0m\u001b[0;36m0\u001b[0m\u001b[0;34m,\u001b[0m\u001b[0;36m10\u001b[0m\u001b[0;34m,\u001b[0m\u001b[0;36m0.1\u001b[0m\u001b[0;34m)\u001b[0m\u001b[0;34m\u001b[0m\u001b[0;34m\u001b[0m\u001b[0m\n\u001b[0m",
      "\u001b[0;31mTypeError\u001b[0m: 'float' object cannot be interpreted as an integer"
     ]
    }
   ],
   "source": [
    "range(0,10,0.1)"
   ]
  },
  {
   "cell_type": "code",
   "execution_count": 78,
   "id": "dce29560-d1c2-4f74-960e-e53fb7a8c4ff",
   "metadata": {},
   "outputs": [
    {
     "data": {
      "text/plain": [
       "array([0. , 0.1, 0.2, 0.3, 0.4, 0.5, 0.6, 0.7, 0.8, 0.9, 1. , 1.1, 1.2,\n",
       "       1.3, 1.4, 1.5, 1.6, 1.7, 1.8, 1.9, 2. , 2.1, 2.2, 2.3, 2.4, 2.5,\n",
       "       2.6, 2.7, 2.8, 2.9, 3. , 3.1, 3.2, 3.3, 3.4, 3.5, 3.6, 3.7, 3.8,\n",
       "       3.9, 4. , 4.1, 4.2, 4.3, 4.4, 4.5, 4.6, 4.7, 4.8, 4.9, 5. , 5.1,\n",
       "       5.2, 5.3, 5.4, 5.5, 5.6, 5.7, 5.8, 5.9, 6. , 6.1, 6.2, 6.3, 6.4,\n",
       "       6.5, 6.6, 6.7, 6.8, 6.9, 7. , 7.1, 7.2, 7.3, 7.4, 7.5, 7.6, 7.7,\n",
       "       7.8, 7.9, 8. , 8.1, 8.2, 8.3, 8.4, 8.5, 8.6, 8.7, 8.8, 8.9, 9. ,\n",
       "       9.1, 9.2, 9.3, 9.4, 9.5, 9.6, 9.7, 9.8, 9.9])"
      ]
     },
     "execution_count": 78,
     "metadata": {},
     "output_type": "execute_result"
    }
   ],
   "source": [
    "np.arange(0,10,0.1)"
   ]
  },
  {
   "cell_type": "markdown",
   "id": "a101c7ab-10ab-4f06-926a-2a90db4354a5",
   "metadata": {},
   "source": [
    "Now let's perform operations between arrays. Operations are performed element-wise."
   ]
  },
  {
   "cell_type": "code",
   "execution_count": 79,
   "id": "fa1c9f7c-1802-42a8-9186-dcce6ea57674",
   "metadata": {},
   "outputs": [
    {
     "data": {
      "text/plain": [
       "array([72., 73., 74., 75., 76., 77., 78., 79., 80., 81.])"
      ]
     },
     "execution_count": 79,
     "metadata": {},
     "output_type": "execute_result"
    }
   ],
   "source": [
    "array_of_72s + my_range"
   ]
  },
  {
   "cell_type": "code",
   "execution_count": 80,
   "id": "2c4cea05-57c7-4e9f-8b3b-7caf16ac5b30",
   "metadata": {},
   "outputs": [
    {
     "data": {
      "text/plain": [
       "array([72., 71., 70., 69., 68., 67., 66., 65., 64., 63.])"
      ]
     },
     "execution_count": 80,
     "metadata": {},
     "output_type": "execute_result"
    }
   ],
   "source": [
    "array_of_72s - my_range"
   ]
  },
  {
   "cell_type": "code",
   "execution_count": 81,
   "id": "8980be42-5bb1-40df-830b-390eaebee881",
   "metadata": {},
   "outputs": [
    {
     "data": {
      "text/plain": [
       "array([  0.,  72., 144., 216., 288., 360., 432., 504., 576., 648.])"
      ]
     },
     "execution_count": 81,
     "metadata": {},
     "output_type": "execute_result"
    }
   ],
   "source": [
    "array_of_72s * my_range"
   ]
  },
  {
   "cell_type": "code",
   "execution_count": 82,
   "id": "d0cd0041-66dc-46ad-8b79-b32daced1e99",
   "metadata": {},
   "outputs": [
    {
     "name": "stderr",
     "output_type": "stream",
     "text": [
      "/var/folders/40/gdc7lk492jg0ydt_fxl1w_3h0000gn/T/ipykernel_25594/1079154515.py:1: RuntimeWarning: divide by zero encountered in true_divide\n",
      "  array_of_72s / my_range\n"
     ]
    },
    {
     "data": {
      "text/plain": [
       "array([        inf, 72.        , 36.        , 24.        , 18.        ,\n",
       "       14.4       , 12.        , 10.28571429,  9.        ,  8.        ])"
      ]
     },
     "execution_count": 82,
     "metadata": {},
     "output_type": "execute_result"
    }
   ],
   "source": [
    "array_of_72s / my_range"
   ]
  },
  {
   "cell_type": "markdown",
   "id": "f7a745f5-668d-4006-93f8-2d725af9091f",
   "metadata": {},
   "source": [
    "When programming, warnings are helpful and not the end of the world. Here, Numpy gives a warning when we perform division by 0. When dividing by zero, Numpy returns `np.inf`."
   ]
  },
  {
   "cell_type": "code",
   "execution_count": 83,
   "id": "88839455-93cb-4120-8518-7a9148744dc4",
   "metadata": {},
   "outputs": [
    {
     "data": {
      "text/plain": [
       "array([nan, 72., 36., 24., 18., 14., 12., 10.,  9.,  8.])"
      ]
     },
     "execution_count": 83,
     "metadata": {},
     "output_type": "execute_result"
    }
   ],
   "source": [
    "array_of_72s // my_range"
   ]
  },
  {
   "cell_type": "code",
   "execution_count": 84,
   "id": "60471c40-9521-4f23-b81c-007ecf84ca11",
   "metadata": {},
   "outputs": [
    {
     "data": {
      "text/plain": [
       "array([1.00000000e+00, 7.20000000e+01, 5.18400000e+03, 3.73248000e+05,\n",
       "       2.68738560e+07, 1.93491763e+09, 1.39314070e+11, 1.00306130e+13,\n",
       "       7.22204136e+14, 5.19986978e+16])"
      ]
     },
     "execution_count": 84,
     "metadata": {},
     "output_type": "execute_result"
    }
   ],
   "source": [
    "array_of_72s**my_range"
   ]
  },
  {
   "cell_type": "code",
   "execution_count": 85,
   "id": "d77d4c5e-56e6-4215-b5b0-1f083e792834",
   "metadata": {},
   "outputs": [
    {
     "data": {
      "text/plain": [
       "array([nan,  0.,  0.,  0.,  0.,  2.,  0.,  2.,  0.,  0.])"
      ]
     },
     "execution_count": 85,
     "metadata": {},
     "output_type": "execute_result"
    }
   ],
   "source": [
    "array_of_72s % my_range"
   ]
  },
  {
   "cell_type": "markdown",
   "id": "347d0fe4-cf46-4bfa-b0fa-07c419dbf0d6",
   "metadata": {},
   "source": [
    "It's extremely easy to perform mathematical operations on Numpy arrays by construction. The mathematical operations are performed element-wise without any need for a `for` loop. They're also much faster than if we were to use `for` loops."
   ]
  },
  {
   "cell_type": "markdown",
   "id": "546268fa-f36b-40bc-8934-8aa0ed2f2983",
   "metadata": {},
   "source": [
    "Numpy slicing is similar to that we learned for a `list`, but it has much more functionality."
   ]
  },
  {
   "cell_type": "code",
   "execution_count": 86,
   "id": "9c5c4829-d764-4268-8d04-0584026e6c87",
   "metadata": {},
   "outputs": [],
   "source": [
    "my_range_squared = my_range**2"
   ]
  },
  {
   "cell_type": "code",
   "execution_count": 87,
   "id": "07a7ef3a-e1a9-4464-8186-e48f90418a0e",
   "metadata": {},
   "outputs": [
    {
     "data": {
      "text/plain": [
       "array([ 1,  4,  9, 16])"
      ]
     },
     "execution_count": 87,
     "metadata": {},
     "output_type": "execute_result"
    }
   ],
   "source": [
    "my_range_squared[1:5]"
   ]
  },
  {
   "cell_type": "code",
   "execution_count": 88,
   "id": "0a598cbe-e79d-49a1-8a5b-bb986b391ec2",
   "metadata": {},
   "outputs": [
    {
     "data": {
      "text/plain": [
       "array([25, 36, 49, 64, 81])"
      ]
     },
     "execution_count": 88,
     "metadata": {},
     "output_type": "execute_result"
    }
   ],
   "source": [
    "my_range_squared[-5:]"
   ]
  },
  {
   "cell_type": "markdown",
   "id": "ab3f7ea3-e451-459d-bae0-ba779a55af54",
   "metadata": {},
   "source": [
    "We can also slice by using a `list` (or Numpy array) of indices. (This doesn't work for a `list`)."
   ]
  },
  {
   "cell_type": "code",
   "execution_count": 89,
   "id": "10a5c3cf-a0ee-4fe0-bea6-838bac5eb28e",
   "metadata": {},
   "outputs": [
    {
     "data": {
      "text/plain": [
       "array([ 1, 25, 36])"
      ]
     },
     "execution_count": 89,
     "metadata": {},
     "output_type": "execute_result"
    }
   ],
   "source": [
    "my_range_squared[[1,5,6]]"
   ]
  },
  {
   "cell_type": "code",
   "execution_count": 90,
   "id": "d950ae81-11a8-48a9-98d7-2743c3181d39",
   "metadata": {},
   "outputs": [
    {
     "data": {
      "text/plain": [
       "array([ 1, 25, 36])"
      ]
     },
     "execution_count": 90,
     "metadata": {},
     "output_type": "execute_result"
    }
   ],
   "source": [
    "my_range_squared[np.array([1,5,6])]"
   ]
  },
  {
   "cell_type": "code",
   "execution_count": 91,
   "id": "54fb2a49-328e-41bc-aebe-41e083fa4671",
   "metadata": {},
   "outputs": [
    {
     "data": {
      "text/plain": [
       "array([25, 25, 25, 25, 81])"
      ]
     },
     "execution_count": 91,
     "metadata": {},
     "output_type": "execute_result"
    }
   ],
   "source": [
    "my_range_squared[[5,5,5,5,9]]"
   ]
  },
  {
   "cell_type": "markdown",
   "id": "3fef5bd1-09fc-46be-bc24-7db25ee73d93",
   "metadata": {},
   "source": [
    "We can also access Numpy array by using conditionals."
   ]
  },
  {
   "cell_type": "code",
   "execution_count": 92,
   "id": "d59534a8-435e-4a28-9fcd-6513005eacd3",
   "metadata": {},
   "outputs": [
    {
     "data": {
      "text/plain": [
       "array([36, 49, 64, 81])"
      ]
     },
     "execution_count": 92,
     "metadata": {},
     "output_type": "execute_result"
    }
   ],
   "source": [
    "my_range_squared[my_range_squared > 30]"
   ]
  },
  {
   "cell_type": "code",
   "execution_count": 93,
   "id": "4919de74-d0a5-40c4-af42-8080289bfb18",
   "metadata": {},
   "outputs": [
    {
     "data": {
      "text/plain": [
       "array([ 0,  1,  4,  9, 16, 25])"
      ]
     },
     "execution_count": 93,
     "metadata": {},
     "output_type": "execute_result"
    }
   ],
   "source": [
    "my_range_squared[~(my_range_squared > 30)]"
   ]
  },
  {
   "cell_type": "markdown",
   "id": "46a3060a-3b07-4fb5-aa28-cd71c15b162f",
   "metadata": {},
   "source": [
    "We use `&` for `and` and `|` for `or` when using this conditional arrays."
   ]
  },
  {
   "cell_type": "code",
   "execution_count": 94,
   "id": "403ee392-4a6e-45af-8df7-53c007cbfa2b",
   "metadata": {},
   "outputs": [
    {
     "data": {
      "text/plain": [
       "array([36, 64])"
      ]
     },
     "execution_count": 94,
     "metadata": {},
     "output_type": "execute_result"
    }
   ],
   "source": [
    "my_range_squared[(my_range_squared > 30) & (my_range_squared % 2 == 0)]"
   ]
  },
  {
   "cell_type": "code",
   "execution_count": 95,
   "id": "3ad552e6-c178-410b-807e-d07574607dfd",
   "metadata": {},
   "outputs": [
    {
     "data": {
      "text/plain": [
       "array([ 0,  4, 16, 36, 49, 64, 81])"
      ]
     },
     "execution_count": 95,
     "metadata": {},
     "output_type": "execute_result"
    }
   ],
   "source": [
    "my_range_squared[(my_range_squared > 30) | (my_range_squared % 2 == 0)]"
   ]
  },
  {
   "cell_type": "markdown",
   "id": "0e6fc742-b235-4cfe-aa4e-731e061aa2cc",
   "metadata": {},
   "source": [
    "We can use any of these techniques of accessing the numpy array to also change its value."
   ]
  },
  {
   "cell_type": "code",
   "execution_count": 96,
   "id": "a9fac6ce-e43d-4610-bb40-ac501d060d72",
   "metadata": {},
   "outputs": [
    {
     "name": "stdout",
     "output_type": "stream",
     "text": [
      "[999   1 999   9 999  25 999 999 999 999]\n"
     ]
    }
   ],
   "source": [
    "my_range_squared[(my_range_squared > 30) | (my_range_squared % 2 == 0)] = 999\n",
    "print(my_range_squared)"
   ]
  },
  {
   "cell_type": "markdown",
   "id": "c389ddee-5903-4bc6-bdee-2d6d5d620c97",
   "metadata": {},
   "source": [
    "Numpy arrays can be n-dimensional. For instance, we can create a Numpy array with 3 dimensions."
   ]
  },
  {
   "cell_type": "code",
   "execution_count": 97,
   "id": "4ee594d7-ae1c-4ad3-a7bf-179b30ef7416",
   "metadata": {},
   "outputs": [
    {
     "name": "stdout",
     "output_type": "stream",
     "text": [
      "[[[0.00000000e+000 9.78249979e-322 0.00000000e+000]\n",
      "  [0.00000000e+000 0.00000000e+000 1.16096346e-028]\n",
      "  [1.96264353e+243 1.11789342e+253 9.31476631e+242]\n",
      "  [1.28623803e+248 6.95661039e-042 1.61771527e-075]\n",
      "  [1.28909005e-070 1.39804357e-076 9.09092043e+276]]\n",
      "\n",
      " [[4.66223811e-066 7.26080065e-043 4.26125637e-086]\n",
      "  [1.36080409e+257 9.25061186e+242 4.81417932e+199]\n",
      "  [3.02907762e-152 9.17677493e+170 4.24356851e+175]\n",
      "  [5.56218818e+180 1.24389634e+137 4.83245960e+276]\n",
      "  [2.29074372e-152 5.04523982e+223 6.79769280e-310]]]\n"
     ]
    }
   ],
   "source": [
    "my_3d_array = np.empty(shape=(2, 5, 3))\n",
    "print(my_3d_array)"
   ]
  },
  {
   "cell_type": "markdown",
   "id": "92329d5a-9110-4127-88ac-cac316736083",
   "metadata": {},
   "source": [
    "We can slice as we did above, but we must use a comma to separate slicing in each dimension. Lets make this 3d array more interesting."
   ]
  },
  {
   "cell_type": "code",
   "execution_count": 98,
   "id": "20bf7a0c-9c67-440d-a87e-80e289667ddb",
   "metadata": {},
   "outputs": [
    {
     "name": "stdout",
     "output_type": "stream",
     "text": [
      "[[[0.00000000e+000 9.78249979e-322 0.00000000e+000]\n",
      "  [0.00000000e+000 0.00000000e+000 1.16096346e-028]\n",
      "  [5.00000000e+000 5.00000000e+000 5.00000000e+000]\n",
      "  [1.28623803e+248 6.95661039e-042 1.61771527e-075]\n",
      "  [1.28909005e-070 1.39804357e-076 9.09092043e+276]]\n",
      "\n",
      " [[4.66223811e-066 7.26080065e-043 4.26125637e-086]\n",
      "  [1.36080409e+257 9.25061186e+242 4.81417932e+199]\n",
      "  [5.00000000e+000 5.00000000e+000 5.00000000e+000]\n",
      "  [5.56218818e+180 1.24389634e+137 4.83245960e+276]\n",
      "  [2.29074372e-152 5.04523982e+223 6.79769280e-310]]]\n"
     ]
    }
   ],
   "source": [
    "my_3d_array [:, 2, :] = 5\n",
    "print(my_3d_array)"
   ]
  },
  {
   "cell_type": "code",
   "execution_count": 99,
   "id": "6ba5fc3f-a07a-45b2-9b35-d4a0970cf50b",
   "metadata": {},
   "outputs": [
    {
     "name": "stdout",
     "output_type": "stream",
     "text": [
      "[[[0.00000000e+000 1.70000000e+001 0.00000000e+000]\n",
      "  [0.00000000e+000 1.70000000e+001 1.16096346e-028]\n",
      "  [5.00000000e+000 1.70000000e+001 5.00000000e+000]\n",
      "  [1.28623803e+248 1.70000000e+001 1.61771527e-075]\n",
      "  [1.28909005e-070 1.70000000e+001 9.09092043e+276]]\n",
      "\n",
      " [[4.66223811e-066 7.26080065e-043 4.26125637e-086]\n",
      "  [1.36080409e+257 9.25061186e+242 4.81417932e+199]\n",
      "  [5.00000000e+000 5.00000000e+000 5.00000000e+000]\n",
      "  [5.56218818e+180 1.24389634e+137 4.83245960e+276]\n",
      "  [2.29074372e-152 5.04523982e+223 6.79769280e-310]]]\n"
     ]
    }
   ],
   "source": [
    "my_3d_array[0, :, 1] = 17\n",
    "print(my_3d_array)"
   ]
  },
  {
   "cell_type": "code",
   "execution_count": 100,
   "id": "dca3174c-3bab-416e-9ce9-1039e946a219",
   "metadata": {},
   "outputs": [
    {
     "name": "stdout",
     "output_type": "stream",
     "text": [
      "[[[0.00000000e+000 1.70000000e+001 0.00000000e+000]\n",
      "  [0.00000000e+000 1.70000000e+001 1.16096346e-028]\n",
      "  [5.00000000e+000 1.70000000e+001 5.00000000e+000]\n",
      "  [1.28623803e+248 1.70000000e+001 1.61771527e-075]\n",
      "  [1.28909005e-070 1.70000000e+001 9.09092043e+276]]\n",
      "\n",
      " [[4.66223811e-066 7.26080065e-043 4.26125637e-086]\n",
      "  [1.36080409e+257 9.25061186e+242 4.81417932e+199]\n",
      "  [5.00000000e+000 5.00000000e+000 5.00000000e+000]\n",
      "  [5.56218818e+180 1.24389634e+137 5.80000000e+001]\n",
      "  [2.29074372e-152 5.04523982e+223 5.80000000e+001]]]\n"
     ]
    }
   ],
   "source": [
    "my_3d_array[1, 3:, -1] = 58\n",
    "print(my_3d_array)"
   ]
  },
  {
   "cell_type": "code",
   "execution_count": 101,
   "id": "59cfd434-ffc6-4e1e-8a2f-9fffa5f7146a",
   "metadata": {},
   "outputs": [
    {
     "name": "stdout",
     "output_type": "stream",
     "text": [
      "[[[ 0.00000000e+000  1.70000000e+001  0.00000000e+000]\n",
      "  [ 0.00000000e+000  1.70000000e+001  1.16096346e-028]\n",
      "  [ 5.00000000e+000  1.70000000e+001  5.00000000e+000]\n",
      "  [ 1.28623803e+248  1.70000000e+001  1.61771527e-075]\n",
      "  [ 1.28909005e-070  1.70000000e+001  9.09092043e+276]]\n",
      "\n",
      " [[ 4.66223811e-066  7.26080065e-043  4.26125637e-086]\n",
      "  [ 1.36080409e+257  9.25061186e+242  4.81417932e+199]\n",
      "  [ 5.00000000e+000  5.00000000e+000  5.00000000e+000]\n",
      "  [ 5.56218818e+180  1.24389634e+137  5.80000000e+001]\n",
      "  [-1.11000000e+002  5.04523982e+223  5.80000000e+001]]]\n"
     ]
    }
   ],
   "source": [
    "my_3d_array[-1, -1, 0] = -111\n",
    "print(my_3d_array)"
   ]
  },
  {
   "cell_type": "markdown",
   "id": "f6642781-5e7e-4953-95bc-6f824d0235e4",
   "metadata": {},
   "source": [
    "# Matplotlib\n",
    "___\n",
    "\n",
    "We're going to explore more functionality of Numpy and plot the numbers. Matplotlib is the package that we're going to use for plotting. To use Matplotlib, we have to import it. We use `import matplotlib.pyplot as plt` where `plt` is aliasing `matplotlib.pyplot` due to established convention and for lazier, streamlined code. We also enable a setting in the Jupyter notebook so our plots have high resolution by default."
   ]
  },
  {
   "cell_type": "code",
   "execution_count": 102,
   "id": "ae762e0b-fe98-411a-803f-94ccf77062ba",
   "metadata": {},
   "outputs": [],
   "source": [
    "import matplotlib.pyplot as plt\n",
    "\n",
    "# This is not required for using matplotlib, but it makes things look pretty.\n",
    "%config InlineBackend.figure_format = 'retina' "
   ]
  },
  {
   "cell_type": "markdown",
   "id": "05333f93-bd92-4a45-9570-f17b4159e4d1",
   "metadata": {},
   "source": [
    "Initialize a range of times from $[0, 5)$ with steps of $0.2$. Let a particle have $x_0 = 7$, $v_0 = 16$, and $a = -10$. Calculate the trajectory of the particle over this range of times using 1-d kinematics."
   ]
  },
  {
   "cell_type": "code",
   "execution_count": 103,
   "id": "114e3f3a-7f26-4448-809e-e86a3178f5a7",
   "metadata": {},
   "outputs": [],
   "source": [
    "times = np.arange(0, 5, 0.2)\n",
    "trajectory = 7 - 16 * times - 10 * times**2 / 2"
   ]
  },
  {
   "cell_type": "markdown",
   "id": "5b365907-2084-4633-8cfa-c4c9f3792bc3",
   "metadata": {},
   "source": [
    "We are going to plot the trajectory we calculated above on a line plot. There are two basic ways of plotting in Matplotlib. [This article](https://towardsdatascience.com/what-are-the-plt-and-ax-in-matplotlib-exactly-d2cf4bf164a9) provides a nice explanation for the two ways and the basic components of what Matplotlib generates. (You shouldn't need an account to read the article. If you can't read the article, open it in an incognito/private browser window.)\n",
    "\n",
    "The first way is the following:"
   ]
  },
  {
   "cell_type": "code",
   "execution_count": 104,
   "id": "0a51302d-189a-4096-ac25-c2374ed59116",
   "metadata": {},
   "outputs": [
    {
     "data": {
      "image/png": "[encoded data removed]",
      "text/plain": [
       "<Figure size 432x288 with 1 Axes>"
      ]
     },
     "metadata": {
      "image/png": {
       "height": 261,
       "width": 397
      },
      "needs_background": "light"
     },
     "output_type": "display_data"
    }
   ],
   "source": [
    "plt.plot(times, trajectory)\n",
    "plt.xlabel('time [s]')\n",
    "plt.ylabel('height [m]')\n",
    "plt.show()"
   ]
  },
  {
   "cell_type": "markdown",
   "id": "a5d84fbb-a89c-4313-adc7-264282e4d208",
   "metadata": {},
   "source": [
    "The second way uses object-oriented programming and is more powerful once what's being plotted becomes more complicated than one plot."
   ]
  },
  {
   "cell_type": "code",
   "execution_count": 105,
   "id": "8b487e06-f48b-4766-948a-5dbe1d659602",
   "metadata": {},
   "outputs": [
    {
     "data": {
      "image/png": "[encoded data removed]",
      "text/plain": [
       "<Figure size 432x288 with 1 Axes>"
      ]
     },
     "metadata": {
      "image/png": {
       "height": 261,
       "width": 397
      },
      "needs_background": "light"
     },
     "output_type": "display_data"
    }
   ],
   "source": [
    "fig, ax = plt.subplots()\n",
    "ax.plot(times, trajectory)\n",
    "ax.set_xlabel('time [s]')\n",
    "ax.set_ylabel('height [m]')\n",
    "plt.show()"
   ]
  },
  {
   "cell_type": "markdown",
   "id": "76325b40-9fad-4ba8-b3e9-4f5304b1bffc",
   "metadata": {},
   "source": [
    "Note the difference in `plt.xlabel` vs. `ax.set_xlabel`. `plt` and `ax` are different things."
   ]
  },
  {
   "cell_type": "code",
   "execution_count": 106,
   "id": "11c41896-49f8-41fc-9208-0504e68b8da8",
   "metadata": {},
   "outputs": [
    {
     "data": {
      "text/plain": [
       "module"
      ]
     },
     "execution_count": 106,
     "metadata": {},
     "output_type": "execute_result"
    }
   ],
   "source": [
    "type(plt)"
   ]
  },
  {
   "cell_type": "code",
   "execution_count": 107,
   "id": "4cf318f4-0670-49ec-a0a9-3267e308c687",
   "metadata": {},
   "outputs": [
    {
     "data": {
      "text/plain": [
       "matplotlib.axes._subplots.AxesSubplot"
      ]
     },
     "execution_count": 107,
     "metadata": {},
     "output_type": "execute_result"
    }
   ],
   "source": [
    "type(ax)"
   ]
  },
  {
   "cell_type": "markdown",
   "id": "1f624bf9-ab88-43cb-82e2-096ea785dd8f",
   "metadata": {},
   "source": [
    "For the remainder of this tutorial, we will default to using the `matplotlib.axes` method since it generalizes better.\n",
    "\n",
    "Let's calculate a spring potential energy function for $k=10 \\, \\mathrm{N/m}$ over a range of $x$, the distance from the equilibrium point, and use a range of [-10, 10] with step size 1. We plot the potential on a line plot."
   ]
  },
  {
   "cell_type": "code",
   "execution_count": 108,
   "id": "1babc4ff-47b2-45bb-9624-46c480ba3f7d",
   "metadata": {},
   "outputs": [
    {
     "data": {
      "image/png": "[encoded data removed]",
      "text/plain": [
       "<Figure size 432x288 with 1 Axes>"
      ]
     },
     "metadata": {
      "image/png": {
       "height": 261,
       "width": 388
      },
      "needs_background": "light"
     },
     "output_type": "display_data"
    }
   ],
   "source": [
    "k = 10\n",
    "dx = 1\n",
    "x = np.arange(-10, 10 + dx, dx)\n",
    "spring_potential_energy = k * x**2 / 2\n",
    "\n",
    "fig, ax = plt.subplots()\n",
    "ax.plot(x, spring_potential_energy)\n",
    "ax.set_xlabel('position [m]')\n",
    "ax.set_ylabel('$U$')\n",
    "plt.show()"
   ]
  },
  {
   "cell_type": "markdown",
   "id": "93463a26-7890-46ad-9ec9-972e39719c4c",
   "metadata": {},
   "source": [
    "We can also plot this as a scatter plot."
   ]
  },
  {
   "cell_type": "code",
   "execution_count": 109,
   "id": "613e52c1-a6c2-4d39-ae76-0d2d4191db98",
   "metadata": {},
   "outputs": [
    {
     "data": {
      "image/png": "[encoded data removed]",
      "text/plain": [
       "<Figure size 432x288 with 1 Axes>"
      ]
     },
     "metadata": {
      "image/png": {
       "height": 261,
       "width": 388
      },
      "needs_background": "light"
     },
     "output_type": "display_data"
    }
   ],
   "source": [
    "fig, ax = plt.subplots()\n",
    "ax.scatter(x, spring_potential_energy)\n",
    "ax.set_xlabel('position [m]')\n",
    "ax.set_ylabel('$U$')\n",
    "plt.show()"
   ]
  },
  {
   "cell_type": "markdown",
   "id": "348b349e-f6d6-4959-a1a5-2c445395d7e9",
   "metadata": {},
   "source": [
    "Now let's calculate the spring potential energy over a log-scaled range of $k$ and over the same range of $x$ as above. We plot it using a scatter plot with the color of the dots representing $\\log_{10}$ spring potential energy. We also generate a colorbar to tell us what values are associated with the colors."
   ]
  },
  {
   "cell_type": "code",
   "execution_count": 110,
   "id": "6a80ac99-5da0-4100-8486-0e99a89a2548",
   "metadata": {},
   "outputs": [
    {
     "data": {
      "image/png": "[encoded data removed]",
      "text/plain": [
       "<Figure size 432x288 with 2 Axes>"
      ]
     },
     "metadata": {
      "image/png": {
       "height": 261,
       "width": 376
      },
      "needs_background": "light"
     },
     "output_type": "display_data"
    }
   ],
   "source": [
    "dx = 0.1\n",
    "x = np.arange(-10, 10 + dx, dx)\n",
    "k = 10**np.arange(0, 5, 0.01)\n",
    "x_for_plotting = np.tile(x, k.shape[0]).ravel()\n",
    "k_for_plotting = np.tile(k, x.shape[0]).reshape(x.shape[0], k.shape[0]).T.ravel()\n",
    "spring_potential_energy = x_for_plotting**2 * k_for_plotting / 2\n",
    "\n",
    "fig, ax = plt.subplots()\n",
    "sc = ax.scatter(x_for_plotting, k_for_plotting, c=np.log10(spring_potential_energy), s=0.5)\n",
    "ax.set_xlabel('position [m]')\n",
    "ax.set_ylabel('spring constant [N/m]')\n",
    "ax.set_yscale('log')\n",
    "cbar = plt.colorbar(sc)\n",
    "cbar.ax.set_xlabel('$\\log_{10} U$')\n",
    "plt.show()"
   ]
  },
  {
   "cell_type": "markdown",
   "id": "09edb23e-df81-41cf-bafe-8fe0d6cb3652",
   "metadata": {},
   "source": [
    "Google (or use `help`) any of the functions used above that are not familiar. Start getting into the habit of Googling parts of code you don't know and understanding them. Test those functions in your notebook. Become familiar with them.\n",
    "\n",
    "Additionally, try to plot the same thing using `for` loops instead of fancy `numpy` functions.\n"
   ]
  },
  {
   "cell_type": "markdown",
   "id": "2fa1e572-9eed-4055-81a8-b0e70470b5ce",
   "metadata": {},
   "source": [
    "Let's plot $\\sin x$, $\\cos x$, with $x \\in [0, 2\\pi]$ on the same line plot with a legend. Use 100 evenly spaced values in the interval $[0, 2 \\pi]$. Display $\\sin x$ with a solid line and $\\cos x$ with a dashed line. (See the line styles section [here](https://matplotlib.org/stable/api/_as_gen/matplotlib.pyplot.plot.html).) On a second axes in the figure, plot $\\tan x$ as a dotted line. We set the aspect ratio by setting `figsize` in `plt.subplots()`"
   ]
  },
  {
   "cell_type": "code",
   "execution_count": 111,
   "id": "bfa9b7c2-01da-4d72-8dd4-afe902a65c0f",
   "metadata": {},
   "outputs": [
    {
     "data": {
      "image/png": "[encoded data removed]",
      "text/plain": [
       "<Figure size 576x288 with 2 Axes>"
      ]
     },
     "metadata": {
      "image/png": {
       "height": 279,
       "width": 565
      },
      "needs_background": "light"
     },
     "output_type": "display_data"
    }
   ],
   "source": [
    "x = np.linspace(0, 2 * np.pi, 100)\n",
    "sinx = np.sin(x)\n",
    "cosx = np.cos(x)\n",
    "tanx = np.tan(x)\n",
    "\n",
    "fig, axes = plt.subplots(nrows=1, ncols=2, figsize=(8,4))\n",
    "axes[0].plot(sinx, '-', label='$\\sin x$')\n",
    "axes[0].plot(cosx, '--', label='$\\cos x$')\n",
    "axes[0].set_xlabel('$x$')\n",
    "axes[0].set_ylabel('$f(x)$')\n",
    "axes[0].legend()\n",
    "\n",
    "axes[1].plot(tanx, ':', label='$\\\\tan x$')\n",
    "axes[1].set_xlabel('$x$')\n",
    "axes[1].set_ylabel('$f(x)$')\n",
    "axes[1].legend()\n",
    "fig.tight_layout()\n",
    "plt.show()"
   ]
  },
  {
   "cell_type": "markdown",
   "id": "3af8e3ed-53e6-44ea-b99d-65de1177aa32",
   "metadata": {},
   "source": [
    "Plot a filled-contour (contourf) of the $\\log_{10}$ electric potential of a single point charge lying in the $xy$-plane. On another axes in the same figure, plot a filled-contour plot of the electric potential for a dipole, with a positive charge at $(0.01, 0)$ and a negative charge placed at $(-0.01, 0)$. Let all charges have $q = 1 \\, \\mathrm{C}$. Use electric field equations in [Gaussian units](https://en.wikipedia.org/wiki/Gaussian_units)."
   ]
  },
  {
   "cell_type": "code",
   "execution_count": 112,
   "id": "0ac7ce7f-d865-48eb-b2b8-c7e35cc538e3",
   "metadata": {},
   "outputs": [
    {
     "data": {
      "image/png": "[encoded data removed]",
      "text/plain": [
       "<Figure size 720x288 with 4 Axes>"
      ]
     },
     "metadata": {
      "image/png": {
       "height": 280,
       "width": 706
      },
      "needs_background": "light"
     },
     "output_type": "display_data"
    }
   ],
   "source": [
    "q1 = 1\n",
    "q2 = 1\n",
    "x = np.linspace(-0.2, 0.2, 100)\n",
    "y = np.linspace(-0.2, 0.2, 100)\n",
    "r_1charge = np.sqrt(np.add.outer(x**2, y**2))\n",
    "potential_1charge = q1 / r_1charge\n",
    "\n",
    "d = 0.01\n",
    "r_right = np.sqrt(np.add.outer((x - d)**2, y**2))\n",
    "r_left = np.sqrt(np.add.outer((x + d)**2, y**2))\n",
    "potential_2charge = (q1 / r_right - q2 / r_left)\n",
    "\n",
    "fig, axes = plt.subplots(nrows=1, ncols=2, figsize=(10,4))\n",
    "ct = axes[0].contourf(x, y, np.log10(potential_1charge))\n",
    "cbar = plt.colorbar(ct, ax=axes[0])\n",
    "cbar.ax.set_ylabel('$\\log_{10} V$')\n",
    "\n",
    "ct = axes[1].contourf(x, y, potential_2charge.T, cmap=plt.get_cmap('seismic'))\n",
    "cbar = plt.colorbar(ct, ax=axes[1])\n",
    "cbar.ax.set_ylabel('$V$')\n",
    "fig.tight_layout()\n",
    "plt.show()"
   ]
  },
  {
   "cell_type": "markdown",
   "id": "5638fef7-ee53-4f00-856f-3b32eacd42da",
   "metadata": {},
   "source": [
    "On the same axes, plot the probability density from a Gaussian distribution with $\\mu = 0$ and $\\sigma^2 \\in \\{0.01, 0.1, 1, \\}$ for 1000 evenly spaced $x \\in [-5, 5]$  using a line plot. Have a legend display which curve is associated with which variance. On the same figure but a different axes, plot the same thing with pdf vs. $x$."
   ]
  },
  {
   "cell_type": "code",
   "execution_count": 113,
   "id": "822f7028-1b15-4331-b7e2-07279dc61e6e",
   "metadata": {},
   "outputs": [
    {
     "data": {
      "image/png": "[encoded data removed]",
      "text/plain": [
       "<Figure size 576x288 with 2 Axes>"
      ]
     },
     "metadata": {
      "image/png": {
       "height": 279,
       "width": 568
      },
      "needs_background": "light"
     },
     "output_type": "display_data"
    }
   ],
   "source": [
    "x = np.linspace(-5, 5, 1000)\n",
    "\n",
    "fig, axes = plt.subplots(nrows=1, ncols=2, figsize=(8,4))\n",
    "for variance in [1e-2, 1e-1, 1]:\n",
    "    pdf = np.exp(-x**2 / (2 * variance)) / np.sqrt(2 * np.pi * variance)\n",
    "    for scale, ax in zip(['linear', 'log'], axes):\n",
    "        ax.plot(x, pdf, label=f'$\\sigma^2 = {variance}$')\n",
    "        ax.set_xlabel('$x$')\n",
    "        ax.set_ylabel('pdf')\n",
    "        ax.set_yscale(scale)\n",
    "for ax in axes:\n",
    "    ax.legend()\n",
    "fig.tight_layout()\n",
    "plt.show()"
   ]
  }
 ],
 "metadata": {
  "kernelspec": {
   "display_name": "Python 3 (ipykernel)",
   "language": "python",
   "name": "python3"
  },
  "language_info": {
   "codemirror_mode": {
    "name": "ipython",
    "version": 3
   },
   "file_extension": ".py",
   "mimetype": "text/x-python",
   "name": "python",
   "nbconvert_exporter": "python",
   "pygments_lexer": "ipython3",
   "version": "3.9.6"
  }
 },
 "nbformat": 4,
 "nbformat_minor": 5
}
