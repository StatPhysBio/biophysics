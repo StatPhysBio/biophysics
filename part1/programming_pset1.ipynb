{
 "cells": [
  {
   "cell_type": "markdown",
   "id": "8b66fffc-512c-4742-a5aa-681e8e2e9722",
   "metadata": {},
   "source": [
    "# Programming practice 1"
   ]
  },
  {
   "cell_type": "markdown",
   "id": "e39b387c-f1d4-4e9e-ac23-0d4c098e09c7",
   "metadata": {},
   "source": [
    "# Import modules"
   ]
  },
  {
   "cell_type": "code",
   "execution_count": 1,
   "id": "146db00d-e53d-4039-a5f2-b2cba3b43415",
   "metadata": {},
   "outputs": [],
   "source": [
    "import matplotlib.pyplot as plt\n",
    "import numpy as np\n",
    "\n",
    "%config InlineBackend.figure_format = 'retina'"
   ]
  },
  {
   "cell_type": "markdown",
   "id": "bf646605-ff59-4e84-b2d7-81b6ee36bdeb",
   "metadata": {},
   "source": [
    "# Problem 1\n",
    "___\n",
    "Recall the kinematic equation for a particle moving in one dimension is\n",
    "\n",
    "$$\n",
    "x(t) = x_0 + v_0 t + \\frac{a t^2}{2}\n",
    "$$\n",
    "\n",
    "Write a function for this equation which takes in a one-dimensional numpy array of times $\\vec{t}$, an initial position $x_0$, an initial velocity $v_0$, and an acceleration $a$. Depending on how you want to approach the problem, your function should return a one-dimensional numpy array of positions $\\vec{x}(t)$ and the velocity $v$ at the final position or it should return a single value $x(t)$ and velocity $v(t)$. All that matters is you write a function that implements the kinematic equation correctly and returns something that makes sense to you. (What you return will be influenced by how you approach the problem below.)"
   ]
  },
  {
   "cell_type": "code",
   "execution_count": 1,
   "id": "0547de33-7746-4913-a557-ee42cf183ba0",
   "metadata": {},
   "outputs": [],
   "source": [
    "def kinematic_eq(t, x0, v0, a):\n",
    "    # Your code here.\n",
    "    pass"
   ]
  },
  {
   "cell_type": "markdown",
   "id": "be3ca908-6ec3-429d-89b3-604480cd40fd",
   "metadata": {},
   "source": [
    "Imagine a particle travels on a flat surface and that its acceleration changes abruptly. The parameters of the two-dimensional kinematic equations describing the particle's trajectory are as follows\n",
    "\n",
    "$$\n",
    "\\begin{cases} \n",
    "    x_0 = 3 \\, \\mathrm{m}, \\, v_{0x} = -2 \\, \\mathrm{ms^{-1}},  a_{x} = 2 \\, \\mathrm{ms^{-2}} & t = 0 \\\\\n",
    "    a_{x} = -4 \\, \\mathrm{ms^{-2}} & t \\geq 5 \\\\\n",
    "    a_{x} = 3 \\, \\mathrm{ms^{-2}} & t \\geq 10\n",
    "\\end{cases}\n",
    "$$\n",
    "\n",
    "$$\n",
    "\\begin{cases} \n",
    "    y_0 = -1 \\, \\mathrm{m}, \\, v_{0y} = 15 \\, \\mathrm{ms^{-1}}, \\, a_{y} = -5 \\, \\mathrm{ms^{-2}} & t = 0 \\\\\n",
    "    a_{y} = 9 \\, \\mathrm{ms^{-2}} & t \\geq 7 \\\\\n",
    "\\end{cases}\n",
    "$$\n",
    "\n"
   ]
  },
  {
   "cell_type": "markdown",
   "id": "55f26ddb-5938-4249-9411-3b78c9c0188b",
   "metadata": {},
   "source": [
    "Calculate the positions and velocities in each dimension at $t \\in \\{0, 5, 7, 10, 15\\}$ by hand. This will define your expectation and let you know if there are bugs in your code for the next part. (Fill in the question marks.)"
   ]
  },
  {
   "cell_type": "markdown",
   "id": "e652acfc-32dd-409a-8432-5bcfefc673ea",
   "metadata": {},
   "source": [
    "- $x(5)$ = ?\n",
    "- $x(7)$ = ?\n",
    "- $x(10)$ = ?\n",
    "- $x(15)$ = ?\n",
    "\n",
    "- $y(5)$ = ?\n",
    "- $y(7)$ = ?\n",
    "- $y(10)$ = ?\n",
    "- $y(15)$ = ?"
   ]
  },
  {
   "cell_type": "markdown",
   "id": "38b7fffb-4b0c-4426-87aa-98cebd42e200",
   "metadata": {},
   "source": [
    "Record the trajectory from a range of $t \\in [0, 15] \\, \\mathrm{s}$ with spacing ($\\Delta t$) of $0.01 \\, \\mathrm{s}$. Use a two-dimensional numpy array to store the trajectory. Try to be lazy and efficient by using `for` loops where appropriate. Numpy boolen arrays and indexing are also very useful here, so try them out! If you find yourself reusing code, create functions as you see fit to avoid unnecessary repetition instead of copying and pasting."
   ]
  },
  {
   "cell_type": "code",
   "execution_count": 3,
   "id": "1adb9b49-b046-4222-8406-517151d7d399",
   "metadata": {},
   "outputs": [],
   "source": [
    "# Your code here."
   ]
  },
  {
   "cell_type": "markdown",
   "id": "b98e8244-9fd3-4a4e-adb3-5c4ebbac43e1",
   "metadata": {},
   "source": [
    "On the same figure, create three different axes objects and plot\n",
    "- $x(t)$ vs. $t$\n",
    "- $y(t)$ vs. $t$\n",
    "- the trajectory on the two-dimensional surface ($y(t)$ vs. $x(t)$)\n",
    "\n",
    "Label the x and y axis appropriately with the quantity and unit being plotting on each axes object."
   ]
  },
  {
   "cell_type": "code",
   "execution_count": 4,
   "id": "92765a4e-1e92-4b19-b843-0ecedcb76817",
   "metadata": {},
   "outputs": [],
   "source": [
    "# Your code here."
   ]
  }
 ],
 "metadata": {
  "kernelspec": {
   "display_name": "Python 3 (ipykernel)",
   "language": "python",
   "name": "python3"
  },
  "language_info": {
   "codemirror_mode": {
    "name": "ipython",
    "version": 3
   },
   "file_extension": ".py",
   "mimetype": "text/x-python",
   "name": "python",
   "nbconvert_exporter": "python",
   "pygments_lexer": "ipython3",
   "version": "3.9.6"
  }
 },
 "nbformat": 4,
 "nbformat_minor": 5
}
