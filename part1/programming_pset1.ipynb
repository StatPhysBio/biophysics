{
 "cells": [
  {
   "cell_type": "markdown",
   "id": "8b66fffc-512c-4742-a5aa-681e8e2e9722",
   "metadata": {},
   "source": [
    "# Problem set 1 (50 pts)"
   ]
  },
  {
   "cell_type": "code",
   "execution_count": null,
   "id": "146db00d-e53d-4039-a5f2-b2cba3b43415",
   "metadata": {},
   "outputs": [],
   "source": [
    "import matplotlib.pyplot as plt\n",
    "import numpy as np\n",
    "\n",
    "%config InlineBackend.figure_format = 'retina'"
   ]
  },
  {
   "cell_type": "markdown",
   "id": "bf646605-ff59-4e84-b2d7-81b6ee36bdeb",
   "metadata": {},
   "source": [
    "Recall the kinematic equations for a particle moving in one dimension are\n",
    "\n",
    "$$\n",
    "x(t) = x_i + v_i t + \\frac{a t^2}{2}\n",
    "$$\n",
    "$$\n",
    "v(t) = v_i + a t\n",
    "$$\n",
    "\n",
    "### 1.a Write a function for these equations. (5 pts)\n",
    "\n",
    "It should have as its parameters:\n",
    "- `t`, a one-dimensional numpy array of times $\\vec{t}$\n",
    "- `xi`, an initial position\n",
    "- `vi`, an initial velocity\n",
    "- `a`, an acceleration\n",
    "\n",
    "It should return:\n",
    "- `x`, a one-dimensional array of positions $\\vec{x}(t)$\n",
    "- `v`, a one-dimensional array of velocities $\\vec{v}(t)$\n",
    "\n",
    "Hint: Do not include any loops in this function. You should test and use this function with numpy arrays."
   ]
  },
  {
   "cell_type": "code",
   "execution_count": null,
   "id": "0547de33-7746-4913-a557-ee42cf183ba0",
   "metadata": {},
   "outputs": [],
   "source": [
    "def kinematic_eqs(t, xi, vi, a):\n",
    "    x = # Your code here.\n",
    "    v = # Your code here.\n",
    "    return x, v"
   ]
  },
  {
   "cell_type": "markdown",
   "id": "be3ca908-6ec3-429d-89b3-604480cd40fd",
   "metadata": {},
   "source": [
    "Imagine a particle travels on a flat surface and that its acceleration changes abruptly twice. The parameters of the one-dimensional kinematic equations describing the particle's trajectory are as follows\n",
    "\n",
    "$$\n",
    "\\begin{cases} \n",
    "    x_i = 3 \\, \\mathrm{m}, \\, v_{i} = -2 \\, \\mathrm{ms^{-1}},  a = 2 \\, \\mathrm{ms^{-2}} & t = 0 \\, \\mathrm{s} \\\\\n",
    "    a = -4 \\, \\mathrm{ms^{-2}} & t \\geq 5 \\, \\mathrm{s} \\\\\n",
    "    a = 3 \\, \\mathrm{ms^{-2}} & t \\geq 10 \\, \\mathrm{s}\n",
    "\\end{cases}\n",
    "$$"
   ]
  },
  {
   "cell_type": "markdown",
   "id": "55f26ddb-5938-4249-9411-3b78c9c0188b",
   "metadata": {},
   "source": [
    "### 1.b Calculate the positions and velocities at $t \\in \\{5, 10, 15\\}$ by hand or by using the function you created. This will define your expectation and let you know if there are bugs in your code for the rest of the problem set. (Fill in the question marks.) (6pts)\n",
    "\n",
    "Hint: when the acceleration changes, time \"resets.\"\n",
    "\n",
    "- $x(5)$ = ?\n",
    "- $x(10)$ = ?\n",
    "- $x(15)$ = ?\n",
    "- $v(5)$ = ?\n",
    "- $v(10)$ = ?\n",
    "- $v(15)$ = ?"
   ]
  },
  {
   "cell_type": "code",
   "execution_count": null,
   "id": "bc66d772-9fc3-49e8-b82c-54cb02b4da37",
   "metadata": {},
   "outputs": [],
   "source": [
    "# Your code here if you choose so."
   ]
  },
  {
   "cell_type": "markdown",
   "id": "38b7fffb-4b0c-4426-87aa-98cebd42e200",
   "metadata": {},
   "source": [
    "### 1.c Define a numpy array of times called `t` with values from [0, 15] with a step ($\\Delta t$) of 0.1. (2 pts)\n",
    "\n",
    "Hint: Remember that the stop value isn't the end value."
   ]
  },
  {
   "cell_type": "code",
   "execution_count": null,
   "id": "1ecde134-5dd3-4be6-833a-9333aaff6792",
   "metadata": {},
   "outputs": [],
   "source": [
    "# Your code here."
   ]
  },
  {
   "cell_type": "markdown",
   "id": "618b13bc-41c1-419b-a5a8-51165da4f22d",
   "metadata": {},
   "source": [
    "### 1.d Initialize two numpy arrays that have same length as `t` with zeros. Call them `x` and `v`. (2 pts)"
   ]
  },
  {
   "cell_type": "code",
   "execution_count": null,
   "id": "10912f06-3531-45f8-9fa6-f537a1b6878d",
   "metadata": {},
   "outputs": [],
   "source": [
    "# Your code here."
   ]
  },
  {
   "cell_type": "markdown",
   "id": "4a55f464-a4cb-4751-beca-f723b005d536",
   "metadata": {},
   "source": [
    "### 1.e Set the zeroth entries of `x` to $x_i$ as given above and `v` to $v_i$ as given above. (1 pt)"
   ]
  },
  {
   "cell_type": "code",
   "execution_count": null,
   "id": "7e7d8ffa-8fd0-4d09-9379-2ac023f1f285",
   "metadata": {},
   "outputs": [],
   "source": [
    "# Your code here."
   ]
  },
  {
   "cell_type": "markdown",
   "id": "22932ae6-6b36-49d9-a6b0-69e2c607c1eb",
   "metadata": {},
   "source": [
    "### 1.f Create a numpy array called `accel` containing the three accelerations above. They should be ordered in the same fashion as they are above. (1 pt)"
   ]
  },
  {
   "cell_type": "code",
   "execution_count": null,
   "id": "097c0154-bf95-41ba-98e4-b1deaa078f4e",
   "metadata": {},
   "outputs": [],
   "source": [
    "# Your code here."
   ]
  },
  {
   "cell_type": "markdown",
   "id": "8102ae45-8641-4664-8764-9d979407243e",
   "metadata": {},
   "source": [
    "### 1.g Obtain $x(t)$, and $v(t)$ for $t \\in [0, 5]$ using `kinematic_eqs`. Instead of using `t` defined above, create another numpy array called `t_5` that contains values `[0, 5]` with step 0.1. Use as your function inputs `t_5`, `x[0]`, `v[0]`, `accel[0]`. Save your outputs to the proper locations in `x` and `v`. (4 pts)\n",
    "\n",
    "Hint: `t_5` should include the value 5."
   ]
  },
  {
   "cell_type": "code",
   "execution_count": null,
   "id": "e3763940-deed-4578-b734-a0bd379df32b",
   "metadata": {},
   "outputs": [],
   "source": [
    "t_5 = # Your code here.\n",
    "lower_idx = # Your code here.\n",
    "upper_idx = # Your code here.\n",
    "\n",
    "x[lower_idx:upper_idx], v[lower_idx:upper_idx] = kinematic_eqs(t_5, x[0], v[0], accel[0])"
   ]
  },
  {
   "cell_type": "markdown",
   "id": "cca122fc-5e3b-4949-a5fc-0e85d80698d0",
   "metadata": {},
   "source": [
    "### 1.h Repeat 1.g but for the first and second acceleration changes. Make sure you are saving the outputs to `x` and `v` correctly. (4 pts)\n",
    "\n",
    "Hint: at what indices in the numpy arrays should $x(5)$, $x(10)$, and $x(15)$ be saved?"
   ]
  },
  {
   "cell_type": "code",
   "execution_count": null,
   "id": "de8bddc1-ef45-40b4-944d-58a43c807cad",
   "metadata": {},
   "outputs": [],
   "source": [
    "lower_idx_1 = # Your code here.\n",
    "upper_idx_1 = # Your code here.\n",
    "x[lower_idx_1:upper_idx_1], v[lower_idx_1:upper_idx_1] = kinematic_eqs(t_5, x[lower_idx_1], v[lower_idx_1], accel[1])\n",
    "\n",
    "lower_idx_2 = # Your code here.\n",
    "upper_idx_2 = # Your code here.\n",
    "x[lower_idx_2:upper_idx_2], v[lower_idx_2:upper_idx_2] = kinematic_eqs(t_5, x[lower_idx_2], v[lower_idx_2], accel[2])"
   ]
  },
  {
   "cell_type": "markdown",
   "id": "a4bf06cd-d99e-43e6-9ab5-1c3bdbe8169b",
   "metadata": {},
   "source": [
    "### 1.i Print the values of $x(t=5)$, $x(t=10)$, $x(t=15)$, $v(t=5)$, $v(t=10)$, $v(t=15)$. They should agree with your answer for 1.b. If they do not agree, you have bugs in your code and should not move on until they are corrected. (1 pt)"
   ]
  },
  {
   "cell_type": "code",
   "execution_count": null,
   "id": "e5e5ee91-70e3-4a66-8431-5fb929cd3ad2",
   "metadata": {},
   "outputs": [],
   "source": [
    "# Your code here."
   ]
  },
  {
   "cell_type": "markdown",
   "id": "a74cdfa7-b820-4d93-a9f6-42daf0c5a05e",
   "metadata": {},
   "source": [
    "### 1.j Create two new numpy arrays with zeros called `x_for` and `v_for` with the same length as `t`. Set the zeroth entries of `x_for` to $x_i$ as given above and `v_for` to $v_i$ as given above.  (2 pts)"
   ]
  },
  {
   "cell_type": "code",
   "execution_count": null,
   "id": "d1903ccc-37c7-44c1-bb77-de70dba68e6e",
   "metadata": {},
   "outputs": [],
   "source": [
    "# Your code here."
   ]
  },
  {
   "cell_type": "markdown",
   "id": "332b49d8-fd3d-44c0-874b-0d83b6167f88",
   "metadata": {},
   "source": [
    "### 1.k Repeat 1.g and 1.h but instead use a for loop. (5 pts)\n",
    "\n",
    "Hint: find the pattern in the lower and upper indices that you used in 1.h to save the outputs to `x` and `v`."
   ]
  },
  {
   "cell_type": "code",
   "execution_count": null,
   "id": "0800fbc2-35d7-4378-a92e-b2aee7552509",
   "metadata": {},
   "outputs": [],
   "source": [
    "for i in range(3):\n",
    "    lower_idx = # Your code here.\n",
    "    upper_idx = # Your code here.\n",
    "    x_for[lower_idx:upper_idx], v_for[lower_idx:upper_idx] = # Your code here."
   ]
  },
  {
   "cell_type": "markdown",
   "id": "a6065dfc-6a23-4192-a91d-04802c2d531a",
   "metadata": {},
   "source": [
    "### 1.l Determine whether all entries in `x` are equal to those in `x_for`. Do the same for `v` and `v_for`. If these are not equal, then you did 1.j incorrectly and will lose points there. (2 pt)\n",
    "\n",
    "Hint: use `np.all` to see if all entries in the resulting numpy boolean array are true and `print` the output from `np.all`."
   ]
  },
  {
   "cell_type": "code",
   "execution_count": null,
   "id": "a87776f1-85af-45ac-ab01-6ef313933a3d",
   "metadata": {},
   "outputs": [],
   "source": [
    "# Your code here."
   ]
  },
  {
   "cell_type": "markdown",
   "id": "b98e8244-9fd3-4a4e-adb3-5c4ebbac43e1",
   "metadata": {},
   "source": [
    "### 1.m Plot the following and label the x and y axis appropriately with the quantity and unit being plotted on each axes object (15 pts):\n",
    "\n",
    "- $x(t)$ vs. $t$\n",
    "- $v(t)$ vs. $t$\n",
    "- $v(t)$ vs. $x(t)$\n",
    "\n",
    "Hints: \n",
    "- `fig, axes = plt.subplots(ncols=3, figsize=(9, 3))` and then use `axes[i].plot` where `i` is 0, 1, or 2.\n",
    "- Don't forget `fig.tight_layout()` and `plt.show()`\n",
    "\n"
   ]
  },
  {
   "cell_type": "code",
   "execution_count": null,
   "id": "92765a4e-1e92-4b19-b843-0ecedcb76817",
   "metadata": {},
   "outputs": [],
   "source": [
    "fig, axes = plt.subplots(ncols=3, figsize=(9, 3))\n",
    "\n",
    "# Your code here.\n",
    "\n",
    "fig.tight_layout()\n",
    "plt.show()"
   ]
  }
 ],
 "metadata": {
  "kernelspec": {
   "display_name": "biophys2022",
   "language": "python",
   "name": "biophys2022"
  },
  "language_info": {
   "codemirror_mode": {
    "name": "ipython",
    "version": 3
   },
   "file_extension": ".py",
   "mimetype": "text/x-python",
   "name": "python",
   "nbconvert_exporter": "python",
   "pygments_lexer": "ipython3",
   "version": "3.8.10"
  }
 },
 "nbformat": 4,
 "nbformat_minor": 5
}
