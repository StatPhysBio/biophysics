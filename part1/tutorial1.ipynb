{
 "cells": [
  {
   "cell_type": "markdown",
   "id": "928e0acc-575f-4c3c-9a15-53bca19d73df",
   "metadata": {},
   "source": [
    "# Barebones Python, Numpy, Matplotlib\n",
    "___\n",
    "\n",
    "This notebook is intended to give the user an understanding of the bare minimum of Python, Numpy, and Matplotlib.\n",
    "\n",
    "\n",
    "If you have no prior experience with Python, please set aside some time to go through lessons 3 through 10 in [Introduction to Programming in the Biological Sciences Bootcamp](https://justinbois.github.io/bootcamp/2021/index.html) by Justin Bois. Even if you have prior experience with Python, going through lessons 3 through 10 would serve you well.\n",
    "\n",
    "If you have no prior experience with Numpy, please set aside some time to go through this [notebook](https://github.com/tirthajyoti/Machine-Learning-with-Python/blob/master/Pandas%20and%20Numpy/Numpy_operations.ipynb) by Tirthajyoti Sarkar. Even if you have prior experience with Numpy, going through this notebook would serve you well as a refresher at the very least.\n",
    "\n",
    "If you have no prior experience with Matplotlib, please set aside some time to go through this [tutorials](https://matplotlib.org/stable/tutorials/index) by Matplotlib. Things start to get interesting in the intermediate tutorials. Even if you have prior experience with Matplotlib, going through this notebook would serve you well as a refresher at the very least and show you some best practices by the Matplotlib community. If these Matplotlib tutorials are overwhelming--they are quite thorough--you can come up with different mathematical functions that you're aware of and try plotting them in different ways. E.g., try the following:\n",
    "\n",
    "- Plot spherical harmonics on a sphere\n",
    "- Plot the first 4 wave functions on the same figure for a) the infinite square well, b) quantum simple harmonic oscillator, c) hydrogen atom. Have (a), (b), and (c) be on different figures. For each figure, have a legend showing which line corresponds to which wave function.\n",
    "- Plot different electric potentials.\n",
    "- Plot the Carnot cycle.\n",
    "\n",
    "Try to come up with your interesting things to plot too! The possibilities are endless!"
   ]
  },
  {
   "cell_type": "markdown",
   "id": "0968c8bf-dfd6-42f7-9f49-ff893be252b8",
   "metadata": {},
   "source": [
    "# Python\n",
    "___\n"
   ]
  },
  {
   "cell_type": "markdown",
   "id": "72bb179c-bb78-4f85-b7fc-708ead0b57c9",
   "metadata": {},
   "source": [
    "## Hello, World!\n",
    "\n",
    "\n",
    "When first learning a language, it's typical to write a [\"Hello, World!\" program](https://en.wikipedia.org/wiki/%22Hello,_World!%22_program) so you can become acquainted with what will become your best friend: the print function."
   ]
  },
  {
   "cell_type": "code",
   "execution_count": null,
   "id": "d9ffbccd-49c6-4f13-8f27-5b6cca21f470",
   "metadata": {},
   "outputs": [],
   "source": []
  },
  {
   "cell_type": "markdown",
   "id": "9b22d541-cd1b-47cb-b130-5962b463a1cc",
   "metadata": {},
   "source": [
    "## Comments\n",
    "\n",
    "Code can be commented out by prefacing it with `#`. Anything after the `#` in the line will be ignored."
   ]
  },
  {
   "cell_type": "code",
   "execution_count": null,
   "id": "fcca6a82-50d4-4310-a5f8-715be6ac8f35",
   "metadata": {},
   "outputs": [],
   "source": []
  },
  {
   "cell_type": "markdown",
   "id": "451d8907-5611-4c9c-971d-d29b41429b65",
   "metadata": {},
   "source": [
    "## Variables"
   ]
  },
  {
   "cell_type": "markdown",
   "id": "3cc5d8af-0561-4eec-af32-350463cb43de",
   "metadata": {},
   "source": [
    "A variable in Python is an object with a type and a value. Some basic types in Python are strings, integers, and floats (numbers with a decimal)."
   ]
  },
  {
   "cell_type": "code",
   "execution_count": null,
   "id": "f531c108-59ec-4f3d-950f-a3f1ffad8a12",
   "metadata": {},
   "outputs": [],
   "source": []
  },
  {
   "cell_type": "code",
   "execution_count": null,
   "id": "b74de475-4449-49e0-bd1c-901a45811521",
   "metadata": {},
   "outputs": [],
   "source": []
  },
  {
   "cell_type": "code",
   "execution_count": null,
   "id": "984dacad-6846-4453-8017-cd1f34611bf3",
   "metadata": {},
   "outputs": [],
   "source": []
  },
  {
   "cell_type": "code",
   "execution_count": null,
   "id": "647b469d-7df3-45fe-b773-87deb502307a",
   "metadata": {},
   "outputs": [],
   "source": []
  },
  {
   "cell_type": "code",
   "execution_count": null,
   "id": "22db60c6-bfa6-41b5-9492-f5088978bbd8",
   "metadata": {},
   "outputs": [],
   "source": []
  },
  {
   "cell_type": "markdown",
   "id": "2465dce1-f961-43a6-b0c9-26a301efcb3c",
   "metadata": {},
   "source": [
    "## Operations\n",
    "\n",
    "We can perform a variety of operations on variables. We first learn about the arithmetic operations.\n",
    "\n",
    "| Operation     | Operator |\n",
    "| ----------- | ----------- |\n",
    "| addition     | `+`      |\n",
    "| subtraction  | `- `      |\n",
    "| multiplication | `*` | \n",
    "| division | `/` |\n",
    "| floor division | `//` | \n",
    "| raise to power | `**` |\n",
    "| modulo (remainder after division) | `%` |\n",
    "\n",
    "We test out each of these operations on integers on floats. Some can also be applied to strings. Try these operations on strings on your own! Which work?"
   ]
  },
  {
   "cell_type": "markdown",
   "id": "c94395f2-a630-4304-aeaa-986532e664f3",
   "metadata": {},
   "source": [
    "### Operations on integers"
   ]
  },
  {
   "cell_type": "code",
   "execution_count": null,
   "id": "3e8a3fbd-f3b5-4af9-800e-0bc5142c302e",
   "metadata": {},
   "outputs": [],
   "source": []
  },
  {
   "cell_type": "code",
   "execution_count": null,
   "id": "d76fddec-c17f-49e0-8390-8b38f03e70d9",
   "metadata": {},
   "outputs": [],
   "source": []
  },
  {
   "cell_type": "code",
   "execution_count": null,
   "id": "712183b9-1a59-46e6-999d-eb8e46514c32",
   "metadata": {},
   "outputs": [],
   "source": []
  },
  {
   "cell_type": "code",
   "execution_count": null,
   "id": "d66aed98-f98b-41e2-a389-a560504fd0b8",
   "metadata": {},
   "outputs": [],
   "source": []
  },
  {
   "cell_type": "code",
   "execution_count": null,
   "id": "83a34782-392f-471e-8fb6-0e72d6587525",
   "metadata": {},
   "outputs": [],
   "source": []
  },
  {
   "cell_type": "code",
   "execution_count": null,
   "id": "4105d501-dd60-4ff7-8635-aa9d87dfe776",
   "metadata": {},
   "outputs": [],
   "source": []
  },
  {
   "cell_type": "code",
   "execution_count": null,
   "id": "dc3cef17-fcbe-4c4e-9c14-862729d051ec",
   "metadata": {},
   "outputs": [],
   "source": []
  },
  {
   "cell_type": "markdown",
   "id": "52138edf-6cf5-4862-9215-45f7f9763358",
   "metadata": {},
   "source": [
    "### Operations on floats\n",
    "\n",
    "Floating point arithmetic on computers is different from how we've done floating point arithmetic on paper since elementary school. See the pages by [Python](https://docs.python.org/3/tutorial/floatingpoint.html), [Wikipedia](https://en.wikipedia.org/wiki/Floating-point_arithmetic), and [What Every Computer Scientist Should Know About Floating-Point Arithmetic](https://docs.oracle.com/cd/E19957-01/806-3568/ncg_goldberg.html) by David Goldberg."
   ]
  },
  {
   "cell_type": "code",
   "execution_count": null,
   "id": "7f386eec-fbdd-48d2-80ec-d4f5f3e2e73a",
   "metadata": {},
   "outputs": [],
   "source": []
  },
  {
   "cell_type": "code",
   "execution_count": null,
   "id": "716ebbfb-f1d2-494d-b2d5-9809f49c9de6",
   "metadata": {},
   "outputs": [],
   "source": []
  },
  {
   "cell_type": "code",
   "execution_count": null,
   "id": "edcd773a-9866-45fc-aa4d-7ccc31e900c6",
   "metadata": {},
   "outputs": [],
   "source": []
  },
  {
   "cell_type": "code",
   "execution_count": null,
   "id": "b24647e8-c80a-4128-a7ff-18f34e2619ac",
   "metadata": {},
   "outputs": [],
   "source": []
  },
  {
   "cell_type": "code",
   "execution_count": null,
   "id": "f9cc8a65-f6ee-44ed-83c4-3dd463945057",
   "metadata": {},
   "outputs": [],
   "source": []
  },
  {
   "cell_type": "code",
   "execution_count": null,
   "id": "a76d4af7-3866-458e-b115-cbdf1da6cb7e",
   "metadata": {},
   "outputs": [],
   "source": []
  },
  {
   "cell_type": "code",
   "execution_count": null,
   "id": "fb232ba4-0158-4c8c-a4d2-c287f56dd797",
   "metadata": {},
   "outputs": [],
   "source": []
  },
  {
   "cell_type": "markdown",
   "id": "70932e8e-409a-47f3-80de-6d32a6af9d8f",
   "metadata": {},
   "source": [
    "## Assigning variables\n",
    "\n",
    "We can assign variables so that it stays in memory. It's good practice to give your variables meaningful names."
   ]
  },
  {
   "cell_type": "code",
   "execution_count": null,
   "id": "7483ec84-15ba-4b49-bdf5-703ddff61d7d",
   "metadata": {},
   "outputs": [],
   "source": []
  },
  {
   "cell_type": "markdown",
   "id": "08f340b9-318c-4b26-8a62-a1c41ba04f3a",
   "metadata": {},
   "source": [
    "Variables defined in cells of the Jupyter notebook are global variables, meaning the notebook recognizes that variable as having the value and type it is assigned regardless of which cell it is in the notebook (unless the same name is used as an argument in a function, but more on that later). Many errors can happen in notebooks when variables are assigned using the same name, overwriting previous assignments. Local variables can be made, meaning they are accessible within a particular part of the notebook (or program). We'll get to that later."
   ]
  },
  {
   "cell_type": "code",
   "execution_count": null,
   "id": "d630f615-e5c0-4b7a-80ca-1021cf95093c",
   "metadata": {},
   "outputs": [],
   "source": []
  },
  {
   "cell_type": "markdown",
   "id": "b4da0c5f-2452-41dc-a20d-0a11cd026aa0",
   "metadata": {},
   "source": [
    "## Conditionals\n",
    "\n",
    "Python also has relational operators and logical operators that can be used to see if conditions are true or false.\n",
    "\n",
    "The relational operators are:\n",
    "\n",
    "| Relation    | Operator |\n",
    "| ----------- | ----------- |\n",
    "| is equal to     | `==`     |\n",
    "| is not equal to  | `!= `      |\n",
    "| is greater than | `>` | \n",
    "| is less than | `<` |\n",
    "| is greater than or equal to | `>=` | \n",
    "| is less than or equal to | `<=` |\n",
    "\n",
    "The logical operators:\n",
    "\n",
    "| Logic    | Operator |\n",
    "| ----------- | ----------- |\n",
    "| AND    | `and`     |\n",
    "| OR  | `or`      |\n",
    "| NOT | `not` | "
   ]
  },
  {
   "cell_type": "code",
   "execution_count": null,
   "id": "b0080dc4-f537-482b-80f6-d8575dff6097",
   "metadata": {},
   "outputs": [],
   "source": []
  },
  {
   "cell_type": "code",
   "execution_count": null,
   "id": "93569127-cc42-47b7-bb6a-1f83a036d22f",
   "metadata": {},
   "outputs": [],
   "source": []
  },
  {
   "cell_type": "code",
   "execution_count": null,
   "id": "4096ae9e-f5a5-41c9-8ae9-6c79eb9c0a9d",
   "metadata": {},
   "outputs": [],
   "source": []
  },
  {
   "cell_type": "code",
   "execution_count": null,
   "id": "affaa3c0-ba84-4d4e-a557-d4a7a2558dc4",
   "metadata": {},
   "outputs": [],
   "source": []
  },
  {
   "cell_type": "markdown",
   "id": "15e16440-ec46-49f7-a156-4bcb52351779",
   "metadata": {},
   "source": [
    "`==` and floats does not play nicely with floats because of floating-point arithmetic."
   ]
  },
  {
   "cell_type": "code",
   "execution_count": null,
   "id": "4b4a5781-6b9f-4e7d-a29e-e127ff5b9164",
   "metadata": {},
   "outputs": [],
   "source": []
  },
  {
   "cell_type": "markdown",
   "id": "264bf787-1843-43d1-a6e4-96fedb22529e",
   "metadata": {},
   "source": [
    "A variable which has as its value `True` or `False` is a bool. The following are bools:"
   ]
  },
  {
   "cell_type": "code",
   "execution_count": null,
   "id": "9d749baa-f1a2-4c0f-9e91-66e79762889d",
   "metadata": {},
   "outputs": [],
   "source": []
  },
  {
   "cell_type": "markdown",
   "id": "ce1a9300-4a99-4d33-9876-8214169ab12a",
   "metadata": {},
   "source": [
    "## Containers\n",
    "\n",
    "A container is a data structure which is a collection of other objects. One of the simplest data structures in Python is a `list`. Any type of object can go in a `list`."
   ]
  },
  {
   "cell_type": "code",
   "execution_count": null,
   "id": "0275ffae-2e3c-4779-b1a8-6488806c44d0",
   "metadata": {},
   "outputs": [],
   "source": []
  },
  {
   "cell_type": "markdown",
   "id": "63647ee9-f363-4734-b1ca-1d277601943d",
   "metadata": {},
   "source": [
    "Here, we have a `list` with strings, integers, floats, and even functions. We can access the `list` a few different ways. Observe that indexing elements starts at 0, not 1!"
   ]
  },
  {
   "cell_type": "code",
   "execution_count": null,
   "id": "b015f9e4-5f9c-4240-90b9-8aa8199bd256",
   "metadata": {},
   "outputs": [],
   "source": []
  },
  {
   "cell_type": "code",
   "execution_count": null,
   "id": "652eafd6-ddc6-4d7c-bfa8-5fa804065da2",
   "metadata": {},
   "outputs": [],
   "source": []
  },
  {
   "cell_type": "code",
   "execution_count": null,
   "id": "ea09fb08-5e30-47f4-84cf-ce96f3dba8bc",
   "metadata": {},
   "outputs": [],
   "source": []
  },
  {
   "cell_type": "code",
   "execution_count": null,
   "id": "8e283026-ff2e-42d5-9836-147db4143f15",
   "metadata": {},
   "outputs": [],
   "source": []
  },
  {
   "cell_type": "code",
   "execution_count": null,
   "id": "44faf80f-bb8d-4b2c-901f-118045db5749",
   "metadata": {},
   "outputs": [],
   "source": []
  },
  {
   "cell_type": "code",
   "execution_count": null,
   "id": "2b9360af-25f6-4179-9072-df364a5173fb",
   "metadata": {},
   "outputs": [],
   "source": []
  },
  {
   "cell_type": "code",
   "execution_count": null,
   "id": "0a5cfc29-2ed4-44f5-9603-e034442cb3b4",
   "metadata": {},
   "outputs": [],
   "source": []
  },
  {
   "cell_type": "markdown",
   "id": "fdde43f9-ae97-4487-8ee8-0f14ed961508",
   "metadata": {},
   "source": [
    "We can also add things to an existing list by using the `append` function."
   ]
  },
  {
   "cell_type": "code",
   "execution_count": null,
   "id": "dfcbb861-50d9-4cff-a7e2-e029ca47852f",
   "metadata": {},
   "outputs": [],
   "source": []
  },
  {
   "cell_type": "markdown",
   "id": "f32d5d34-3b42-47f1-91cc-d47d6fa83173",
   "metadata": {},
   "source": [
    "Only `+` can be used between two lists. None of the other arithmetic operations are defined for use on two lists."
   ]
  },
  {
   "cell_type": "code",
   "execution_count": null,
   "id": "5f088386-9315-4e5c-adfe-7c69a52f14bd",
   "metadata": {},
   "outputs": [],
   "source": []
  },
  {
   "cell_type": "code",
   "execution_count": null,
   "id": "59fe44c4-e2e4-4777-9524-0e7175171735",
   "metadata": {},
   "outputs": [],
   "source": []
  },
  {
   "cell_type": "markdown",
   "id": "c1092ea7-5ec9-4341-adc2-ad33e4519cd8",
   "metadata": {},
   "source": [
    "There are many other operations that can be done with lists. Please consult the tutorial at the top of this notebook or Google to learn more."
   ]
  },
  {
   "cell_type": "markdown",
   "id": "2248b69b-382a-4d5f-9630-cfa706ca8168",
   "metadata": {},
   "source": [
    "## Iteration\n",
    "\n",
    "Iteration is a process where code is repeated for a given number of times or until a condition is met. There are two types of iteration: `for` loops, which specify the number of times something is repeated, and `while` loops which specify something to be repeated until a condition is false.\n",
    "\n",
    "One way of specifying how long a `for` loop should run is by using Python's `range` function which specifies the *start* and *stop* ([not *end*!](https://stackoverflow.com/a/35039558)) points."
   ]
  },
  {
   "cell_type": "code",
   "execution_count": null,
   "id": "e5558a5a-b7f5-42f6-b432-2d7176b1d63c",
   "metadata": {},
   "outputs": [],
   "source": []
  },
  {
   "cell_type": "markdown",
   "id": "a88d232f-d69c-4087-bcdb-edeacc264dc8",
   "metadata": {},
   "source": [
    "Write a `for` loop to calculate $\\ln (1 + x)$ for $x = 0.5$ using up to 10 terms in its Taylors series. `print` the final results. The Taylor series is given [here](https://en.wikipedia.org/wiki/Taylor_series#Natural_logarithm). Note the series starts at the first term instead of the zeroth."
   ]
  },
  {
   "cell_type": "code",
   "execution_count": null,
   "id": "5eb0d5f7-2df7-4e9d-8317-f1743d1edabb",
   "metadata": {},
   "outputs": [],
   "source": []
  },
  {
   "cell_type": "markdown",
   "id": "630ad4a6-d381-4cbc-87b2-da0f0a9bad72",
   "metadata": {},
   "source": [
    "Variables which are collections of things can be described as iterable. A `list` can be iterated over. Iterate over `mylist` and print each element."
   ]
  },
  {
   "cell_type": "code",
   "execution_count": null,
   "id": "5de66e13-92f5-4bc8-83d6-c291f742d96a",
   "metadata": {},
   "outputs": [],
   "source": []
  },
  {
   "cell_type": "code",
   "execution_count": null,
   "id": "ba53ffe6-d96b-463c-9a0c-0d1e8f22ab52",
   "metadata": {},
   "outputs": [],
   "source": []
  },
  {
   "cell_type": "markdown",
   "id": "d3eefaff-e235-42e4-86d8-7b2e82363837",
   "metadata": {},
   "source": [
    "`enumerate` can be used to return both the count of the iteration and the value of the iterable."
   ]
  },
  {
   "cell_type": "code",
   "execution_count": null,
   "id": "363146ad-ad17-496c-8c64-e96a7da702fc",
   "metadata": {},
   "outputs": [],
   "source": []
  },
  {
   "cell_type": "markdown",
   "id": "cb07a968-77c2-4457-8dce-30de89ee4d49",
   "metadata": {},
   "source": [
    "Using a `for` loop is a great way for building a list."
   ]
  },
  {
   "cell_type": "code",
   "execution_count": null,
   "id": "b258c7fc-3443-477d-acfc-f47a795f4087",
   "metadata": {},
   "outputs": [],
   "source": []
  },
  {
   "cell_type": "code",
   "execution_count": null,
   "id": "b3fa5469-6c40-4e72-a626-55b03c95f8f2",
   "metadata": {},
   "outputs": [],
   "source": []
  },
  {
   "cell_type": "markdown",
   "id": "a5fb4372-64b8-413c-b733-e52ff35a9251",
   "metadata": {},
   "source": [
    "We can use the `zip` function to loop over two things at once. Be careful since the iterables being zipped need not be the same length for the code to work."
   ]
  },
  {
   "cell_type": "code",
   "execution_count": null,
   "id": "30fa9c3f-d3d7-4586-9905-eb8a63d4c47e",
   "metadata": {},
   "outputs": [],
   "source": []
  },
  {
   "cell_type": "markdown",
   "id": "17ba3221-1cdc-4e4b-9932-0d374a18405a",
   "metadata": {},
   "source": [
    "`while` loops continue iterating until a condition is false.\n",
    "\n",
    "Let's take a transcendental function, $x = \\cos x$, and devise a `while` loop for finding the solution to know when $x = \\cos x$. Let the `while` loop terminate when the error is smaller than some error tolerance that we deine (just some float). Also keep track of how many iterations are performed.\n",
    "\n",
    "Before we can write this code, Python doesn't know what a `cos` function. We can write one ourselves, or we can import a module which allows us to use a `cos` function other folks have coded up. We're going to do the latter. The `numpy` module is installed in this `biophys|` environment. It has a `cos` function. We write `import numpy as np` to alias `numpy` as `np`. This allows us to type less whenever we need to use `numpy`, and it is also in line with conventions others have established. E.g., it would be nonsensical to write `import numpy as n` because no one writes it like that (because it conveys no information that the code is using `numpy`) and `n` is typically used as a variable for other things. This means that every time we call something from `numpy` we preface it by `np`.\n",
    "\n",
    "For our `while` loop, we'll also need the absolute value function `np.abs` since there error can be defined as $|(x - y) \\, / \\, x|$, where $x$ is the original value and $y$ is the updated value."
   ]
  },
  {
   "cell_type": "code",
   "execution_count": null,
   "id": "b0c3c490-179c-44bb-908c-71bd12b9d54d",
   "metadata": {},
   "outputs": [],
   "source": []
  },
  {
   "cell_type": "code",
   "execution_count": null,
   "id": "c03a5c47-7353-4f49-97b1-494765012903",
   "metadata": {},
   "outputs": [],
   "source": []
  },
  {
   "cell_type": "markdown",
   "id": "64d3ef39-cf28-4dd8-aa94-cbe105e784fb",
   "metadata": {},
   "source": [
    "## Functions\n",
    "\n",
    "Functions are essential to programming. They enable your code to tell a story and be modular. Perhaps most important of all, they enable you, as the coder, to be lazy (or efficient). Functions take in **arguments** and **return** a result. Function arguments can be input by their location or by using keywords. Additionally, arguments can have default values. The names of the variables passed as arguments to a function do not have to match what the arguments are called.\n",
    "\n",
    "Write a function which solves $x = \\cos x$. It should return $x$ and have as arguments `x`; `tol`, the error tolerance; and `maxiters`, the maximum number of iterations to be performed before the while loop terminates. Have the `while` loop terminate if the error is below `tol` or if the number of iterations exceeds `maxiters`.\n",
    "\n",
    "When writing functions, it's a good habit to write [docstrings](https://pandas.pydata.org/docs/development/contributing_docstring.html) and follow conventions. For now, focus on describing the code briefly and writing the \"Parameters\" and \"Returns\" parts. This makes code user-friendly to yourself (you'll forget what code does when you revisit it weeks or months later) and others. To reiterate, writing a docstring is **NOT** necessary for a function to run. But it makes for good code. (Look up what `\"\"\"` means!)"
   ]
  },
  {
   "cell_type": "code",
   "execution_count": null,
   "id": "2dce47bf-125c-44f0-b66f-089389c1afe8",
   "metadata": {},
   "outputs": [],
   "source": []
  },
  {
   "cell_type": "markdown",
   "id": "1973224c-718d-462a-b7fa-7c6d0bafa681",
   "metadata": {},
   "source": [
    "When you write a docstring, you can call `help` on the function, and it returns the docstring! You can also type the name of the function and a question mark and receive information."
   ]
  },
  {
   "cell_type": "code",
   "execution_count": null,
   "id": "808c1ce1-3876-48f8-885a-b992983d6546",
   "metadata": {},
   "outputs": [],
   "source": []
  },
  {
   "cell_type": "markdown",
   "id": "d5598bd8-fcce-40b4-a39f-4d535e71ea79",
   "metadata": {},
   "source": [
    "Therefore, another way of learning about functions or other things is by calling help on them. For instance, let's call on `np.cos`."
   ]
  },
  {
   "cell_type": "code",
   "execution_count": null,
   "id": "a8e2167c-ed3f-4576-bd74-e3893665e0ac",
   "metadata": {},
   "outputs": [],
   "source": []
  },
  {
   "cell_type": "markdown",
   "id": "0c89e40f-959a-4cfe-b45e-cf9b6eeabb2b",
   "metadata": {},
   "source": [
    "What is printed by calling `help` matches the documentation of these functions on their respective websites. Sometimes the docstrings can be verbose and overwhelming, but they won't be after some time and practice with programming."
   ]
  },
  {
   "cell_type": "markdown",
   "id": "ab74d5a2-65a0-43c0-826d-4e89fe38048a",
   "metadata": {},
   "source": [
    "Anyway, running the function using the location of the arguments, we have the following."
   ]
  },
  {
   "cell_type": "code",
   "execution_count": null,
   "id": "b2c3f908-bd04-4683-b976-e8b17b91fb9f",
   "metadata": {},
   "outputs": [],
   "source": []
  },
  {
   "cell_type": "markdown",
   "id": "44feed58-75be-498a-be9d-889878d7788e",
   "metadata": {},
   "source": [
    "Running the function by specifying keywords, we have the following."
   ]
  },
  {
   "cell_type": "code",
   "execution_count": null,
   "id": "e763bd46-d84b-4daa-a94e-9e23b5d81390",
   "metadata": {},
   "outputs": [],
   "source": []
  },
  {
   "cell_type": "markdown",
   "id": "b9bf9de9-b231-4204-89ff-1b5238eecfc0",
   "metadata": {},
   "source": [
    "Now let's rewrite the function with arguments having default values for `tol` and `maxiters`. Notice how we change the docstring (following established conventions)."
   ]
  },
  {
   "cell_type": "code",
   "execution_count": null,
   "id": "36f410f3-9005-451e-8ba2-b095e14652a4",
   "metadata": {},
   "outputs": [],
   "source": []
  },
  {
   "cell_type": "markdown",
   "id": "a9196069-186f-44d0-a32d-1076d9a17d1d",
   "metadata": {},
   "source": [
    "Calling `help` on the function will also show us that parameters are set to default values."
   ]
  },
  {
   "cell_type": "code",
   "execution_count": null,
   "id": "ab3182ae-48b4-4434-94a0-c1c60e45ea9d",
   "metadata": {},
   "outputs": [],
   "source": []
  },
  {
   "cell_type": "markdown",
   "id": "f3d28ed7-f635-4ea4-9885-92eb2e74a4e8",
   "metadata": {},
   "source": [
    "We can now call the function without having to set `tol` or `maxiters`."
   ]
  },
  {
   "cell_type": "code",
   "execution_count": null,
   "id": "0b640717-9895-4203-821a-67f22cfb1185",
   "metadata": {},
   "outputs": [],
   "source": []
  },
  {
   "cell_type": "markdown",
   "id": "ad8327d0-e711-4a1e-8570-d52a5e67e43f",
   "metadata": {},
   "source": [
    "Let's also write a function that returns that result of our Taylor series for $\\ln(1 + x)$. Have its arguments be $x$; `maxiters`, the number of terms we want with a default value set to $10$; and `verbose`, a bool which when set to `True` enables the printing of the approximation with each new term."
   ]
  },
  {
   "cell_type": "code",
   "execution_count": null,
   "id": "99b4649e-c53a-4908-ae5a-f39a37b20f15",
   "metadata": {},
   "outputs": [],
   "source": []
  },
  {
   "cell_type": "code",
   "execution_count": null,
   "id": "ab9f8895-6852-4431-ab57-12d727e0cbee",
   "metadata": {},
   "outputs": [],
   "source": []
  },
  {
   "cell_type": "markdown",
   "id": "f60762a9-c4cb-4ad6-b8d0-310766fdd492",
   "metadata": {},
   "source": [
    "# Numpy\n",
    "___\n",
    "\n",
    "Numpy provides a [plethora](https://numpy.org/doc/stable/reference/routines.math.html) of mathematical functions. For instance, we can calculate $\\ln$ using [`np.log`](https://numpy.org/doc/stable/reference/generated/numpy.log.html). "
   ]
  },
  {
   "cell_type": "code",
   "execution_count": null,
   "id": "cc35bc39-3261-4e74-b26f-35ce640f020d",
   "metadata": {},
   "outputs": [],
   "source": []
  },
  {
   "cell_type": "markdown",
   "id": "77cde1f7-fd10-4839-9bd9-c2c66b2f7f9a",
   "metadata": {},
   "source": [
    "Compare this to your value obtained using `compute_ln_1px`.\n",
    "\n",
    "As a reminder, if you don't preface `log` with `np.`, the code will not work. `np.log` says that `log` comes from the `np` module."
   ]
  },
  {
   "cell_type": "code",
   "execution_count": null,
   "id": "40387ae8-8955-41fe-ab5c-133702703105",
   "metadata": {},
   "outputs": [],
   "source": []
  },
  {
   "cell_type": "markdown",
   "id": "dadcac01-577c-4e76-bb93-09865154607e",
   "metadata": {},
   "source": [
    "Try out other Numpy mathematical functions! See what you get."
   ]
  },
  {
   "cell_type": "markdown",
   "id": "6ed090ba-f539-46c0-9ed8-dcaafbcc4e73",
   "metadata": {},
   "source": [
    "## Numpy arrays"
   ]
  },
  {
   "cell_type": "markdown",
   "id": "fd60ae8c-7f29-46cb-86c0-f5456ba31aa5",
   "metadata": {},
   "source": [
    "The basic container of Numpy is a Numpy array. Numpy arrays are initialized with a certain shape and value. Typically Numpy arrays are initialized with zeros or ones."
   ]
  },
  {
   "cell_type": "code",
   "execution_count": null,
   "id": "a125fca8-5761-4452-9f7e-106ab41ad8f5",
   "metadata": {},
   "outputs": [],
   "source": []
  },
  {
   "cell_type": "markdown",
   "id": "547a2caf-6a1d-4c53-9d2e-24356ace42fe",
   "metadata": {},
   "source": [
    "You could similarly not specify `shape` as a keyword argument and get the same result since `shape` is the first argument of these functions."
   ]
  },
  {
   "cell_type": "code",
   "execution_count": null,
   "id": "8329a38d-ab51-45a8-87bd-aea9d17de157",
   "metadata": {},
   "outputs": [],
   "source": []
  },
  {
   "cell_type": "markdown",
   "id": "0c53c139-90f4-4dcc-bdd4-22dc7e8621fb",
   "metadata": {},
   "source": [
    "Arithmetic operators using scalars are performed naturally. Let's perform some operations and assign these to arrays to variables to be used later."
   ]
  },
  {
   "cell_type": "code",
   "execution_count": null,
   "id": "8a2d8f89-1798-4f63-b800-924467696c67",
   "metadata": {},
   "outputs": [],
   "source": []
  },
  {
   "cell_type": "code",
   "execution_count": null,
   "id": "9b3cc466-23ac-46f8-8058-f17ceb8183b8",
   "metadata": {},
   "outputs": [],
   "source": []
  },
  {
   "cell_type": "code",
   "execution_count": null,
   "id": "23d1ff11-26c1-4897-90da-eb5f912bd798",
   "metadata": {},
   "outputs": [],
   "source": []
  },
  {
   "cell_type": "markdown",
   "id": "f66ac449-09ad-4b97-b40d-36889bbbc8bd",
   "metadata": {},
   "source": [
    "Numpy has its own range function [`np.arange`](https://numpy.org/doc/stable/reference/generated/numpy.arange.html)."
   ]
  },
  {
   "cell_type": "code",
   "execution_count": null,
   "id": "a49e0168-0b88-454f-b42a-132ee1d137cb",
   "metadata": {},
   "outputs": [],
   "source": []
  },
  {
   "cell_type": "markdown",
   "id": "d13aa8d6-5842-40af-90b7-1f9156c53fd5",
   "metadata": {},
   "source": [
    "Unlike Python's native `range`, `np.arange` can have non-integer step sizes."
   ]
  },
  {
   "cell_type": "code",
   "execution_count": null,
   "id": "df282014-fe7e-4a2a-8919-62e8dd36d547",
   "metadata": {},
   "outputs": [],
   "source": []
  },
  {
   "cell_type": "code",
   "execution_count": null,
   "id": "dce29560-d1c2-4f74-960e-e53fb7a8c4ff",
   "metadata": {},
   "outputs": [],
   "source": []
  },
  {
   "cell_type": "markdown",
   "id": "a101c7ab-10ab-4f06-926a-2a90db4354a5",
   "metadata": {},
   "source": [
    "Now let's perform operations between arrays. Operations are performed element-wise."
   ]
  },
  {
   "cell_type": "code",
   "execution_count": null,
   "id": "fa1c9f7c-1802-42a8-9186-dcce6ea57674",
   "metadata": {},
   "outputs": [],
   "source": []
  },
  {
   "cell_type": "code",
   "execution_count": null,
   "id": "2c4cea05-57c7-4e9f-8b3b-7caf16ac5b30",
   "metadata": {},
   "outputs": [],
   "source": []
  },
  {
   "cell_type": "code",
   "execution_count": null,
   "id": "8980be42-5bb1-40df-830b-390eaebee881",
   "metadata": {},
   "outputs": [],
   "source": []
  },
  {
   "cell_type": "code",
   "execution_count": null,
   "id": "d0cd0041-66dc-46ad-8b79-b32daced1e99",
   "metadata": {},
   "outputs": [],
   "source": []
  },
  {
   "cell_type": "markdown",
   "id": "f7a745f5-668d-4006-93f8-2d725af9091f",
   "metadata": {},
   "source": [
    "When programming, warnings are helpful and not the end of the world. Here, Numpy gives a warning when we perform division by 0. When dividing by zero, Numpy returns `np.inf`."
   ]
  },
  {
   "cell_type": "code",
   "execution_count": null,
   "id": "88839455-93cb-4120-8518-7a9148744dc4",
   "metadata": {},
   "outputs": [],
   "source": []
  },
  {
   "cell_type": "code",
   "execution_count": null,
   "id": "60471c40-9521-4f23-b81c-007ecf84ca11",
   "metadata": {},
   "outputs": [],
   "source": []
  },
  {
   "cell_type": "code",
   "execution_count": null,
   "id": "d77d4c5e-56e6-4215-b5b0-1f083e792834",
   "metadata": {},
   "outputs": [],
   "source": []
  },
  {
   "cell_type": "markdown",
   "id": "347d0fe4-cf46-4bfa-b0fa-07c419dbf0d6",
   "metadata": {},
   "source": [
    "It's extremely easy to perform mathematical operations on Numpy arrays by construction. The mathematical operations are performed element-wise without any need for a `for` loop. They're also much faster than if we were to use `for` loops."
   ]
  },
  {
   "cell_type": "markdown",
   "id": "546268fa-f36b-40bc-8934-8aa0ed2f2983",
   "metadata": {},
   "source": [
    "Numpy slicing is similar to that we learned for a `list`, but it has much more functionality."
   ]
  },
  {
   "cell_type": "code",
   "execution_count": null,
   "id": "9c5c4829-d764-4268-8d04-0584026e6c87",
   "metadata": {},
   "outputs": [],
   "source": []
  },
  {
   "cell_type": "code",
   "execution_count": null,
   "id": "07a7ef3a-e1a9-4464-8186-e48f90418a0e",
   "metadata": {},
   "outputs": [],
   "source": []
  },
  {
   "cell_type": "code",
   "execution_count": null,
   "id": "0a598cbe-e79d-49a1-8a5b-bb986b391ec2",
   "metadata": {},
   "outputs": [],
   "source": []
  },
  {
   "cell_type": "markdown",
   "id": "ab3f7ea3-e451-459d-bae0-ba779a55af54",
   "metadata": {},
   "source": [
    "We can also slice by using a `list` (or Numpy array) of indices. (This doesn't work for a `list`)."
   ]
  },
  {
   "cell_type": "code",
   "execution_count": null,
   "id": "10a5c3cf-a0ee-4fe0-bea6-838bac5eb28e",
   "metadata": {},
   "outputs": [],
   "source": []
  },
  {
   "cell_type": "code",
   "execution_count": null,
   "id": "d950ae81-11a8-48a9-98d7-2743c3181d39",
   "metadata": {},
   "outputs": [],
   "source": []
  },
  {
   "cell_type": "code",
   "execution_count": null,
   "id": "54fb2a49-328e-41bc-aebe-41e083fa4671",
   "metadata": {},
   "outputs": [],
   "source": []
  },
  {
   "cell_type": "markdown",
   "id": "3fef5bd1-09fc-46be-bc24-7db25ee73d93",
   "metadata": {},
   "source": [
    "We can also access Numpy array by using conditionals."
   ]
  },
  {
   "cell_type": "code",
   "execution_count": null,
   "id": "d59534a8-435e-4a28-9fcd-6513005eacd3",
   "metadata": {},
   "outputs": [],
   "source": []
  },
  {
   "cell_type": "code",
   "execution_count": null,
   "id": "4919de74-d0a5-40c4-af42-8080289bfb18",
   "metadata": {},
   "outputs": [],
   "source": []
  },
  {
   "cell_type": "markdown",
   "id": "46a3060a-3b07-4fb5-aa28-cd71c15b162f",
   "metadata": {},
   "source": [
    "We use `&` for `and` and `|` for `or` when using this conditional arrays."
   ]
  },
  {
   "cell_type": "code",
   "execution_count": null,
   "id": "403ee392-4a6e-45af-8df7-53c007cbfa2b",
   "metadata": {},
   "outputs": [],
   "source": []
  },
  {
   "cell_type": "code",
   "execution_count": null,
   "id": "3ad552e6-c178-410b-807e-d07574607dfd",
   "metadata": {},
   "outputs": [],
   "source": []
  },
  {
   "cell_type": "markdown",
   "id": "0e6fc742-b235-4cfe-aa4e-731e061aa2cc",
   "metadata": {},
   "source": [
    "We can use any of these techniques of accessing the numpy array to also change its value."
   ]
  },
  {
   "cell_type": "code",
   "execution_count": null,
   "id": "a9fac6ce-e43d-4610-bb40-ac501d060d72",
   "metadata": {},
   "outputs": [],
   "source": []
  },
  {
   "cell_type": "markdown",
   "id": "c389ddee-5903-4bc6-bdee-2d6d5d620c97",
   "metadata": {},
   "source": [
    "Numpy arrays can be n-dimensional. For instance, we can create a Numpy array with 3 dimensions."
   ]
  },
  {
   "cell_type": "code",
   "execution_count": null,
   "id": "4ee594d7-ae1c-4ad3-a7bf-179b30ef7416",
   "metadata": {},
   "outputs": [],
   "source": []
  },
  {
   "cell_type": "markdown",
   "id": "92329d5a-9110-4127-88ac-cac316736083",
   "metadata": {},
   "source": [
    "We can slice as we did above, but we must use a comma to separate slicing in each dimension. Lets make this 3d array more interesting."
   ]
  },
  {
   "cell_type": "code",
   "execution_count": null,
   "id": "20bf7a0c-9c67-440d-a87e-80e289667ddb",
   "metadata": {},
   "outputs": [],
   "source": []
  },
  {
   "cell_type": "code",
   "execution_count": null,
   "id": "6ba5fc3f-a07a-45b2-9b35-d4a0970cf50b",
   "metadata": {},
   "outputs": [],
   "source": []
  },
  {
   "cell_type": "code",
   "execution_count": null,
   "id": "dca3174c-3bab-416e-9ce9-1039e946a219",
   "metadata": {},
   "outputs": [],
   "source": []
  },
  {
   "cell_type": "code",
   "execution_count": null,
   "id": "59cfd434-ffc6-4e1e-8a2f-9fffa5f7146a",
   "metadata": {},
   "outputs": [],
   "source": []
  },
  {
   "cell_type": "markdown",
   "id": "f6642781-5e7e-4953-95bc-6f824d0235e4",
   "metadata": {},
   "source": [
    "# Matplotlib\n",
    "___\n",
    "\n",
    "We're going to explore more functionality of Numpy and plot the numbers. Matplotlib is the package that we're going to use for plotting. To use Matplotlib, we have to import it. We use `import matplotlib.pyplot as plt` where `plt` is aliasing `matplotlib.pyplot` due to established convention and for lazier, streamlined code. We also enable a setting in the Jupyter notebook so our plots have high resolution by default."
   ]
  },
  {
   "cell_type": "code",
   "execution_count": 1,
   "id": "ae762e0b-fe98-411a-803f-94ccf77062ba",
   "metadata": {},
   "outputs": [],
   "source": [
    "import matplotlib.pyplot as plt\n",
    "\n",
    "# This is not required for using matplotlib, but it makes things look pretty.\n",
    "%config InlineBackend.figure_format = 'retina' "
   ]
  },
  {
   "cell_type": "markdown",
   "id": "05333f93-bd92-4a45-9570-f17b4159e4d1",
   "metadata": {},
   "source": [
    "Initialize a range of times from $[0, 5)$ with steps of $0.2$. Let a particle have $x_0 = 7$, $v_0 = 16$, and $a = -10$. Calculate the trajectory of the particle over this range of times using 1-d kinematics."
   ]
  },
  {
   "cell_type": "code",
   "execution_count": null,
   "id": "114e3f3a-7f26-4448-809e-e86a3178f5a7",
   "metadata": {},
   "outputs": [],
   "source": []
  },
  {
   "cell_type": "markdown",
   "id": "5b365907-2084-4633-8cfa-c4c9f3792bc3",
   "metadata": {},
   "source": [
    "We are going to plot the trajectory we calculated above on a line plot. There are two basic ways of plotting in Matplotlib. [This article](https://towardsdatascience.com/what-are-the-plt-and-ax-in-matplotlib-exactly-d2cf4bf164a9) provides a nice explanation for the two ways and the basic components of what Matplotlib generates. (You shouldn't need an account to read the article. If you can't read the article, open it in an incognito/private browser window.)\n",
    "\n",
    "The first way is the following:"
   ]
  },
  {
   "cell_type": "code",
   "execution_count": null,
   "id": "0a51302d-189a-4096-ac25-c2374ed59116",
   "metadata": {},
   "outputs": [],
   "source": []
  },
  {
   "cell_type": "markdown",
   "id": "a5d84fbb-a89c-4313-adc7-264282e4d208",
   "metadata": {},
   "source": [
    "The second way uses object-oriented programming and is more powerful once what's being plotted becomes more complicated than one plot."
   ]
  },
  {
   "cell_type": "code",
   "execution_count": null,
   "id": "8b487e06-f48b-4766-948a-5dbe1d659602",
   "metadata": {},
   "outputs": [],
   "source": []
  },
  {
   "cell_type": "markdown",
   "id": "76325b40-9fad-4ba8-b3e9-4f5304b1bffc",
   "metadata": {},
   "source": [
    "Note the difference in `plt.xlabel` vs. `ax.set_xlabel`. `plt` and `ax` are different things."
   ]
  },
  {
   "cell_type": "code",
   "execution_count": null,
   "id": "11c41896-49f8-41fc-9208-0504e68b8da8",
   "metadata": {},
   "outputs": [],
   "source": []
  },
  {
   "cell_type": "code",
   "execution_count": null,
   "id": "4cf318f4-0670-49ec-a0a9-3267e308c687",
   "metadata": {},
   "outputs": [],
   "source": []
  },
  {
   "cell_type": "markdown",
   "id": "1f624bf9-ab88-43cb-82e2-096ea785dd8f",
   "metadata": {},
   "source": [
    "For the remainder of this tutorial, we will default to using the `matplotlib.axes` method since it generalizes better.\n",
    "\n",
    "Let's calculate a spring potential energy function for $k=10 \\, \\mathrm{N/m}$ over a range of $x$, the distance from the equilibrium point, and use a range of [-10, 10] with step size 1. We plot the potential on a line plot."
   ]
  },
  {
   "cell_type": "code",
   "execution_count": null,
   "id": "1babc4ff-47b2-45bb-9624-46c480ba3f7d",
   "metadata": {},
   "outputs": [],
   "source": []
  },
  {
   "cell_type": "markdown",
   "id": "93463a26-7890-46ad-9ec9-972e39719c4c",
   "metadata": {},
   "source": [
    "We can also plot this as a scatter plot."
   ]
  },
  {
   "cell_type": "code",
   "execution_count": null,
   "id": "613e52c1-a6c2-4d39-ae76-0d2d4191db98",
   "metadata": {},
   "outputs": [],
   "source": []
  },
  {
   "cell_type": "markdown",
   "id": "348b349e-f6d6-4959-a1a5-2c445395d7e9",
   "metadata": {},
   "source": [
    "Now let's calculate the spring potential energy over a log-scaled range of $k$ and over the same range of $x$ as above. We plot it using a scatter plot with the color of the dots representing $\\log_{10}$ spring potential energy. We also generate a colorbar to tell us what values are associated with the colors."
   ]
  },
  {
   "cell_type": "code",
   "execution_count": null,
   "id": "6a80ac99-5da0-4100-8486-0e99a89a2548",
   "metadata": {},
   "outputs": [],
   "source": []
  },
  {
   "cell_type": "markdown",
   "id": "09edb23e-df81-41cf-bafe-8fe0d6cb3652",
   "metadata": {},
   "source": [
    "Google (or use `help`) any of the functions used above that are not familiar. Start getting into the habit of Googling parts of code you don't know and understanding them. Test those functions in your notebook. Become familiar with them.\n",
    "\n",
    "Additionally, try to plot the same thing using `for` loops instead of fancy `numpy` functions.\n"
   ]
  },
  {
   "cell_type": "markdown",
   "id": "2fa1e572-9eed-4055-81a8-b0e70470b5ce",
   "metadata": {},
   "source": [
    "Let's plot $\\sin x$, $\\cos x$, with $x \\in [0, 2\\pi]$ on the same line plot with a legend. Use 100 evenly spaced values in the interval $[0, 2 \\pi]$. Display $\\sin x$ with a solid line and $\\cos x$ with a dashed line. (See the line styles section [here](https://matplotlib.org/stable/api/_as_gen/matplotlib.pyplot.plot.html).) On a second axes in the figure, plot $\\tan x$ as a dotted line. We set the aspect ratio by setting `figsize` in `plt.subplots()`"
   ]
  },
  {
   "cell_type": "code",
   "execution_count": null,
   "id": "bfa9b7c2-01da-4d72-8dd4-afe902a65c0f",
   "metadata": {},
   "outputs": [],
   "source": []
  },
  {
   "cell_type": "markdown",
   "id": "3af8e3ed-53e6-44ea-b99d-65de1177aa32",
   "metadata": {},
   "source": [
    "Plot a filled-contour (contourf) of the $\\log_{10}$ electric potential of a single point charge lying in the $xy$-plane. On another axes in the same figure, plot a filled-contour plot of the electric potential for a dipole, with a positive charge at $(0.01, 0)$ and a negative charge placed at $(-0.01, 0)$. Let all charges have $q = 1 \\, \\mathrm{C}$. Use electric field equations in [Gaussian units](https://en.wikipedia.org/wiki/Gaussian_units)."
   ]
  },
  {
   "cell_type": "code",
   "execution_count": null,
   "id": "0ac7ce7f-d865-48eb-b2b8-c7e35cc538e3",
   "metadata": {},
   "outputs": [],
   "source": []
  },
  {
   "cell_type": "markdown",
   "id": "5638fef7-ee53-4f00-856f-3b32eacd42da",
   "metadata": {},
   "source": [
    "On the same axes, plot the probability density from a Gaussian distribution with $\\mu = 0$ and $\\sigma^2 \\in \\{0.01, 0.1, 1, \\}$ for 1000 evenly spaced $x \\in [-5, 5]$  using a line plot. Have a legend display which curve is associated with which variance. On the same figure but a different axes, plot the same thing but with pdf on a log scale."
   ]
  },
  {
   "cell_type": "code",
   "execution_count": null,
   "id": "822f7028-1b15-4331-b7e2-07279dc61e6e",
   "metadata": {},
   "outputs": [],
   "source": []
  }
 ],
 "metadata": {
  "kernelspec": {
   "display_name": "Python 3 (ipykernel)",
   "language": "python",
   "name": "python3"
  },
  "language_info": {
   "codemirror_mode": {
    "name": "ipython",
    "version": 3
   },
   "file_extension": ".py",
   "mimetype": "text/x-python",
   "name": "python",
   "nbconvert_exporter": "python",
   "pygments_lexer": "ipython3",
   "version": "3.8.10"
  }
 },
 "nbformat": 4,
 "nbformat_minor": 5
}
