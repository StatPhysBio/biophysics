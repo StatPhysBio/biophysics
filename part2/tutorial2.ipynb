{
 "cells": [
  {
   "cell_type": "markdown",
   "id": "ac93c065-97c3-41a2-9953-fad1b1553ca5",
   "metadata": {},
   "source": [
    "# Solving differential equations numerically\n",
    "___\n",
    "\n",
    "Differential equations are a standard mathematical model used to understand dynamical systems. In general, these, or any, models aren't necessarily tractable. This notebook aims to address how can we study differential equations by integrating them numerically and plotting the results. In particular, we study the SIR model."
   ]
  },
  {
   "cell_type": "markdown",
   "id": "580cb5fd-27f6-4742-8c5c-45662903e508",
   "metadata": {},
   "source": [
    "# Import modules"
   ]
  },
  {
   "cell_type": "code",
   "execution_count": 1,
   "id": "937bc079-92fb-4494-ba19-7c679172df34",
   "metadata": {},
   "outputs": [],
   "source": [
    "import matplotlib.pyplot as plt\n",
    "import numpy as np\n",
    "import scipy.integrate as sp\n",
    "\n",
    "plt.style.use('custom.mplstyle')\n",
    "%config InlineBackend.figure_format = 'retina'"
   ]
  },
  {
   "cell_type": "markdown",
   "id": "5ccd2943-ebbd-4d22-b7b6-1d5b04a04d36",
   "metadata": {},
   "source": [
    "# The Euler method\n",
    "___\n",
    "\n",
    "A simple, first-order algorithm for solving ordinary differential equations given some initial value is the [Euler method](https://en.wikipedia.org/wiki/Euler_method).\n",
    "\n",
    "Perhaps the simplest example of a differential equation is that for exponential growth.\n",
    "\n",
    "$$\n",
    "\\frac{dN}{dt} = rN(t)\n",
    "$$\n",
    "\n",
    "where $r$ is some constant growth rate and $N(t)$ represents the size of a population at time $t$. We can solve this analytically by separating the variables and integrating on paper. Numerically, we can solve for $N(t)$ using a first-order Taylor expansion. Using the first-order ordinary differential equation above, we have\n",
    "\n",
    "$$\n",
    "\\begin{align*}\n",
    "N(t + \\Delta t) &= N(t) + \\frac{dN}{dt}(t) \\Delta t + O(\\Delta t^2)\\\\\n",
    "&\\approx N(t) + r N(t) \\Delta t\n",
    "\\end{align*}\n",
    "$$\n",
    "\n",
    "Suppose $N(0) = 2$ and $r = 1$. Letting $\\Delta t = 0.1$, $N$ changes by\n",
    "\n",
    "$$\n",
    "\\Delta N(0) = rN(0) \\Delta t = (1)(2)(0.1) = 0.2\n",
    "$$\n",
    "\n",
    "where $\\Delta N(0)$ means the change in $\\Delta N$ at $t=0$. We can continue evolving $N(t)$ indefinitely. Though we've shown we can perform Euler's method by hand, if we're to evolve $N(t)$ for long times or use a small $\\Delta t$ to get a better approximation, it's better to use a computer.\n",
    "\n",
    "Notably, \n",
    "\n",
    "$$\n",
    "N(t + \\Delta t) = N(t) + \\frac{dN(t)}{dt} \\Delta t + O(\\Delta t^2)\n",
    "$$\n",
    "\n",
    "This means that the error in our approximation of $N(t)$ scales with $\\Delta t^2$. $\\Delta t$ is something we're free to choose. Therefore, it's best to choose a $\\Delta t$ that is small. In particular, it must be small enough such that at most only one event occurs within an interval between $t$ and $t + \\Delta t$. Take the evolution of bacterial cells as an example. If we are integrating exponential growth of this process, we shouldn't take $\\Delta t$ to be larger than the time it takes for a cell to divide. This is stated formally as the [Courant-Friedrichs-Lewy condition](https://en.wikipedia.org/wiki/Courant%E2%80%93Friedrichs%E2%80%93Lewy_condition). On the other hand, choosing $\\Delta t$ too small (e.g. $10^{-16}$) can ensue in unnecessarily long computational times and possibly numerical inaccuracies. All in all, Euler's method is simple and powerful, but we must be mindful of our choice for $\\Delta t$."
   ]
  },
  {
   "cell_type": "markdown",
   "id": "2c99a9b8-3e3b-4ddc-a621-8868f5c65e49",
   "metadata": {},
   "source": [
    "# Exponential growth\n",
    "___\n",
    "\n",
    "Let's write a function that outputs $\\vec{t} = \\{0, \\Delta t, 2 \\Delta t, \\ldots \\}$ and $\\vec{N} = \\{N(0), N(\\Delta t), N(2\\Delta t), \\ldots\\}$ and takes as input the initial population size $N(0)$, the growth rate $r$, the total amount of time $T$ over which we want to evolve $N(t)$, and $\\Delta t$ the size of our time step."
   ]
  },
  {
   "cell_type": "code",
   "execution_count": 2,
   "id": "e832d73b-3d1d-4e33-881b-6f9c6f13acf8",
   "metadata": {},
   "outputs": [],
   "source": [
    "def euler_exponential(n0, r, T, dt):\n",
    "    pass"
   ]
  },
  {
   "cell_type": "markdown",
   "id": "ced856c7-54b3-45b0-8d3d-6b06af1bdc46",
   "metadata": {},
   "source": [
    "Let $N(0) = 10$, $r = 0.1 $(min$^{-1})$, $T = 100$ (min). Try out the Euler method using $\\Delta t \\in [10^{-2}, 10^{-1}, 1, 10]$.\n",
    "\n",
    "Using a semi-log scale for one axes object and a linear scale on another axes object, plot the results of each $\\Delta t$ as a scatter with each scatter associated with a particular $\\Delta t$ having a different color. Set the size of the markers in the scatter plot to 5: `s=5`. Plot the analytic function as a black solid line. Display a legend associating each plotting object with its label."
   ]
  },
  {
   "cell_type": "code",
   "execution_count": 3,
   "id": "b70d24db-766f-49f5-b7a4-0cd6ab98687d",
   "metadata": {},
   "outputs": [],
   "source": [
    "pass"
   ]
  },
  {
   "cell_type": "markdown",
   "id": "14b075af-f0ce-4305-a8bf-ba1ac96ef85f",
   "metadata": {},
   "source": [
    "Now let $N(0) = 10$, $r = 0.01$, $T = 100$. Again, try out the Euler method using $\\Delta t \\in [10^{-2}, 10^{-1}, 1, 10]$.\n",
    "\n",
    "Using a semi-log scale for one axes object and a linear scale on another axes object, plot the results of each $\\Delta t$ as a scatter with each scatter associated with a particular $\\Delta t$ having a different color. Set the size of the markers in the scatter plot to 5: `s=5`. Plot the analytic function as a black solid line. Display a legend associating each plotting object with its label."
   ]
  },
  {
   "cell_type": "code",
   "execution_count": 4,
   "id": "19b922be-2950-4ab1-a8cb-71cfe69fa1d6",
   "metadata": {},
   "outputs": [],
   "source": [
    "pass"
   ]
  },
  {
   "cell_type": "markdown",
   "id": "e00e011e-fdee-4ad4-8007-b916b9f9706e",
   "metadata": {},
   "source": [
    "By choosing a smaller $r$, $N(t)$ grows slower. We see that a higher $\\Delta t$ can be accurate for this choice of $r$. This is a demonstration of the Courant-Friedrichs-Lewy condition. For the above, $r \\Delta t = (0.1)(10) = 1$ (1 event occurs per interval) whereas here $r \\Delta t = (0.01)(10) = 0.1$ (0.1 events occur per interval). How good is the Euler's method for different $\\Delta t$ when $r=0.01$ and $T=1000?$\n",
    "\n",
    "We see that choosing a smaller $\\Delta t$ gives a more accurate solution overall. Additionally, the characteristic time $r^{-1}$ also sets how correct a choice of $\\Delta t$ can be. If $\\Delta t > r^{-1}$, our approximation misses events of growth and errors in our numerical approximation accumulate."
   ]
  },
  {
   "cell_type": "markdown",
   "id": "866fb49f-3c8a-43b7-a8a6-d0940098cae7",
   "metadata": {},
   "source": [
    "# Susceptible-Infected-Recovered (SIR) models\n",
    "___\n",
    "\n",
    "[SIR models](https://en.wikipedia.org/wiki/Compartmental_models_in_epidemiology#The_SIR_model_without_vital_dynamics) describe the spread of a pathogen in a population. The SIR model breaks down the overall population into three subsets: the susceptible population, which consists of folks who haven't been infected yet and can be; the infected population, which can recover from the infection or infect the susceptible population; and the recovered population, which assumedly can't be reinfected. The system of differential equations for this model are:\n",
    "\n",
    "$$\n",
    "\\begin{align*}\n",
    "\\frac{dS(t)}{dt} &= -\\beta S(t) I(t) \\\\\n",
    "\\frac{dI(t)}{dt} &= \\beta S(t) I(t) - \\nu I(t) \\\\\n",
    "\\frac{dR(t)}{dt} &= \\nu I(t)\n",
    "\\end{align*}\n",
    "$$\n",
    "\n",
    "where $\\beta > 0$ is the rate at which susceptible people become infected from an encounter with folks who are infected, and $\\nu > 0$ is the rate at which infectious people recover. (What are the units of $\\beta$ and $\\nu$?) Here, we are letting $S$, $I$, and $R$ be the **fractions of the population** which are susceptible, infectious, or recovered, respectively: $S(t) + I(t) + R(t) = 1$. Additionally, by modeling the fractions of the overall population, we don't need to worry about what the size of the total population size, making our lives a bit easier.\n",
    "\n",
    "The ratio of $\\beta$ and $\\nu$ constitutes what is called $R_0$, the basic reproduction number:\n",
    "\n",
    "$$\n",
    "R_0 = \\frac{\\beta}{\\nu}\n",
    "$$\n",
    "\n",
    "$R_0$ describes how many people an infectious person infects on average. (What are the units of $R_0$?)\n",
    "\n",
    "Note that $dS(t)/dt$ and $dI(t)/dt$ are coupled in a nonlinear way due to the presence of $\\beta S(t) I(t)$. Because of this relationship and $S(t) + I(t) + R(t) = 1$, we consider $dR(t)/dt$ to be superfluous. Systems of differential equations coupled nonlinearly rarely have analytical solutions. We can play the game of looking at how the populations evolve in limiting cases which make the solution tractable, but these solutions are accurate only in those regimes. Instead, we'll solve the equations irrespective of any regime using numerical integration."
   ]
  },
  {
   "cell_type": "markdown",
   "id": "80ded517-578c-46ae-a310-092132f42851",
   "metadata": {},
   "source": [
    "# Euler method and the SIR model\n",
    "___\n",
    "\n",
    "Because $R(t) = 1 - S(t) - I(t)$, we need only solve for the evolution of $S(t)$ and $I(t)$. As before,\n",
    "\n",
    "$$\n",
    "\\begin{align*}\n",
    "S(t + \\Delta t) &= S(t) + \\frac{dS(t)}{dt} \\Delta t + O(\\Delta t^2) \\\\\n",
    "I(t + \\Delta t) &= I(t) + \\frac{dI(t)}{dt} \\Delta t + O(\\Delta t^2)\n",
    "\\end{align*}\n",
    "$$\n",
    "\n",
    "Applying the approximation and plugging in the values for the derivatives, we have\n",
    "\n",
    "$$\n",
    "\\begin{align*}\n",
    "S(t + \\Delta t) &\\approx S(t) - \\beta S(t) I(t) \\Delta t \\\\\n",
    "I(t + \\Delta t) &\\approx I(t) + \\beta S(t) I(t) \\Delta t - \\nu I(t) \\Delta t\n",
    "\\end{align*}\n",
    "$$\n",
    "\n",
    "\n",
    "Write a function which takes in $S(0)$, $I(0)$, $R_0$, $\\nu$, $T$ (the total time over which we want to track the evolution of the populations), and $\\Delta t$ and outputs $\\vec{t} = \\{0, \\Delta t, 2 \\Delta t, \\ldots \\}$, $\\vec{S} = \\{S(0), S(\\Delta t), S(2 \\Delta t), \\ldots\\}$, and $\\vec{I} = \\{I(0), I(\\Delta t), I(2 \\Delta t), \\ldots\\}$."
   ]
  },
  {
   "cell_type": "code",
   "execution_count": 5,
   "id": "f4440b26-c08f-4e35-9451-0e8e9d5f1a49",
   "metadata": {},
   "outputs": [],
   "source": [
    "def euler_sir(s0, i0, r0, nu, T, dt):\n",
    "    pass"
   ]
  },
  {
   "cell_type": "markdown",
   "id": "13adb9d6-ffb8-4ed2-8cb5-7ee8112420e9",
   "metadata": {},
   "source": [
    "Run your function, obtaining trajectories for $S$ and $I$ using the following parameters:\n",
    "- $I(0) = 10^{-6}$\n",
    "- $S(0) = 1 - I(0)$\n",
    "- $\\nu = \\frac{1}{7}$ (recovery after a week)\n",
    "- $R_0 = 5$ (average number of infections per individual)\n",
    "- $T = 100$ days\n",
    "- $\\Delta t = 0.01$"
   ]
  },
  {
   "cell_type": "code",
   "execution_count": 6,
   "id": "90e81bc7-f5d2-4531-8bcb-6dfe05b8e909",
   "metadata": {},
   "outputs": [],
   "source": [
    "pass"
   ]
  },
  {
   "cell_type": "markdown",
   "id": "730bf6aa-9e26-4106-9dbf-59f3f87186de",
   "metadata": {},
   "source": [
    "Plot $S(t)$, $I(t)$, and $R(t)$ vs. time. Display a legend with each line's label."
   ]
  },
  {
   "cell_type": "code",
   "execution_count": 7,
   "id": "5ebc3b06-bf9b-4ed0-963a-c4db924d1c46",
   "metadata": {},
   "outputs": [],
   "source": [
    "pass"
   ]
  },
  {
   "cell_type": "markdown",
   "id": "e7de7866-5ff7-46d7-9b7f-7b3ec6b9f290",
   "metadata": {},
   "source": [
    "# Better numerical integration and the SIR model\n",
    "___\n",
    "\n",
    "We stated above the Euler's method employs a first-order Taylor series approximation to solve differential equations. The SIR model is seemingly simple, but it is much more complicated than solving the differential equation for exponential growth. Let's now use `scipy` which has functions to integrate differential equations more accurately. Specifically let's use [scipy.integrate.odeint](https://docs.scipy.org/doc/scipy/reference/generated/scipy.integrate.odeint.html). (We don't concern ourselves with the implementation here. Though for those who are curious, this function uses [multistep methods](https://en.wikipedia.org/wiki/Linear_multistep_method#Families_of_multistep_methods) whereas Euler's method uses only one step. So this `scipy` function should be more accurate.)\n",
    "\n",
    "Reading the documentation, we see an example that is illuminating and follow it. We need to define a function which outputs an array-like object which contains the derivatives.\n",
    "\n",
    "Write a function which computes $dS(t)/dt$ and $dI(t)/dt$ taking as input $[S, I]$, the current values of $S$ and $I$; $T$, a sequence of time points; and $\\beta$ and $\\nu$. This function should return $[dS/dt, dI/dt]$."
   ]
  },
  {
   "cell_type": "code",
   "execution_count": 8,
   "id": "8887032d-dc0e-413e-b8b7-1e7ec16c81e7",
   "metadata": {},
   "outputs": [],
   "source": [
    "def sir_ode(current_vals, T, beta, nu):\n",
    "    pass"
   ]
  },
  {
   "cell_type": "markdown",
   "id": "e4bfca89-bdfe-416f-a9f0-84c87dd2523b",
   "metadata": {},
   "source": [
    "Run the scipy ode integrator using your function, obtaining trajectories for $S$ and $I$ using the following parameters:\n",
    "- $I(0) = 10^{-6}$\n",
    "- $S(0) = 1 - I(0)$\n",
    "- $\\nu = \\frac{1}{7}$ (recovery after a week)\n",
    "- $R_0 = 5$ (average number of infections per individual)\n",
    "- $T$ = `np.linspace(0, 100, 101)` (specifies that S(t), I(t) is evaluated at $t \\in [0, 100]$ (days) $ \\subset \\mathbb{Z}$)"
   ]
  },
  {
   "cell_type": "code",
   "execution_count": 9,
   "id": "02ba0d3d-f158-49cc-a051-9551e8d8df4b",
   "metadata": {},
   "outputs": [],
   "source": [
    "pass"
   ]
  },
  {
   "cell_type": "markdown",
   "id": "aff63d54-58b5-49a6-bbfb-25f9c5368a1c",
   "metadata": {},
   "source": [
    "Plot the solutions from your implentation of the Euler method as a scatter, and plot the solutions from `scipy` as solid lines. When plotting the results from using the Euler method, plot every 100th point since we had $\\Delta t = 0.01$. Set the size of the markers of the scatter to be 5: `s=5`. Label all plotted objects. Because we now have six plotted objects, the legend is large. We move the legend outside the axes: `plt.legend(loc='center right', bbox_to_anchor=(1.3, 0.5))`."
   ]
  },
  {
   "cell_type": "code",
   "execution_count": 10,
   "id": "e1d8818a-13d5-45c8-b2bd-6fb2e92541a9",
   "metadata": {},
   "outputs": [],
   "source": [
    "pass"
   ]
  },
  {
   "cell_type": "markdown",
   "id": "578a8c5f-cdd2-4133-a2f0-c53816de1291",
   "metadata": {},
   "source": [
    "We see that, at least for this choice of parameters, Euler's method produces an approximation which matches the results given by the `scipy` integrator (at least visually). Going forward, use the function from `scipy` to understand the trajectories of $S(t)$ and $I(t)$ since it's much quicker and more accurate in principle."
   ]
  }
 ],
 "metadata": {
  "kernelspec": {
   "display_name": "biophys2022",
   "language": "python",
   "name": "biophys2022"
  },
  "language_info": {
   "codemirror_mode": {
    "name": "ipython",
    "version": 3
   },
   "file_extension": ".py",
   "mimetype": "text/x-python",
   "name": "python",
   "nbconvert_exporter": "python",
   "pygments_lexer": "ipython3",
   "version": "3.8.10"
  }
 },
 "nbformat": 4,
 "nbformat_minor": 5
}
