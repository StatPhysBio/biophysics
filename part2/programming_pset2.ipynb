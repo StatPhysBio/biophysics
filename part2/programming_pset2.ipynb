{
 "cells": [
  {
   "cell_type": "markdown",
   "metadata": {},
   "source": [
    "# Problem set 2"
   ]
  },
  {
   "cell_type": "code",
   "execution_count": null,
   "metadata": {},
   "outputs": [],
   "source": [
    "import matplotlib.pyplot as plt\n",
    "import numpy as np\n",
    "\n",
    "plt.style.use('custom.mplstyle')\n",
    "%config InlineBackend.figure_format = 'retina'"
   ]
  },
  {
   "cell_type": "markdown",
   "metadata": {},
   "source": [
    "# Susceptible-Infected-Recovered (SIR) models\n",
    "___\n",
    "\n",
    "[SIR models](https://en.wikipedia.org/wiki/Compartmental_models_in_epidemiology#The_SIR_model_without_vital_dynamics) describe the spread of a pathogen in a population. The SIR model breaks down the overall population into three subsets: \n",
    "* the susceptible population $S$, which consists of folks who haven't been infected yet and can be infected\n",
    "* the infected population $I$, which can recover from the infection or infect the susceptible population\n",
    "* the recovered population $R$, which assumedly can't be reinfected. Note that sometimes this group is referred to as \"removed,\" which could also include death by infection.\n",
    "\n",
    "\n",
    "![SIR](SIR.jpg)\n",
    "\n",
    "\n",
    "The system of differential equations for this model is:\n",
    "\n",
    "$$\n",
    "\\begin{align*}\n",
    "\\frac{dS(t)}{dt} &= -\\beta S(t) I(t) \\\\\n",
    "\\frac{dI(t)}{dt} &= \\beta S(t) I(t) - \\nu I(t) \\\\\n",
    "\\frac{dR(t)}{dt} &= \\nu I(t)\n",
    "\\end{align*}\n",
    "$$\n",
    "\n",
    "where $\\beta > 0$ is the rate at which a susceptible person meeting an infected individual becomes infected. Note that such encounters occur at rate $S(t) I(t)$. $\\nu > 0$ is the rate at which infectious people recover. Here, we are letting $S$, $I$, and $R$ be the **fractions of the population** which are susceptible, infectious, or recovered, respectively: $S(t) + I(t) + R(t) = 1$. Because of this relationship, we consider the equation for $dR(t)/dt$ to be superfluous, as at each time point $R(t) = 1- S(t) -I(t)$. Additionally, by modeling the fractions of the overall population, we don't need to worry about what the size of the total population, making our lives a bit easier. "
   ]
  },
  {
   "cell_type": "markdown",
   "metadata": {},
   "source": [
    "The ratio of $\\beta$ and $\\nu$ constitutes what is called $R_0$, the basic reproduction number:\n",
    "\n",
    "$$\n",
    "R_0 = \\frac{\\beta}{\\nu}\n",
    "$$\n",
    "\n",
    "$R_0$ describes how many people an infectious person infects on average; you probably have heard about $R_0$ in the context of SARS-CoV-2 infections. "
   ]
  },
  {
   "cell_type": "markdown",
   "metadata": {},
   "source": [
    "### **Question 1** (3 points): What are the units of $\\beta$, $\\nu$, and $R_0$? Show your work."
   ]
  },
  {
   "cell_type": "markdown",
   "metadata": {},
   "source": [
    "**your answer:**"
   ]
  },
  {
   "cell_type": "markdown",
   "metadata": {},
   "source": [
    "## $R_0$ of different pathogens\n",
    "\n",
    "For a given pathogen, the exact value of $R_0$ can change by changing the encounter rate within a population. I.e., if we limit encounters, the basic reproduction number goes down. That is why lockdowns have been used to reduce infections.\n",
    "\n",
    "Different pathogens can also have different intrinsic pathogenicity and transmissibilities. For example, the Omicron variant of SARS-CoV-2 is highly transmissable (i.e., a relatively large $R_0$). \n",
    "\n",
    "Estimating $R_0$ is not straightforward and can be sensitive to data sampling.  Here are some of the $R_0$ estimates for various pathogens:\n",
    "\n",
    "\n",
    "* measles: $R_0\\simeq 15$\n",
    "* influenza 1918 pandemic: $R_0 \\simeq 2-3$\n",
    "* influenza H1N1 pandemic (2009 pandemic): $R_0 \\simeq 1.5 $\n",
    "* Ebola outbreak, West Africa (2014): $R_0 \\simeq 1.5- 2.5$\n",
    "* SARS-CoV-2 (original strain 2019-2020): $R_0 \\simeq 1.8- 3.6$\n",
    "* SARS-CoV-2 ($\\Delta$ variant): $R_0 \\simeq 6$\n",
    "* SARS-CoV-2 (Omicron variant): $R_0 \\simeq 9$"
   ]
  },
  {
   "cell_type": "markdown",
   "metadata": {},
   "source": [
    "# Limiting cases of the SIR model:\n",
    "\n",
    "Note that $dS(t)/dt$ and $dI(t)/dt$ are coupled in a nonlinear way due to the presence of $\\beta S(t) I(t)$. Systems of differential equations coupled nonlinearly rarely have analytical solutions. We can play the game of looking at how the populations evolve in limiting cases which make the solution tractable.\n",
    "\n",
    "### **Question 2** (5 points): Analytically solve for $I(t)$ at the beginning of an infectious spread by letting $S(t) = S_0$, i.e., $S(t)$ is constant."
   ]
  },
  {
   "cell_type": "markdown",
   "metadata": {},
   "source": [
    "**your answer:**"
   ]
  },
  {
   "cell_type": "markdown",
   "metadata": {},
   "source": [
    "# Euler method and the SIR model\n",
    "\n",
    "The solution from Questions 2 is accurate only in the limiting regime. Here, we'll solve the equations irrespective of any regime using numerical integration.\n",
    "___\n",
    "\n",
    "Copy and paste your code from tutorial 2."
   ]
  },
  {
   "cell_type": "code",
   "execution_count": 1,
   "metadata": {},
   "outputs": [],
   "source": [
    "def euler_sir(s0, i0, reprod_num, nu, T, dt):\n",
    "    # Your code here."
   ]
  },
  {
   "cell_type": "markdown",
   "metadata": {},
   "source": [
    "### **Question 3** (3 points): Run your function and store the results in a list or numpy array for the following parameters:\n",
    "- $I(0) = 10^{-6}$\n",
    "- $S(0) = 1 - I(0)$\n",
    "- $\\nu = \\frac{1}{7}$ (recovery after a week)\n",
    "- a range of $R_0 \\in [2, 3, 5, 10]$ (average number of infections per individual)\n",
    "- $T = 100$ days\n",
    "- $\\Delta t = 0.01$"
   ]
  },
  {
   "cell_type": "code",
   "execution_count": null,
   "metadata": {},
   "outputs": [],
   "source": [
    "# Your code here."
   ]
  },
  {
   "cell_type": "markdown",
   "metadata": {},
   "source": [
    "### **Question 4** (5 points): For each $R_0$, plot $S(t)$, $I(t)$, and $R(t)$ vs. time as solid lines. On the same plot, plot the analytical solution for the limiting case in Question 2 as dashed lines. Display a legend with each line's label. Label the axes appropriately. Title each plot with its respective $R_0$. Set the y-axis limits to be -0.05 and 1.05. E.g., use `ax.set_ylim(-0.05, 1.05)` or `plt.ylim(-0.05, 1.05)`.\n",
    "\n",
    "You can either use `plt.plot` and have each plot on a separate figure or make a grid of plots. If you make a grid, use `fig, axes = plt.subplots(ncols=4, nrows=1, figsize=(12,3))` and loop over axes <span style=\"background-color: #FFFF00\">(see tutorial 2 solution for an example)</span>. Depending on your method, use `plt.title('TITLE')` or `ax.set_title('TITLE')` to give the plot a title. (Change `'TITLE'` to the $R_0$ being plotted.) For example, your plots **don't have to** but they could look like\n",
    "\n",
    "![euler_plot](euler_plot.png)\n",
    "\n",
    "If you also want only one legend that is placed outside, use `plt.legend(loc='center right', bbox_to_anchor=(NUM, 0.5))` and change `NUM` until it looks nice. Try `NUM` in the range of $[1.3, 1.4, 1.5, 1.6]$. <span style=\"background-color: #FFFF00\">Again, you don't have to have your legend be outside.</span>\n",
    "\n",
    "<span style=\"background-color: #FFFF00\">THE EXAMPLE ABOVE DOESN'T HAVE THE ANALYTICAL SOLUTION TO QUESTION 2 PLOTTED, BUT YOURS SHOULD HAVE IT!</span>"
   ]
  },
  {
   "cell_type": "code",
   "execution_count": 11,
   "metadata": {},
   "outputs": [],
   "source": [
    "# Your code here."
   ]
  },
  {
   "cell_type": "markdown",
   "metadata": {},
   "source": [
    "# How does $R_0$ determine $S(\\infty)$, the fraction of individuals who remain susceptible at the end of an outbreak (i.e., were not infected during the outbreak)?\n",
    "___\n",
    "\n",
    "\n",
    "Let's first find the relation between $R_0$, $I(t)$ and $S(t)$. We compute $dI/dS$ to see how $R_0$ appears in our model naturally.\n",
    "\n",
    "$$\n",
    "\\begin{align*}\n",
    "\\frac{dI(t)}{dS(t)} &=  \\frac{dI(t)}{dt} \\left( \\frac{dS(t)}{dt} \\right)^{-1} \\\\\n",
    "&= \\frac{\\beta S(t) I(t) - \\nu I(t)}{-\\beta S(t) I(t)} \\\\\n",
    "&= -1 + \\frac{1}{R_0 S(t)}\n",
    "\\end{align*}\n",
    "$$\n",
    "\n",
    "This is a simple ordinary differential equation which we can solve using separation of variables.\n",
    "\n",
    "$$\n",
    "I(t) = -S(t) + \\frac{\\ln S(t)}{R_0} + C \\quad \\forall t\n",
    "$$\n",
    "\n",
    "where $C$ is some constant of integration found from the initial conditions.\n",
    "\n",
    "### **Question 5:** (5 points)  Analytically determine $C$ based on $R_0$ and the initial conditions $I(0)$, $S(0)$. Show your work."
   ]
  },
  {
   "cell_type": "markdown",
   "metadata": {},
   "source": [
    "**your answer:**"
   ]
  },
  {
   "cell_type": "markdown",
   "metadata": {},
   "source": [
    "### **Question 6:** (5 points) At large times (stationary state), the fraction of the infected population $I(t \\to \\infty)$ should go to zero. By using this assumption, show that $S(\\infty) = \\exp \\left[R_0 (S(\\infty) - C) \\right]$ with your $C$ from Question 5."
   ]
  },
  {
   "cell_type": "markdown",
   "metadata": {},
   "source": [
    "**your answer:**"
   ]
  },
  {
   "cell_type": "markdown",
   "metadata": {},
   "source": [
    "Essentially, this shows that we can determine the final state of an outbreak based on $R_0$ and the initial conditions.\n",
    "\n",
    "### **Question 7:** (10 points) Write a function that outputs the fraction of the population which remains susceptible using your answer to question 6. If your answer to question 6 has a logarithm instead of an exponential in it, your function here will **not** work.\n",
    "\n",
    "It should have as its parameters:\n",
    "- `s0`, the intial fraction of that population that is susceptible\n",
    "- `i0`, the initial fraction of the population that is infected\n",
    "- `R0`, the reproduction number\n",
    "\n",
    "It should return:\n",
    "- `s`, the solution to the transcendental equation for $S(\\infty)$\n",
    "\n",
    "<span style=\"background-color: #FFFF00\">To numerically solve for $S(\\infty)$ you sould use the technique introduced for solving a *transcendental equation* in the lecture for tutorial 1.</span>\n",
    "\n",
    "Hint: a reasonable initial value for this algorithm is $S(0)$."
   ]
  },
  {
   "cell_type": "code",
   "execution_count": 8,
   "metadata": {},
   "outputs": [],
   "source": [
    "def stationary_s(s0, i0, reprod_num, maxiters=100, tol=1e-16):\n",
    "    # Your code here."
   ]
  },
  {
   "cell_type": "markdown",
   "metadata": {},
   "source": [
    "### **Question 8:** (2 points) Use your function from Question 7 to find $S(\\infty)$ for different $R_0$ values, storing the output in a list or numpy array: \n",
    "- $I(0) = 10^{-6}$\n",
    "- $S(0) = 0.2$ \n",
    "- A range of $R_0$ = `np.logspace(-1, 1, 200)`"
   ]
  },
  {
   "cell_type": "code",
   "execution_count": 9,
   "metadata": {},
   "outputs": [],
   "source": [
    " # Your code here."
   ]
  },
  {
   "cell_type": "markdown",
   "metadata": {},
   "source": [
    "### **Question 9:** (5 points) Plot $S(\\infty)$ vs. $R_0$ on a logarithmic x-axis with a range of  $R_0$ = `np.logspace(-1, 1, 200)`.\n",
    "\n",
    "Hint: [how to set the scale of the x-axis](https://matplotlib.org/stable/api/_as_gen/matplotlib.axes.Axes.set_xscale.html#matplotlib.axes.Axes.set_xscale)."
   ]
  },
  {
   "cell_type": "code",
   "execution_count": 10,
   "metadata": {},
   "outputs": [],
   "source": [
    " # Your code here."
   ]
  },
  {
   "cell_type": "markdown",
   "metadata": {},
   "source": [
    "Herd immunity is the idea that a disease cannot grow into an epidemic when many people in a population are immune and not susceptible. The condition for herd immunity is obtained when \n",
    "\n",
    "$$\n",
    "\\frac{dI(0)}{dt} < 0\n",
    "$$\n",
    "\n",
    "Since\n",
    "\n",
    "$$\n",
    "\\frac{dI(0)}{dt} = (\\beta S(0) - \\nu) I(0)\n",
    "$$\n",
    "\n",
    "we see that\n",
    "\n",
    "$$\n",
    "S(0) < 1/R_0\n",
    "$$\n",
    "\n",
    "is the condition for herd immunity.\n",
    "\n",
    "### **Question 10:** (2 points) Discuss how does this herd immunity threshold impacts the value of $S(\\infty)$ (the remaining number of susceptibles)?\n",
    "\n",
    "Hint: Take your $S(\\infty)$ vs. $R_0$ plot above and mark where $R_0 = 1 / S(0)$. [You could plot a vertical line](https://matplotlib.org/stable/api/_as_gen/matplotlib.pyplot.axvline.html)."
   ]
  },
  {
   "cell_type": "markdown",
   "metadata": {},
   "source": [
    "**your answer:**"
   ]
  },
  {
   "cell_type": "markdown",
   "metadata": {},
   "source": [
    "### **Bonus Question:** (20 points)     \n",
    "* Compare and plot the features of outbreaks ($S(t),\\, I(t), \\, S(\\infty)$) associated with the different pathogens listed at the beginning of this notebook. \n",
    "* How do the conditions for herd immunity compare among these pathogens?\n",
    "* Why is estimating $R_0$ nontrivial?\n",
    "* Why is the SIR model too simplistic in characterizing a pandemic? What factors are not taken into account? How can one improve upon this model?\n"
   ]
  },
  {
   "cell_type": "code",
   "execution_count": null,
   "metadata": {},
   "outputs": [],
   "source": []
  }
 ],
 "metadata": {
  "kernelspec": {
   "display_name": "biophys",
   "language": "python",
   "name": "biophys"
  },
  "language_info": {
   "codemirror_mode": {
    "name": "ipython",
    "version": 3
   },
   "file_extension": ".py",
   "mimetype": "text/x-python",
   "name": "python",
   "nbconvert_exporter": "python",
   "pygments_lexer": "ipython3",
   "version": "3.8.10"
  }
 },
 "nbformat": 4,
 "nbformat_minor": 4
}
