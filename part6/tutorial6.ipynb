{
 "cells": [
  {
   "cell_type": "markdown",
   "id": "73037a2b-c48c-4e9a-a69a-3cd150c7a7b6",
   "metadata": {},
   "source": [
    "# The Moran model and population genetics\n",
    "\n",
    "The following tutorial utilizes materials from the following works:\n",
    "- [*Probability models for DNA sequence evolution*, Durrett](https://services.math.duke.edu/~rtd/Gbook/PM4DNA_0317.pdf)\n",
    "- [*Design of an optimal combination therapy with broadly neutralizing antibodies to suppress HIV-1*, LaMont & Nourmohammad et al.](https://elifesciences.org/articles/76004)\n",
    "- [*From biophysics to evolutionary genetics: statistical aspects of gene\n",
    "regulation*, section \"Evolution of regulatory DNA,\" Lässig](https://bmcbioinformatics.biomedcentral.com/counter/pdf/10.1186/1471-2105-8-S6-S7.pdf#page=10)"
   ]
  },
  {
   "cell_type": "markdown",
   "id": "6b6e26ce-da9b-4d21-b33d-dcba5872bc61",
   "metadata": {},
   "source": [
    "# Import modules\n",
    "___"
   ]
  },
  {
   "cell_type": "code",
   "execution_count": null,
   "id": "27073b7a-7926-498a-9cfa-7805c278fe32",
   "metadata": {},
   "outputs": [],
   "source": [
    "import matplotlib.pyplot as plt\n",
    "import numba as nb\n",
    "import numpy as np\n",
    "\n",
    "plt.style.use('custom.mplstyle')\n",
    "%config InlineBackend.figure_format = 'retina'"
   ]
  },
  {
   "cell_type": "markdown",
   "id": "9ba2de0e-9d70-473f-bd85-fe4c42d253b3",
   "metadata": {},
   "source": [
    "# Introduction\n",
    "___\n",
    "\n",
    "The Moran model is used to evolve a fixed population of $N$ individuals forward in time and study population genetics phenomena. In contrast to other population genetics models, changes in the population occur asynchronously and are modeled in an individual-based fashion in the Moran framework. I.e., only one individual changes at a point in time as opposed to the *entire* population undergoing mutation, reproduction, etc. events in a single generation.\n",
    "\n",
    "The Moran model can consider many genotypes in a population, but, for simplicity, we consider only two here: $a$ and $b$. $a$ and $b$ could represent two subpopulations such as [healthy and cancerous cells](https://link.springer.com/article/10.1007/s11538-005-9046-8) or [variants of virus, perhaps those susceptible to a treatment and those that aren't](https://elifesciences.org/articles/76004). On the other hand, we could also think of $a$ and $b$ merely as two populations with no significant implications. It all depends on our modeling goals and the parameters we employ when running the simulation."
   ]
  },
  {
   "cell_type": "markdown",
   "id": "0c87bb3a-9ad1-4439-b564-43cce3519e57",
   "metadata": {},
   "source": [
    "# Moran neutral model\n",
    "___\n",
    "\n",
    "The simplest version of the Moran model seeks to describe neutral evolution, which means that neither $a$ nor $b$ individuals have any fitness advantage over the other. In this case, the model is characterized by the following. Let $x$ be the amount of individuals in the population that have genotype $a$. Due to the constraint on the population size, $n_a \\in \\{0, 1, 2, ..., N\\}$. The reaction equations for $n_a$ are\n",
    "\n",
    "\\begin{align}\n",
    "\\begin{array}{ll}\n",
    "\\text{reaction, }r_i& \\text{rate, } k_i \\\\\n",
    "n_a \\rightarrow n_a+1,\\;\\;\\;\\; & b_a = (N-n_a) \\frac{n_a}{N} \\\\[0.3em]\n",
    "n_a \\rightarrow n_a-1, \\;\\;\\;\\; & d_a = n_a \\frac{N-n_a}{N} \\\\[0.3em]\n",
    "\\end{array}\n",
    "\\end{align}\n",
    "\n",
    "where $b_a$ is the birth rate and $d_a$ is the death rate. For $n_a$ to increase by 1, an individual with genotype $b$ must die, and an individual with genotype $a$ must give birth. $b$ individuals die at rate $N - n_a$, and the probability that the new parent is an $a$ is $n_a / N$. Parallel reasoning follows for the definition of $d_a$. Observe that $b_a = d_a$ in the case of neutral evolution. Also note that each event that occurs over the run of the simulation is a combination of a death event and a birth event: this maintains the constant size of the population. In this particular configuration of the Moran model, any individual can die, and any individual can be the parent of the offspring that replaces the dead individual, including the one that has died. (In contrast, other configurations might put spatial constraints on which individuals can be the parent of the offspring.)\n",
    "\n",
    "One of the fundamental questions that can be investigated with the Moran model is what is the probability that one of these subpopulations takes over the entire population and how long until that happens? A takeover event is referred to as fixation in population genetics literature; in mathematics, the state at which a takeover happens is called an absorbing state (once the state is entered, it cannot be left). Concretely, if the population originally was diverse and then $a$ became the only type of individual that exists in the population, $a$ has fixed. We will use this fixation condition to determine how long the simulation will be run since no dynamics occur after fixation in the neutral Moran model."
   ]
  },
  {
   "cell_type": "markdown",
   "id": "eba358c2-fc72-4233-a513-56bd227e932b",
   "metadata": {},
   "source": [
    "### Write a function that implements the Gillespie algorithm for the Moran neutral model.\n",
    "\n",
    "It should have as its parameters:\n",
    "- `pop_size`, the size of the population\n",
    "- `num_a`, the number of $a$ individuals in the population \n",
    "- `T`, the time at which the simulations should end\n",
    "\n",
    "It should return:\n",
    "- `times`, a one-dimensional numpy array containing the times at which events have occurred\n",
    "- `pop_history`, a one-dimensional numpy array containing the population composition over the course of the simulation\n",
    "\n",
    "*Note: do not erase `@nb.njit`. It is what tells `numba` to compile our `neutral_moran` function, making it fast!*"
   ]
  },
  {
   "cell_type": "code",
   "execution_count": null,
   "id": "48202c3f-f193-4213-9330-ec7b65dc75fe",
   "metadata": {},
   "outputs": [],
   "source": [
    "@nb.njit\n",
    "def neutral_moran(pop_size, num_a, T=np.inf):\n",
    "    # Require that pop_size be an integer.\n",
    "    # An exception is much \"louder\" than a print and return statement. \n",
    "    # See what happens when pop_size is not an integer.\n",
    "    if pop_size != int(pop_size):\n",
    "        raise TypeError('pop_size must be an integer.')\n",
    "        \n",
    "    # Require that num_a be an integer.\n",
    "    if num_a != int(num_a):\n",
    "        raise TypeError('num_a must be an integer.')\n",
    "    \n",
    "    # Require that num_a is bounded between 0 and pop_size.\n",
    "    if num_a > pop_size or num_a < 0:\n",
    "        raise ValueError('num_a must be in [0, pop_size]')\n",
    "       \n",
    "    # Require that T be a positive real number.\n",
    "    if T <= 0.0:\n",
    "        raise ValueError('T must be a positive real number.')\n",
    "    \n",
    "    # We don't use numpy arrays to store the times and pop_history\n",
    "    # because we don't know how many events will occur.\n",
    "    times = [0.0]\n",
    "    pop_history = [num_a]\n",
    "    \n",
    "    # Let the simulation run until T is reached. If T is np.inf,\n",
    "    # the simulation will be guaranteed to run until a fixation event\n",
    "    # occurs.\n",
    "    while times[-1] <= T:\n",
    "        # Compute the number of b individuals.\n",
    "        num_b = pop_size - num_a\n",
    "        \n",
    "        \"\"\"\n",
    "        Compute p, the fraction of individuals in the population with genotype a.\n",
    "        \"\"\"\n",
    "        p = # Your code here.\n",
    "        \n",
    "        \"\"\"\n",
    "        Compute the birth rate using num_b and p.\n",
    "        \"\"\"\n",
    "        birth_rate = # Your code here.\n",
    "        \n",
    "        \"\"\"\n",
    "        Compute the death rate using num_a and p.\n",
    "        \"\"\"\n",
    "        death_rate = # Your code here.\n",
    "        \n",
    "        \"\"\"\n",
    "        Save the sum of these two rates to a variable called sum_rates.\n",
    "        \"\"\"\n",
    "        sum_rates = # Your code here.\n",
    "\n",
    "        # When the population fixes, evolution stops since\n",
    "        # the sum of the rates is 0.0. I.e., the time until\n",
    "        # the next event is infinity.\n",
    "        if sum_rates == 0.0:\n",
    "            break\n",
    "        \n",
    "        \"\"\"\n",
    "        Use sum_rates and np.random.exponential to generate the time to the next event.\n",
    "        Recall that np.random.exponential takes 1 / rate as its parameter.\n",
    "        \"\"\"\n",
    "        interarrival_time = # Your code here.\n",
    "        \n",
    "        \"\"\"\n",
    "        Append the overall elapsed time to the list of times.\n",
    "        \"\"\"\n",
    "        # Your code here.\n",
    "        \n",
    "        \"\"\"\n",
    "        Draw a random number using np.random.random().\n",
    "        Use an if-else statement to determine whether the number of individuals\n",
    "        with genotype a increases or decreases by 1 by using the event probabilities.\n",
    "        \"\"\"   \n",
    "        # Your code here.\n",
    "        \n",
    "        pop_history.append(num_a)\n",
    "        \n",
    "    return np.array(times), np.array(pop_history)"
   ]
  },
  {
   "cell_type": "markdown",
   "id": "bbf0186e-401f-4353-8dc9-23708f6ccb9d",
   "metadata": {},
   "source": [
    "### Set $N = 100$, $n_a = 50$. Run the simulation 10 times and plot the population histories vs. their respective event times."
   ]
  },
  {
   "cell_type": "code",
   "execution_count": null,
   "id": "e0f24895-00b7-4e78-b403-72746899df56",
   "metadata": {},
   "outputs": [],
   "source": [
    "fig, ax = plt.subplots()\n",
    "\n",
    "N = 100\n",
    "num_a = 50\n",
    "\n",
    "\"\"\"\n",
    "Use a for loop and run your simulation and plot accordingly.\n",
    "\"\"\"\n",
    "# Your code here.\n",
    "\n",
    "ax.set_xlabel('$t$')\n",
    "ax.set_ylabel('$n_a$')\n",
    "    \n",
    "plt.tight_layout()\n",
    "plt.show()"
   ]
  },
  {
   "cell_type": "markdown",
   "id": "c2be195f-0a2d-49ff-ba4e-a3055fa22bc8",
   "metadata": {},
   "source": [
    "### What are the characteristics of the trajectories that you have observed?"
   ]
  },
  {
   "cell_type": "markdown",
   "id": "47bd6038-15f3-442e-a255-4cbe8d548284",
   "metadata": {},
   "source": [
    "**your answer:**"
   ]
  },
  {
   "cell_type": "markdown",
   "id": "049789a1-d2d7-4787-96c8-d9326123a8a4",
   "metadata": {},
   "source": [
    "## Fixation probability for the neutral Moran model\n",
    "\n",
    "Let $n_a(0)$ be the initial amount of individuals of type $a$ in the population. There are a few different ways to solve for the fixation probability. One way is to find the function $f(n_a)$ which does not change over time on average. Thus the goal is to find $f(n_a)$ such that\n",
    "\n",
    "$$\n",
    "f(n_a) = f(n_a + 1)P(n_a + 1 | n_a) + f(n_a - 1)P(n_a - 1 | n_a)\n",
    "$$\n",
    "\n",
    "because $n_a$ can only increase by $1$ or decrease by $1$ in a generation.\n",
    "\n",
    "Since \n",
    "\n",
    "$$\n",
    "\\begin{align*}\n",
    "P(n_a + 1 | n_a) &= \\frac{b_a}{(b_a + d_a)} \\\\\n",
    "P(n_a - 1| n_a) &= \\frac{d_a}{(b_a + d_a)} \\\\\n",
    "\\end{align*}\n",
    "$$\n",
    "\n",
    "and $b_a = d_a$, these two probabilities are equal. Then\n",
    "\n",
    "$$\n",
    "f(n_a) = \\frac{f(n_a + 1)}{2} + \\frac{f(n_a - 1)}{2}\n",
    "$$\n",
    "\n",
    "The desired $f(n_a)$ is the identity function $f(n_a) = n_a$ since\n",
    "\n",
    "$$\n",
    "n_a = \\frac{n_a + 1}{2} + \\frac{n_a - 1}{2}\n",
    "$$\n",
    "\n",
    "Therefore\n",
    "\n",
    "$$\n",
    "\\frac{d}{dt} \\langle n_a(t) \\rangle = 0 \\quad \\Rightarrow \\quad n_a(0) = \\langle n_a(t) \\rangle \\quad \\forall t\n",
    "$$\n",
    "\n",
    "Because this holds for any time $t$, the expectation of $n_a$ when the population has fixed, which is guaranteed for neutral evolution without mutations when $t \\to \\infty$, is\n",
    "\n",
    "$$\n",
    "n_a(0) = \\lim_{t \\to \\infty} \\langle n_a(t) \\rangle  = NP_{\\mathrm{fix}}(n_a=N) + 0 P_{\\mathrm{fix}}(n_a=0)\n",
    "$$\n",
    "\n",
    "Rearranging the above equation gives\n",
    "\n",
    "$$\n",
    "P_{\\mathrm{fix}}(N) = \\frac{n_a(0)}{N}\n",
    "$$"
   ]
  },
  {
   "cell_type": "markdown",
   "id": "8a9f14d4-e883-492e-847a-08dbc0c3a850",
   "metadata": {},
   "source": [
    "## Fixation time for the neutral Moran model\n",
    "\n",
    "Characterizing the average time until fixation occurs is much more involved to prove unfortunately, so we state the results. (See [Theorem 1.32](https://services.math.duke.edu/~rtd/Gbook/PM4DNA_0317.pdf#page=57) in Durrett.) Letting $p = n_a(0) / N$, the expected time until fixation is \n",
    "\n",
    "$$\n",
    "\\langle t_{\\mathrm{fix}} \\rangle \\approx \\frac{-N(1 - p)}{p} \\log(1 - p)\n",
    "$$\n",
    "\n",
    "for large enough $N$."
   ]
  },
  {
   "cell_type": "markdown",
   "id": "2b7b26fe-fbf0-4660-bb00-8494ebf6cbb6",
   "metadata": {},
   "source": [
    "### When $p \\ll 1$, what is the expected time to fixation?\n",
    "\n",
    "Hint: recognize which terms diverge and apply L'Hopital's rule."
   ]
  },
  {
   "cell_type": "markdown",
   "id": "b269ce51-8754-4441-9f72-7df2253507a3",
   "metadata": {},
   "source": [
    "**your answer:**"
   ]
  },
  {
   "cell_type": "markdown",
   "id": "fed6e3a6-50d0-4c7d-822d-3ffd0150c114",
   "metadata": {},
   "source": [
    "### Set $N = 100$. Run the simulation $5000$ times for $n_a \\in \\{1, 5, 10, 15, 20, ..., 85, 95, 99\\}$. Obtain the probabilities of fixation and the times until fixation.\n",
    "\n",
    "Note: because we are expecting $a$ to fixate, only simulations that end with $n_a = N$ should be used to compute the probabilities."
   ]
  },
  {
   "cell_type": "code",
   "execution_count": null,
   "id": "6522bfce-0150-43aa-8b67-843517fdfd88",
   "metadata": {},
   "outputs": [],
   "source": [
    "N = 100\n",
    "num_a_arr = np.concatenate([[1], np.arange(5, 100, 5), [99]])\n",
    "\n",
    "num_runs = 5000\n",
    "\n",
    "fixation_probs = np.zeros(len(num_a_arr))\n",
    "\n",
    "# We initialize the array to np.nan to ignore simulations\n",
    "# for which fixation was not realized more easily.\n",
    "fixation_times = np.zeros((len(num_a_arr), num_runs)) + np.nan\n",
    "\n",
    "for idx, num_a in enumerate(num_a_arr):\n",
    "    for runidx in range(num_runs):\n",
    "        times, pop_history = neutral_moran(N, num_a)\n",
    "        if pop_history[-1] == N:\n",
    "            fixation_probs[idx] += 1\n",
    "            fixation_times[idx, runidx] = times[-1]\n",
    "            \n",
    "fixation_probs /= num_runs"
   ]
  },
  {
   "cell_type": "markdown",
   "id": "88d509a7-1222-41c5-9d9a-e0ccaaa6a804",
   "metadata": {},
   "source": [
    "### Plot the fixation probabilities from simulation as a scatter and the theory as a line, and do the same for the average time until fixation."
   ]
  },
  {
   "cell_type": "code",
   "execution_count": null,
   "id": "bf327f4c-f8d4-40c0-9b0a-8dc4c0500b5e",
   "metadata": {},
   "outputs": [],
   "source": [
    "fig, axes = plt.subplots(ncols=2, figsize=(6, 3))\n",
    "\n",
    "def fix_theory(N, num_a_0):\n",
    "    p = num_a_0 / N\n",
    "    return -N * (1 - p) / p * np.log(1 - p)\n",
    "\n",
    "axes[0].scatter(num_a_arr, fixation_probs, label='simulation')\n",
    "axes[0].plot(num_a_arr, num_a_arr / N, label='theory')\n",
    "\n",
    "axes[0].set_xlabel('$n_a(0)$')\n",
    "axes[0].set_ylabel('$P_{\\mathrm{fix}}(N | n_a )$')\n",
    "axes[0].legend()\n",
    "\n",
    "axes[1].scatter(num_a_arr, np.nanmean(fixation_times, axis=1), label='simulation')\n",
    "axes[1].plot(num_a_arr, fix_theory(N, num_a_arr), label='theory')\n",
    "\n",
    "axes[1].set_xlabel('$n_a(0)$')\n",
    "axes[1].set_ylabel('$\\\\langle t_{\\mathrm{fix}} \\\\rangle$')\n",
    "\n",
    "axes[1].legend()\n",
    "\n",
    "plt.tight_layout()\n",
    "plt.show()"
   ]
  },
  {
   "cell_type": "markdown",
   "id": "f32d314a-7f31-4e19-ac9a-97c9c41d7b33",
   "metadata": {},
   "source": [
    "### How do the simulations and theory compare?"
   ]
  },
  {
   "cell_type": "markdown",
   "id": "a1391953-fdd2-4239-827f-14d1da16628a",
   "metadata": {},
   "source": [
    "**your answer:**"
   ]
  },
  {
   "cell_type": "markdown",
   "id": "dd3c3da1-36a8-43b2-889d-d9c506234e79",
   "metadata": {},
   "source": [
    "# Moran model with constant directional selection and mutations\n",
    "___"
   ]
  },
  {
   "cell_type": "markdown",
   "id": "914f7213-c44f-4090-9137-522beac76dc5",
   "metadata": {},
   "source": [
    "We now add selection and mutation into the Moran model. Evolutionary fitness can be interpreted as a genotype's (here, $a$ or $b$) ability to produce offspring in the next generation compared to other individuals. I.e., fitness is rate at which different types of individuals reproduce. Crucially, a genotype's fitness depends on the environment in which it exists. Selection is the process by which the population is shaped over time by these fitness differences and is the most responsible for a population's adaptation to the evironment. Mutations are errors made in an genotype during replication or reproduction. While this may not change the composition of the population as strongly as selection, mutations can introduce novel genotypes into a population. \n",
    "\n",
    "For the moment, we consider constant selection. Let $1$, $1-s$ with $s \\in (0, 1]$ be the relative fitnesses of $a$ and $b$, respectively. Note that $s \\ll 1$ typically. In this way, fitness is the probability that an offspring from that individual is successful. Additionally, let $\\mu$ be the rate at which one individual changes to another. Here, the mutation rate is the same irrespective of an individual's type; however, more complicated models could have individual-specific mutation rates $\\mu_{a \\to b}$, $\\mu_{b \\to a}$, etc.\n",
    "\n",
    "With these two evolutionary processes, the reaction equations describing this Moran model are\n",
    "\n",
    "\\begin{align}\n",
    "\\begin{array}{ll}\n",
    "\\text{reaction, }r_i& \\text{rate, } k_i \\\\\n",
    "n_a \\rightarrow n_a+1,\\;\\;\\;\\; & b_a = (N-n_a) \\frac{n_a}{N} \\\\[0.3em]\n",
    "n_a \\rightarrow n_a-1, \\;\\;\\;\\; & d_a = n_a \\frac{N-n_a}{N} (1 - s) \\\\[0.3em]\n",
    "n_a \\rightarrow n_a+1, \\;\\;\\;\\; & \\pi_{b \\to a} = (N - n_a) \\mu \\\\[0.3em]\n",
    "n_a \\rightarrow n_a-1, \\;\\;\\;\\; & \\pi_{a \\to b} = n_a \\mu \\\\[0.3em]\n",
    "\\end{array}\n",
    "\\end{align}\n",
    "\n",
    "The birth and death reaction rates are obtained by noting:\n",
    "\n",
    "- each individual has equal replacement rates\n",
    "    - e.g., the rate at which an individual of type $a$ is chosen to be replaced is $n_a$\n",
    "- an individual with genotype $a$ replaces the dead individual with probability given by $n_a / N$\n",
    "- the new individual is accepted with probability equal to its fitness\n",
    "\n",
    "Observe that fixation or loss is not guaranteed when $\\pi_{b \\to a} \\neq 0$ and $\\pi_{a \\to b} \\neq 0$. As $t \\to \\infty$, variants can arise; however, they may not persist forever, and the population can fix once again.\n",
    "\n",
    "This Moran model incorporating mutations and reproduction with selection is coded below as a parallel (decoupled) mutation-reproduction model. I.e., mutations and reproduction occur independently. The Moran model can be implemented in a coupled fashion so that mutations can happen with some probability only after a birth event has taken place. For more information about coupled and decoupled models, see [this paper](https://link.springer.com/content/pdf/10.1007/s00285-006-0039-5.pdf)."
   ]
  },
  {
   "cell_type": "code",
   "execution_count": null,
   "id": "f9962a5c-1d05-4d41-8c1c-4fb5d60894c3",
   "metadata": {},
   "outputs": [],
   "source": [
    "@nb.njit\n",
    "def sel_mut_moran(pop_size, num_a, sel_coef, mu, T=np.inf):\n",
    "    # We include exceptions to ensure the parameters are in the expected\n",
    "    # range of values and the expected types otherwise the function will\n",
    "    # not run.\n",
    "    \n",
    "    # Require that pop_size be an integer.\n",
    "    if pop_size != int(pop_size):\n",
    "        raise TypeError('pop_size must be an integer.')\n",
    "        \n",
    "    # Require that num_a be an integer.\n",
    "    if num_a != int(num_a):\n",
    "        raise TypeError('num_a must be an integer.')\n",
    "    \n",
    "    # Require that num_a is bounded between 0 and pop_size.\n",
    "    if num_a > pop_size or num_a < 0:\n",
    "        raise ValueError('num_a must be in [0, pop_size]')\n",
    "        \n",
    "    # Require that T be a positive real number.\n",
    "    if T <= 0.0:\n",
    "        raise ValueError('T must be a positive real number.')\n",
    "        \n",
    "    # Require that mut_ab be a positive real number.\n",
    "    if mu < 0.0:\n",
    "        raise ValueError('mu must be a nonnegative real number.')\n",
    "        \n",
    "    # Require that T be finite if both mutation rates are nonzero.\n",
    "    # Though fixation can be reached when both mutation rates are nonzero,\n",
    "    # there are choices of mutation rates for which fixation will never\n",
    "    # occur. Additionally, because substitution events can happen,\n",
    "    # evolution doesn't stop when fixations or losses occur with nonzero\n",
    "    # mutation rates.\n",
    "    if T == np.inf and mu > 0:\n",
    "        raise ValueError('T cannot be np.inf when mu is nonzero. T must be '\n",
    "                         'finite otherwise the simulation will run forever.')\n",
    "    \n",
    "    # We don't use numpy arrays to store the times and pop_history\n",
    "    # because we don't know how many events will occur.\n",
    "    times = [0.0]\n",
    "    pop_history = [num_a]\n",
    "    \n",
    "    while times[-1] <= T:\n",
    "        # Compute the number of b individuals.\n",
    "        num_b = pop_size - num_a\n",
    "        \n",
    "        \"\"\"\n",
    "        Compute p, the fraction of individuals in the population with genotype a.\n",
    "        \"\"\"\n",
    "        p = # Your code here.\n",
    "        \n",
    "        \"\"\"\n",
    "        Compute the birth rate using p.\n",
    "        \"\"\"\n",
    "        birth_rate = # Your code here.\n",
    "        \n",
    "        \"\"\"\n",
    "        Compute the death rate using p.\n",
    "        \"\"\"\n",
    "        death_rate = # Your code here.\n",
    "        \n",
    "        \"\"\"\n",
    "        Compute the rate for a mutating to b.\n",
    "        \"\"\"\n",
    "        pi_a_to_b = # Your code here.\n",
    "        \n",
    "        \"\"\"\n",
    "        Compute the rate for b mutating to a.\n",
    "        \"\"\"\n",
    "        pi_b_to_a = # Your code here.\n",
    "        \n",
    "        \"\"\"\n",
    "        Save the sum of these four rates to a variable called sum_rates.\n",
    "        \"\"\"\n",
    "        sum_rates = # Your code here.\n",
    "        \n",
    "        # When the population fixes and mutations are not allowed,\n",
    "        # evolution stops since the sum of the rates is 0.0.\n",
    "        # I.e., the time until the next event is infinity.\n",
    "        if sum_rates == 0.0:\n",
    "            break\n",
    "\n",
    "        \"\"\"\n",
    "        Use sum_rates and np.random.exponential to generate the time to the next event.\n",
    "        Recall that np.random.exponential takes 1 / rate as its parameter.\n",
    "        \"\"\"\n",
    "        interarrival_time = # Your code here.\n",
    "        \n",
    "        \"\"\"\n",
    "        Append the overall elapsed time to the list of times.\n",
    "        \"\"\"\n",
    "        # Your code here.\n",
    "        \n",
    "        \"\"\"\n",
    "        Draw a random number using np.random.random().\n",
    "        Use an if-else statement to determine whether the number of individuals\n",
    "        with genotype a increases or decreases by 1 by using the event probabilities.\n",
    "        \"\"\"\n",
    "        # Your code here.\n",
    "        \n",
    "        pop_history.append(num_a)\n",
    "        \n",
    "    return np.array(times), np.array(pop_history)"
   ]
  },
  {
   "cell_type": "markdown",
   "id": "38aa0637-4981-4d33-b457-9196fb6de6d4",
   "metadata": {},
   "source": [
    "## Fixation probability with selection"
   ]
  },
  {
   "cell_type": "markdown",
   "id": "4a67bd3d-86d0-4820-a4f6-3a70e08fab7b",
   "metadata": {},
   "source": [
    "Assume $s \\in (0, 1]$. The probability of a birth event happening before a death event is\n",
    "\n",
    "$$\n",
    "P(n_a + 1 | n_a) = \\frac{b_a}{b_a + d_a} = \\frac{(N-n_a)n_a/N}{(N-n_a)n_a/N + (1-s)(N-n_a)n_a/N} = \\frac{1}{2 - s}\n",
    "$$\n",
    "\n",
    "Again, we desire an $f(n_a)$ which does not change on average to assist us in solving for the fixation probability.\n",
    "\n",
    "$$\n",
    "f(n_a) = f(n_a + 1) P(n_a + 1 | n_a)  + f(n_a - 1) P(n_a - 1| n_a) \n",
    "$$\n",
    "\n",
    "It turns out that the desired functional form is $f(n_a) = (1 - s)^{n_a}$:\n",
    "\n",
    "$$\n",
    "\\begin{align*}\n",
    "(1 - s)^{n_a} &= (1-s)^{n_a + 1} \\frac{b_a}{b_a + d_a} + (1-s)^{n_a - 1} \\frac{d_a}{b_a + d_a} \\\\\n",
    "&= (1-s)^{n_a + 1} \\frac{1}{2 - s} + (1-s)^{n_a - 1} \\frac{1-s}{2 - s} \\\\\n",
    "&= (1-s)^{n_a} \\left(\\frac{1 - s}{2-s} + \\frac{1}{2 - s} \\right)\n",
    "\\end{align*}\n",
    "$$\n",
    "\n",
    "Therefore\n",
    "\n",
    "$$\n",
    "\\frac{d}{dt} \\langle (1-s)^{n_a(t)} \\rangle = 0 \\quad \\Rightarrow \\quad (1-s)^{n_a(0)} = \\langle (1-s)^{n_a(t)} \\rangle \\quad \\forall t\n",
    "$$\n",
    "\n",
    "Taking $t \\to \\infty$ to guarantee fixation (assuming no mutations occur)\n",
    "\n",
    "$$\n",
    "(1 - s)^{n_a(0)} = \\lim_{t \\to \\infty} \\langle (1-s)^{n_a(t)} \\rangle = (1 - s)^N P_{\\mathrm{fix}}(N) + (1-s)^0 P_{\\mathrm{fix}}(0)\n",
    "$$\n",
    "\n",
    "In the limit of $t \\to \\infty$, because there are only two absorbing states, $n_a = N$ or $n_a = 0$, $P_{\\mathrm{fix}}(0) = 1 - P_{\\mathrm{fix}}(N)$.\n",
    "\n",
    "$$\n",
    "(1 - s)^{n_a(0)} = (1-s)^N P_{\\mathrm{fix}}(N) + (1 - P_{\\mathrm{fix}}(N))\n",
    "$$\n",
    "\n",
    "Solving for $P(N)$ we have\n",
    "\n",
    "$$\n",
    "P_{\\mathrm{fix}}(N| n_a(0)) = \\frac{1 - (1-s)^{n_a(0)}} {1 - (1-s)^N}\n",
    "$$"
   ]
  },
  {
   "cell_type": "markdown",
   "id": "ec9256ef-399c-4737-90cb-2dcb88cbb910",
   "metadata": {},
   "source": [
    "### What is probability of fixation $P_{\\mathrm{fix}}(N)$ in the limit of weak selection ($s \\to 0$)?"
   ]
  },
  {
   "cell_type": "markdown",
   "id": "dc3d02ce-f41d-4c53-8a6e-05c9fb3a04de",
   "metadata": {},
   "source": [
    "**your answer:**"
   ]
  },
  {
   "cell_type": "markdown",
   "id": "ecf1441f-20f9-46f3-ab79-fd696f0bc07a",
   "metadata": {},
   "source": [
    "###  What is the probability of fixation $P_{\\mathrm{fix}}(N)$ in the limit of strong selection ($Ns$ is large)?"
   ]
  },
  {
   "cell_type": "markdown",
   "id": "f2ec7fb7-b4e4-449a-9ba7-381be6b9a73e",
   "metadata": {},
   "source": [
    "**your answer:**"
   ]
  },
  {
   "cell_type": "markdown",
   "id": "fa30899e-8093-4e6c-b601-9e443802b22b",
   "metadata": {},
   "source": [
    "### Set $N = 100$. Run the simulation $5000$ times with $\\mu = 0$ and $s = 0.01$ for $n_a \\in \\{1, 5, 10, 15, 20, ..., 85, 95, 99\\}$. Obtain the fixation probabilities and fixation times.\n",
    "\n",
    "Note: because we are expecting $a$ to fixate, only simulations in which $n_a = N$ should be used to compute the probabilities."
   ]
  },
  {
   "cell_type": "code",
   "execution_count": null,
   "id": "21cb953f-0a6a-4708-9f7c-0e401d362a07",
   "metadata": {},
   "outputs": [],
   "source": [
    "N = 100\n",
    "num_a_arr = np.concatenate([[1], np.arange(10, 100, 10), [99]])\n",
    "s = 0.01\n",
    "num_runs = 5000\n",
    "\n",
    "fixation_probs = np.zeros(len(num_a_arr))\n",
    "\n",
    "# We initialize the array to np.nan to ignore simulations\n",
    "# for which fixation was not realized more easily.\n",
    "fixation_times = np.zeros((len(num_a_arr), num_runs)) + np.nan\n",
    "\n",
    "for idx, num_a in enumerate(num_a_arr):\n",
    "    for jdx in range(num_runs):\n",
    "        times, pop_history = sel_mut_moran(N, num_a, s, 0)\n",
    "        if pop_history[-1] == N:\n",
    "            fixation_probs[idx] += 1\n",
    "            fixation_times[idx, jdx] = times[-1]\n",
    "            \n",
    "fixation_probs /= num_runs"
   ]
  },
  {
   "cell_type": "markdown",
   "id": "60e4a1e0-1a2e-4bee-83b3-a6c273bcd5fc",
   "metadata": {},
   "source": [
    "### Plot the average fixation probabilities from simulation as a scatter and the theory as a line, and plot the average fixation times from simulation as a scatter."
   ]
  },
  {
   "cell_type": "code",
   "execution_count": null,
   "id": "c3b01556-13d1-4c87-b6a6-e3cde3021039",
   "metadata": {},
   "outputs": [],
   "source": [
    "fig, axes = plt.subplots(ncols=2, figsize=(6, 3))\n",
    "\n",
    "axes[0].plot(num_a_arr,\n",
    "             (1 - (1 - s)**num_a_arr) / (1 - (1 - s)**N),\n",
    "             label='theory')\n",
    "axes[0].scatter(num_a_arr, fixation_probs, label='simulation')\n",
    "\n",
    "axes[0].set_xlabel('$n_a(0)$')\n",
    "axes[0].set_ylabel('$P_{\\mathrm{fix}}(N | n_a )$')\n",
    "axes[0].legend()\n",
    "\n",
    "axes[1].scatter(num_a_arr,\n",
    "                np.nanmean(fixation_times, axis=1),\n",
    "                label='simulation')\n",
    "\n",
    "axes[1].set_xlabel('$n_a(0)$')\n",
    "axes[1].set_ylabel('$\\\\langle t_{\\mathrm{fix}} \\\\rangle$')\n",
    "axes[1].legend()\n",
    "\n",
    "plt.tight_layout()\n",
    "plt.show()"
   ]
  },
  {
   "cell_type": "markdown",
   "id": "4856c162-08ba-44ad-8b8b-ee2c6294daad",
   "metadata": {},
   "source": [
    "### How do the simulations and theory compare? Try out different values of $s$. How do the simulations compare to the asymptotic results?"
   ]
  },
  {
   "cell_type": "markdown",
   "id": "2e01da67-b7dd-4474-9859-4839275a6fb2",
   "metadata": {},
   "source": [
    "**your answer:**"
   ]
  },
  {
   "cell_type": "markdown",
   "id": "c163e2d0-d5da-4b29-909b-3563a187204d",
   "metadata": {},
   "source": [
    "## Substitution events\n",
    "\n",
    "When $N \\mu \\ll 1$ and $s \\ll 1$, an interesting phenomenon can occur. In this regime, the absorbing states ($n_a = 0$ or $n_a = N$) can be reached and are unstable because of the nonzero mutation rates. Even with small values of $\\pi_{a \\to b}$, $\\pi_{b \\to a}$, the entire population can transition from being fixed at $a$ to being fixed at $b$ or vice versa. This transition is called a substitution. The rate at which substitutions occur during neutral evolution and with selection can be computed. (For further reading, see the section on [substitution dynamics](https://bmcbioinformatics.biomedcentral.com/counter/pdf/10.1186/1471-2105-8-S6-S7.pdf#page=13) in Lässig's overview.) To get a better intuition for the substitution rate, the mutation rate is equal to the substitution rate for neutral evolution."
   ]
  },
  {
   "cell_type": "markdown",
   "id": "54204626-fda6-4fd5-9d95-fea019780f30",
   "metadata": {},
   "source": [
    "We supply a function that helps find the time intervals in which substitution events take place."
   ]
  },
  {
   "cell_type": "code",
   "execution_count": null,
   "id": "eb9cec98-ef40-43ca-8777-36c5e98bcbac",
   "metadata": {},
   "outputs": [],
   "source": [
    "def find_substitution_intervals(times, pop_history, N):\n",
    "    pop_hist_normed = pop_history / N\n",
    "    \n",
    "    # Obtain the indices of the loss events in the pop_history trajectory.\n",
    "    where_0_fix = np.where(pop_hist_normed == 0)[0]\n",
    "    num_0_fix = len(where_0_fix)\n",
    "    # There must be loss events for substitutions to occur.\n",
    "    if len(where_0_fix) == 0:\n",
    "        return\n",
    "    \n",
    "    # Obtain the indices of the fixation events in the pop_history trajectory.\n",
    "    where_1_fix = np.where(pop_hist_normed == 1)[0]\n",
    "    num_1_fix = len(where_1_fix)\n",
    "    # There must be fixation events for substitutions to occur.\n",
    "    if len(where_1_fix) == 0:\n",
    "        return\n",
    "    \n",
    "    # Concatenate the indices of where the loss and fixation events\n",
    "    # occur in the population histories.\n",
    "    where_concat = np.concatenate([where_0_fix, where_1_fix])\n",
    "    \n",
    "    # Get the positions of the sorted trajectory indices.\n",
    "    # This essentially weaves the loss and fixation trajectory\n",
    "    # indices together and will be used to find substitution events.\n",
    "    where_concat_argsort = np.argsort(where_concat)\n",
    "    \n",
    "    # Obtain the sorted trajectory indices of when loss and fixation\n",
    "    # events occured.\n",
    "    where_concat_sort = where_concat[where_concat_argsort]\n",
    "    \n",
    "    # A substitution event has occurred when the difference in positions\n",
    "    # is greater than one.\n",
    "    substitutions = np.where(np.diff(where_concat_argsort) != 1)[0]\n",
    "    \n",
    "    # Obtain the times at which absorbing states are observed.\n",
    "    fix_event_times = times[where_concat_sort]\n",
    "    \n",
    "    # Obtain the starting times (column 0) and ending times (column 1)\n",
    "    # of substitution events.\n",
    "    substitution_intervals = np.array([fix_event_times[substitutions],\n",
    "                                        fix_event_times[substitutions + 1]]).T\n",
    "    \n",
    "    return substitution_intervals"
   ]
  },
  {
   "cell_type": "markdown",
   "id": "5ea64c4a-41c0-4a66-bdeb-f7187301167a",
   "metadata": {},
   "source": [
    "### Set $N = 100$. Run the simulation once with $n_a = 50$, $s = 0.01$, and $\\mu = 0.001$. Set $T = 10000$. Plot the trajectory and label the substitution events."
   ]
  },
  {
   "cell_type": "code",
   "execution_count": null,
   "id": "03f9c6d4-7402-44e7-9dd3-9a77c058e740",
   "metadata": {},
   "outputs": [],
   "source": [
    "fig, ax = plt.subplots()\n",
    "\n",
    "N = 100\n",
    "num_a = 50\n",
    "s = 0.01\n",
    "mu = 0.001\n",
    "T = 10000\n",
    "\n",
    "times, pop_history = sel_mut_moran(N, num_a, s, mu, T)\n",
    "substitution_intervals = find_substitution_intervals(times, pop_history, N)\n",
    "\n",
    "ax.plot(times, pop_history)\n",
    "\n",
    "if substitution_intervals is not None:\n",
    "    for interval in substitution_intervals:\n",
    "        ax.fill_between(interval, 0, N, alpha=0.3,\n",
    "                        color='k', zorder=10, linewidth=0)\n",
    "\n",
    "plt.tight_layout()\n",
    "plt.show()"
   ]
  },
  {
   "cell_type": "markdown",
   "id": "97250f3c-88f4-4339-bb40-796ac6f46cc9",
   "metadata": {},
   "source": [
    "### Set $s=0$. Do you still see substitution events? What's the highest you can set $s$ before you stop seeing substitution events? Why is that?"
   ]
  },
  {
   "cell_type": "markdown",
   "id": "d7225b64-b0dc-495d-9cd7-f0eb21c5d0e0",
   "metadata": {},
   "source": [
    "**your answer:**"
   ]
  },
  {
   "cell_type": "markdown",
   "id": "1faf65bc-7c16-49d3-96b2-d52d357c4156",
   "metadata": {},
   "source": [
    "### If $N \\mu \\ll 1$ does not hold, what happens to substitution events?"
   ]
  },
  {
   "cell_type": "markdown",
   "id": "6a24e744-c5ad-463c-80d7-a86ddbfeb59b",
   "metadata": {},
   "source": [
    "**your answer:**"
   ]
  },
  {
   "cell_type": "markdown",
   "id": "1cbeb9b4-dd60-42e3-ade1-4958d1eec64f",
   "metadata": {},
   "source": [
    "### Run the simulation $1000$ times with $N=100$, $n_a(0) = 50$, $s = 0$, and $\\mu = 0.001$. Set $T = 10000$. Obtain the differences between the start of substitution events if substitution events occurred."
   ]
  },
  {
   "cell_type": "code",
   "execution_count": null,
   "id": "f646fb1a-d60c-4b7f-a6d6-a4af288d214a",
   "metadata": {},
   "outputs": [],
   "source": [
    "num_runs = 1000\n",
    "time_between_subs = []\n",
    "\n",
    "N = 100\n",
    "num_a = 50\n",
    "s = 0\n",
    "mu = 0.001\n",
    "T = 10000\n",
    "\n",
    "for _ in range(num_runs):\n",
    "    times, pop_history = sel_mut_moran(N, num_a, s, mu, T)\n",
    "    substitution_intervals = find_substitution_intervals(times, pop_history, N)\n",
    "    if substitution_intervals is not None:\n",
    "        time_between_subs.append(np.diff(substitution_intervals, axis=0)[:, 0])\n",
    "        \n",
    "time_between_subs = np.concatenate(time_between_subs)"
   ]
  },
  {
   "cell_type": "markdown",
   "id": "086633c2-0612-4397-a082-d83ac2debb9c",
   "metadata": {},
   "source": [
    "### Plot a histogram of the interarrival times between substitution events. Plot the expected time between substitution events as a vertical dashed line."
   ]
  },
  {
   "cell_type": "code",
   "execution_count": null,
   "id": "23f5a8c9-5d54-45e9-88de-6119c8143321",
   "metadata": {},
   "outputs": [],
   "source": [
    "fig, ax = plt.subplots()\n",
    "\n",
    "ax.hist(time_between_subs, label='simulation', density=True, bins=50)\n",
    "ax.axvline(1/mu, color='k', linestyle='--', zorder=10, label='$\\mu^{-1}$')\n",
    "\n",
    "text = ('$\\\\langle t \\\\rangle = ' + str(np.round(np.mean(time_between_subs), 4)) + '$\\n'\n",
    "            + '$\\sigma(t) = ' + str(np.round(np.std(time_between_subs), 4)) + '$')\n",
    "ax.annotate(text, xy=(0.6, 0.3), color='black', xycoords='axes fraction')\n",
    "\n",
    "ax.set_xlabel('time between substitutions')\n",
    "ax.set_ylabel('PDF')\n",
    "\n",
    "ax.legend()\n",
    "\n",
    "plt.tight_layout()\n",
    "plt.show()"
   ]
  },
  {
   "cell_type": "markdown",
   "id": "20b68acb-e9a8-4121-ae67-bb6ca766fb9b",
   "metadata": {},
   "source": [
    "### Roughly what kind of distribution is this? Justify your answer."
   ]
  },
  {
   "cell_type": "markdown",
   "id": "982a85ec-b704-4796-8459-8a0ccb0ca162",
   "metadata": {},
   "source": [
    "**your answer:**"
   ]
  }
 ],
 "metadata": {
  "kernelspec": {
   "display_name": "biophys",
   "language": "python",
   "name": "biophys"
  },
  "language_info": {
   "codemirror_mode": {
    "name": "ipython",
    "version": 3
   },
   "file_extension": ".py",
   "mimetype": "text/x-python",
   "name": "python",
   "nbconvert_exporter": "python",
   "pygments_lexer": "ipython3",
   "version": "3.8.10"
  }
 },
 "nbformat": 4,
 "nbformat_minor": 5
}
